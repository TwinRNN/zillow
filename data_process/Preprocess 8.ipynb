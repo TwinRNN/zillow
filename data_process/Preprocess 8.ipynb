{
 "cells": [
  {
   "cell_type": "code",
   "execution_count": 142,
   "metadata": {
    "collapsed": true
   },
   "outputs": [],
   "source": [
    "file_name = '1_all_1.csv'"
   ]
  },
  {
   "cell_type": "code",
   "execution_count": 143,
   "metadata": {
    "collapsed": true
   },
   "outputs": [],
   "source": [
    "import pandas as pd\n",
    "from datetime import datetime\n",
    "import matplotlib.pyplot as plt\n",
    "import numpy as np\n",
    "import re\n",
    "from pandas import DataFrame, Series\n",
    "import pickle"
   ]
  },
  {
   "cell_type": "code",
   "execution_count": 144,
   "metadata": {},
   "outputs": [],
   "source": [
    "temp = pd.read_csv(file_name)"
   ]
  },
  {
   "cell_type": "code",
   "execution_count": 145,
   "metadata": {},
   "outputs": [
    {
     "data": {
      "text/plain": [
       "(226328, 64)"
      ]
     },
     "execution_count": 145,
     "metadata": {},
     "output_type": "execute_result"
    }
   ],
   "source": [
    "temp.shape"
   ]
  },
  {
   "cell_type": "code",
   "execution_count": 146,
   "metadata": {
    "collapsed": true
   },
   "outputs": [],
   "source": [
    "temp.index = temp['Unnamed: 0']"
   ]
  },
  {
   "cell_type": "code",
   "execution_count": 147,
   "metadata": {
    "collapsed": true
   },
   "outputs": [],
   "source": [
    "temp.drop('Unnamed: 0', axis=1, inplace=True)"
   ]
  },
  {
   "cell_type": "code",
   "execution_count": 148,
   "metadata": {
    "collapsed": true
   },
   "outputs": [],
   "source": [
    "temp.drop('address', axis=1, inplace=True)"
   ]
  },
  {
   "cell_type": "code",
   "execution_count": 149,
   "metadata": {
    "collapsed": true
   },
   "outputs": [],
   "source": [
    "temp.drop('MLSAreaMajor', inplace=True, axis=1)"
   ]
  },
  {
   "cell_type": "code",
   "execution_count": 150,
   "metadata": {
    "collapsed": true
   },
   "outputs": [],
   "source": [
    "temp.drop('rid', axis=1, inplace=True)"
   ]
  },
  {
   "cell_type": "code",
   "execution_count": 151,
   "metadata": {
    "collapsed": true
   },
   "outputs": [],
   "source": [
    "temp.drop('City', axis=1, inplace=True)"
   ]
  },
  {
   "cell_type": "code",
   "execution_count": 152,
   "metadata": {
    "collapsed": true
   },
   "outputs": [],
   "source": [
    "done = temp.loc[:,['sold_date', 'price', 'detail_url', 'city', 'zipcode']]\n",
    "homes_df = DataFrame(done)"
   ]
  },
  {
   "cell_type": "code",
   "execution_count": 153,
   "metadata": {},
   "outputs": [
    {
     "name": "stdout",
     "output_type": "stream",
     "text": [
      "LaundryFeatures             0.096700\n",
      "RoomType                    0.103673\n",
      "StreetSuffix                0.107410\n",
      "PreviousStandardStatus      0.116079\n",
      "YearBuiltSource             0.116406\n",
      "LotSizeSource               0.118147\n",
      "ElevationUnits              0.120374\n",
      "LotFeatures                 0.122711\n",
      "LivingAreaUnits             0.123573\n",
      "WaterSource                 0.125455\n",
      "HighSchoolDistrict          0.125477\n",
      "StateOrProvince             0.125915\n",
      "StandardStatus              0.125915\n",
      "SpecialListingConditions    0.126816\n",
      "CommunityFeatures           0.127443\n",
      "Amenities                   0.132326\n",
      "Levels                      0.132661\n",
      "Unit floor #                0.142112\n",
      "CommonWalls                 0.142643\n",
      "Middle school               0.148992\n",
      "Materials                   0.156057\n",
      "PropertyType                0.161871\n",
      "Elementary school           0.168097\n",
      "High school                 0.181851\n",
      "Baths                       0.199109\n",
      "Yard                        0.220326\n",
      "View                        0.250941\n",
      "HOA Fee                     0.274345\n",
      "Water                       0.308274\n",
      "Patio                       0.333246\n",
      "Lot width                   0.343974\n",
      "Lot depth                   0.353041\n",
      "Exterior material           0.364131\n",
      "School district             0.364272\n",
      "Room count                  0.382418\n",
      "Spaces                      0.384363\n",
      "Structure type              0.451897\n",
      "Roof type                   0.466716\n",
      "Other Interior Features     0.504171\n",
      "Appliances included         0.511541\n",
      "Flooring                    0.576844\n",
      "Last remodel year           0.596846\n",
      "Cooling                     0.695592\n",
      "Heating                     0.799477\n",
      "Stories                     0.806396\n",
      "Parking                     0.849930\n",
      "Lot                         0.911964\n",
      "Unit count                  0.957950\n",
      "Dates                       0.999757\n",
      "Beds                        1.000000\n",
      "Type and Style              1.000000\n",
      "Floor size                  1.000000\n",
      "_id                         1.000000\n",
      "sold_date                   1.000000\n",
      "city                        1.000000\n",
      "detail_url                  1.000000\n",
      "size                        1.000000\n",
      "price                       1.000000\n",
      "zipcode                     1.000000\n",
      "dtype: float64\n"
     ]
    }
   ],
   "source": [
    "ratio = temp.count() * 1.0 / len(temp)\n",
    "print ratio.sort_values()"
   ]
  },
  {
   "cell_type": "markdown",
   "metadata": {},
   "source": [
    "# Type and Style"
   ]
  },
  {
   "cell_type": "code",
   "execution_count": 154,
   "metadata": {
    "collapsed": true
   },
   "outputs": [],
   "source": [
    "temp_new = pd.get_dummies(temp, columns=['Type and Style'])"
   ]
  },
  {
   "cell_type": "code",
   "execution_count": 155,
   "metadata": {
    "collapsed": true
   },
   "outputs": [],
   "source": [
    "homes_df[temp_new.columns[-10:]] = temp_new.iloc[:, -10:]"
   ]
  },
  {
   "cell_type": "markdown",
   "metadata": {},
   "source": [
    "# size"
   ]
  },
  {
   "cell_type": "code",
   "execution_count": 156,
   "metadata": {
    "collapsed": true
   },
   "outputs": [],
   "source": [
    "homes_df['size'] = temp['size']"
   ]
  },
  {
   "cell_type": "markdown",
   "metadata": {},
   "source": [
    "# Floor size"
   ]
  },
  {
   "cell_type": "code",
   "execution_count": 157,
   "metadata": {},
   "outputs": [
    {
     "data": {
      "text/plain": [
       "Unnamed: 0\n",
       "1    1,057 sqft\n",
       "2      680 sqft\n",
       "3    1,188 sqft\n",
       "4    1,266 sqft\n",
       "5    1,198 sqft\n",
       "6    1,500 sqft\n",
       "Name: Floor size, dtype: object"
      ]
     },
     "execution_count": 157,
     "metadata": {},
     "output_type": "execute_result"
    }
   ],
   "source": [
    "temp['Floor size'][:6]"
   ]
  },
  {
   "cell_type": "code",
   "execution_count": 158,
   "metadata": {
    "collapsed": true
   },
   "outputs": [],
   "source": [
    "temp.drop('Floor size', axis=1, inplace=True)"
   ]
  },
  {
   "cell_type": "markdown",
   "metadata": {},
   "source": [
    "# Beds"
   ]
  },
  {
   "cell_type": "code",
   "execution_count": 159,
   "metadata": {},
   "outputs": [
    {
     "data": {
      "text/plain": [
       "count    226328.000000\n",
       "mean          3.065034\n",
       "std           0.977344\n",
       "min           1.000000\n",
       "25%           2.000000\n",
       "50%           3.000000\n",
       "75%           4.000000\n",
       "max          12.000000\n",
       "Name: Beds, dtype: float64"
      ]
     },
     "execution_count": 159,
     "metadata": {},
     "output_type": "execute_result"
    }
   ],
   "source": [
    "temp.Beds.describe()"
   ]
  },
  {
   "cell_type": "code",
   "execution_count": 160,
   "metadata": {
    "collapsed": true
   },
   "outputs": [],
   "source": [
    "homes_df['Beds'] = temp.Beds"
   ]
  },
  {
   "cell_type": "markdown",
   "metadata": {},
   "source": [
    "# Dates"
   ]
  },
  {
   "cell_type": "code",
   "execution_count": 161,
   "metadata": {
    "collapsed": true
   },
   "outputs": [],
   "source": [
    "date = temp.Dates.dropna()"
   ]
  },
  {
   "cell_type": "code",
   "execution_count": 162,
   "metadata": {
    "collapsed": true
   },
   "outputs": [],
   "source": [
    "date = date.map(lambda x: int(x[-6: -2]))"
   ]
  },
  {
   "cell_type": "code",
   "execution_count": 163,
   "metadata": {
    "collapsed": true
   },
   "outputs": [],
   "source": [
    "homes_df['built_date'] = date"
   ]
  },
  {
   "cell_type": "markdown",
   "metadata": {},
   "source": [
    "# Unit count"
   ]
  },
  {
   "cell_type": "markdown",
   "metadata": {},
   "source": [
    "## Waiting: 不懂含意 数值情况很奇怪"
   ]
  },
  {
   "cell_type": "code",
   "execution_count": 164,
   "metadata": {
    "collapsed": true
   },
   "outputs": [],
   "source": [
    "to_do = ['Unit count']"
   ]
  },
  {
   "cell_type": "code",
   "execution_count": 165,
   "metadata": {
    "collapsed": true
   },
   "outputs": [],
   "source": [
    "homes_df['unit_count'] = temp['Unit count']"
   ]
  },
  {
   "cell_type": "markdown",
   "metadata": {},
   "source": [
    "# Lot"
   ]
  },
  {
   "cell_type": "markdown",
   "metadata": {},
   "source": [
    "## Waiting: 异常值"
   ]
  },
  {
   "cell_type": "code",
   "execution_count": 166,
   "metadata": {
    "collapsed": true
   },
   "outputs": [],
   "source": [
    "lot = temp.Lot.dropna()"
   ]
  },
  {
   "cell_type": "code",
   "execution_count": 167,
   "metadata": {
    "collapsed": true
   },
   "outputs": [],
   "source": [
    "def cleanLot(x):\n",
    "    c =x.split(' ')\n",
    "    num = float(filter(str.isdigit, c[0]))\n",
    "    if c[1] == 'sqft':\n",
    "        return num\n",
    "    elif c[1].find('acre') != -1:\n",
    "        return 43560 * num\n",
    "    else:\n",
    "        print x\n",
    "        return np.nan"
   ]
  },
  {
   "cell_type": "code",
   "execution_count": 168,
   "metadata": {
    "collapsed": true
   },
   "outputs": [],
   "source": [
    "lot = lot.map(cleanLot)"
   ]
  },
  {
   "cell_type": "code",
   "execution_count": 169,
   "metadata": {
    "collapsed": true
   },
   "outputs": [],
   "source": [
    "homes_df['lot'] = lot"
   ]
  },
  {
   "cell_type": "code",
   "execution_count": 170,
   "metadata": {
    "collapsed": true
   },
   "outputs": [],
   "source": [
    "to_do.append('lot')"
   ]
  },
  {
   "cell_type": "markdown",
   "metadata": {},
   "source": [
    "# Parking"
   ]
  },
  {
   "cell_type": "code",
   "execution_count": 171,
   "metadata": {
    "collapsed": true
   },
   "outputs": [],
   "source": [
    "parking = temp.Parking.dropna()"
   ]
  },
  {
   "cell_type": "code",
   "execution_count": 172,
   "metadata": {
    "collapsed": true
   },
   "outputs": [],
   "source": [
    "def cleanParkingSpace(x):\n",
    "    c = x.split(', ')\n",
    "    has_num = False\n",
    "    for cc in c:\n",
    "        matchObj = re.match('(\\d+) sqft.*', cc)\n",
    "        if matchObj:\n",
    "            has_num = True\n",
    "            return int(matchObj.group(1))\n",
    "    if has_num == False:\n",
    "        return np.nan"
   ]
  },
  {
   "cell_type": "code",
   "execution_count": 173,
   "metadata": {
    "collapsed": true
   },
   "outputs": [],
   "source": [
    "space = parking.map(cleanParkingSpace)"
   ]
  },
  {
   "cell_type": "code",
   "execution_count": 174,
   "metadata": {
    "collapsed": true
   },
   "outputs": [],
   "source": [
    "def cleanParkingNum(x):\n",
    "    c = x.split(', ')\n",
    "    has_num = False\n",
    "    for cc in c:\n",
    "        matchObj = re.match('(\\d+) space.*', cc)\n",
    "        if matchObj:\n",
    "            has_num = True\n",
    "            return int(matchObj.group(1))\n",
    "    if has_num == False:\n",
    "        return np.nan"
   ]
  },
  {
   "cell_type": "code",
   "execution_count": 175,
   "metadata": {
    "collapsed": true
   },
   "outputs": [],
   "source": [
    "num = parking.map(cleanParkingNum)"
   ]
  },
  {
   "cell_type": "code",
   "execution_count": 176,
   "metadata": {
    "collapsed": true
   },
   "outputs": [],
   "source": [
    "homes_df['garage_num'] = num"
   ]
  },
  {
   "cell_type": "markdown",
   "metadata": {},
   "source": [
    "# Stories"
   ]
  },
  {
   "cell_type": "code",
   "execution_count": 177,
   "metadata": {
    "collapsed": true
   },
   "outputs": [],
   "source": [
    "import types\n",
    "def cleanStories(x):\n",
    "    if type(x) is types.StringType:\n",
    "        c = x.split()\n",
    "        if str.isdigit(c[0]):\n",
    "            num = int(c[0])\n",
    "            if num == 0:\n",
    "                return 1\n",
    "            else: \n",
    "                return num\n",
    "        else:\n",
    "            if c[0] == 'One':\n",
    "                return 1\n",
    "            elif c[0] == 'Upper':\n",
    "                return 1\n",
    "            elif c[0] == 'Tri-Level':\n",
    "                return 3\n",
    "            elif re.match('(\\d+)(\\.\\d+)*', x):\n",
    "                matchObj = re.match('(\\d+)\\.\\d+', x)\n",
    "                num = int(matchObj.group(1))\n",
    "                if num == 0:\n",
    "                    return 1\n",
    "                else:\n",
    "                    return num\n",
    "            else:\n",
    "                print c\n",
    "                return 0\n",
    "    else:\n",
    "        return int(x)"
   ]
  },
  {
   "cell_type": "code",
   "execution_count": 178,
   "metadata": {
    "collapsed": true
   },
   "outputs": [],
   "source": [
    "stories = temp.Stories.dropna()"
   ]
  },
  {
   "cell_type": "code",
   "execution_count": 179,
   "metadata": {
    "collapsed": true
   },
   "outputs": [],
   "source": [
    "stories[stories == 0] = 1"
   ]
  },
  {
   "cell_type": "code",
   "execution_count": 180,
   "metadata": {
    "collapsed": true,
    "scrolled": true
   },
   "outputs": [],
   "source": [
    "stories_new = stories.map(cleanStories)"
   ]
  },
  {
   "cell_type": "code",
   "execution_count": 181,
   "metadata": {},
   "outputs": [
    {
     "data": {
      "text/plain": [
       "Unnamed: 0\n",
       "16617    225\n",
       "Name: Stories, dtype: object"
      ]
     },
     "execution_count": 181,
     "metadata": {},
     "output_type": "execute_result"
    }
   ],
   "source": [
    "stories[stories_new == 225]"
   ]
  },
  {
   "cell_type": "code",
   "execution_count": 182,
   "metadata": {
    "collapsed": true
   },
   "outputs": [],
   "source": [
    "stories_new[stories_new == 225] = np.nan"
   ]
  },
  {
   "cell_type": "code",
   "execution_count": 183,
   "metadata": {
    "collapsed": true
   },
   "outputs": [],
   "source": [
    "homes_df['stories'] = stories_new"
   ]
  },
  {
   "cell_type": "markdown",
   "metadata": {},
   "source": [
    "# Heating"
   ]
  },
  {
   "cell_type": "code",
   "execution_count": 184,
   "metadata": {},
   "outputs": [
    {
     "name": "stdout",
     "output_type": "stream",
     "text": [
      "175397\n",
      "defaultdict(<type 'int'>, {'Forced air': 23072, 'Wall Furnace': 2, 'Natural Gas': 179, 'Heating - 2+ Zones': 2, 'Gravity': 43, 'Central Forced Air': 4, 'Wall Gas': 4, 'Other': 50656, 'Energy Star': 39, 'High Efficiency': 70, 'See Remarks': 164, 'Heat Pump': 9, 'Oil': 14, 'Electric': 4418, 'Combination': 37, 'Propane': 9, 'Kerosene': 1, 'Gas': 31130, 'Baseboard': 180, 'Hot Water Circulator': 2, 'Solar': 874, 'Wall Heater': 1707, 'Fireplace': 271, 'Cent Forced Air': 2, 'Woodstove': 3, 'Heat pump': 361, 'None': 27407, 'Central': 5647, 'Propane Gas': 1, 'Central Forced Heat': 1, 'Pellet Stove': 1, 'Radiant': 678, 'Stove - Wood': 1, 'Coal': 13, 'Floor Furnace': 746, 'Space Heater': 11, 'Solar Heat Passive': 1, 'Wood Burn. Stove': 1, 'FAG': 1, 'Central Forced Air - Gas': 4, 'Wall Electric': 2, 'Wood Stove': 11, 'Humidity Control': 3, 'Forced Air': 320, 'Propane butane': 176, 'Zoned': 104, 'Wall': 20216, 'Pellet': 6, 'Stove': 249, 'Natural Gas Heat': 1, 'Dual Pack': 1, 'Propane Wall': 1, 'Wood': 16, 'Solar Heat Other': 2, 'Wood / pellet': 792, 'Central Furnace': 16349, 'Gravity Heating': 8})\n"
     ]
    }
   ],
   "source": [
    "from collections import defaultdict\n",
    "heating = temp.Heating.dropna()\n",
    "s = defaultdict(int)\n",
    "for i in range(len(heating)):\n",
    "    items = heating.iloc[i].split(', ')\n",
    "    for item in items:\n",
    "        if item == 'Kerosene':\n",
    "            print i \n",
    "        s[item] += 1\n",
    "print s"
   ]
  },
  {
   "cell_type": "code",
   "execution_count": 185,
   "metadata": {
    "collapsed": true
   },
   "outputs": [],
   "source": [
    "# air heating system:'Forced air', 'Central Forced Air' ,'Cent Forced Air', 'Forced Air', \n",
    "##'Central Forced Air - Gas'\n",
    "\n",
    "# Furnace:'Wall Furnace' 'Fireplace' 'Floor Furnace','Central Furnace'\n",
    "\n",
    "# Gas: 'Natural Gas', 'Wall Gas', 'Gas', 'Central Forced Air - Gas', 'Natural Gas Heat'\n",
    "\n",
    "# 'Gravity', 'Gravity Heating'\n",
    "\n",
    "#'Heat Pump' 'Heat pump'\n",
    "\n",
    "# 'Oil'\n",
    "\n",
    "# 'Electric', 'Wall Electric'\n",
    "\n",
    "# propane: 丙烷\n",
    "## 'Propane', 'Propane Gas', 'Propane butane', 'Propane Wall'\n",
    "\n",
    "# butane: 丁烷 'Propane butane'\n",
    "\n",
    "# 'Kerosene'：煤油'Kerosene'\n",
    "\n",
    "# 'Baseboard'\n",
    "\n",
    "# 'Solar', 'Solar Heat Passive', 'Solar Heat Other'\n",
    "\n",
    "# stove:'Woodstove', 'Pellet Stove', 'Stove - Wood', 'Wood Burn. Stove', 'Wood Stove', \n",
    "##'Wood', 'Wood / pellet', 'pellet', Pellet, Stove'\n",
    "\n",
    "# 'Radiant'\n",
    "\n",
    "# 'Coal'\n",
    "\n",
    "# 'Energy Star' ,'High Efficiency'\n",
    "#---------------------------------------------------------------------------------------\n",
    "# 'Zoned', 'Heating - 2+ Zones'\n",
    "\n",
    "# Cental: 'Central', 'Central Furnace', 'Central Forced Air', 'Central Forced Heat','Central Forced Air - Gas'\n",
    "\n",
    "# Floor: 'Floor Furnace', Baseboard'\n",
    "\n",
    "# Wall: 'Wall Heater', 'Wall Electric', ‘Wall', 'Propane Wall', 'Wall Furnace', 'Wall Gas'\n",
    "\n",
    "# 'Combination'\n",
    "\n",
    "# 'None'\n",
    "\n",
    "#'Other', 'Solar Heat Other' 'Humidity Control', 'FAG', 'Space Heater', 'Hot Water Circulator'\n",
    "heating_system = ['air', 'furnace', 'gas', 'gravity', 'pump', 'oil', 'electric', 'propane', 'kerosene', 'baseboard',\n",
    "                 'solar', 'stove', 'radiant', 'coal', 'high_efficiency', \n",
    "                 'zoned', 'central', 'floor', 'wall', 'combination', 'none', 'other']\n",
    "\n",
    "heating_system = {\n",
    "    'air' : ['Forced air', 'Central Forced Air' ,'Cent Forced Air', 'Forced Air', 'Central Forced Air - Gas'],\n",
    "    'furnace' : ['Wall Furnace' 'Fireplace' 'Floor Furnace','Central Furnace'],\n",
    "    'gas' : ['Natural Gas', 'Wall Gas', 'Gas', 'Central Forced Air - Gas', 'Natural Gas Heat'],\n",
    "    'gravity' : ['Gravity', 'Gravity Heating'],\n",
    "    'pump' : ['Heat Pump','Heat pump'],\n",
    "    'oil' : ['Oil'],\n",
    "    'electric' : ['Electric', 'Wall Electric'],\n",
    "    'propane' : ['Propane', 'Propane Gas', 'Propane butane', 'Propane Wall'],\n",
    "    'kerosene' : ['Kerosene'],\n",
    "    'baseborad' : ['Baseboard'],\n",
    "    'solar' : ['Solar', 'Solar Heat Passive', 'Solar Heat Other'],\n",
    "    'stove' : ['Woodstove', 'Pellet Stove', 'Stove - Wood', 'Wood Burn. Stove', 'Wood Stove', \n",
    "         'Wood', 'Wood / pellet', 'pellet', 'Pellet', 'Stove'],\n",
    "    'radiant' : ['Radiant'],\n",
    "    'coal' : ['Coal'],\n",
    "    'high_efficiency' : ['Energy Star' ,'High Efficiency'],\n",
    "    'zoned' : ['Zoned', 'Heating - 2+ Zones'],\n",
    "    'central' : ['Central', 'Central Furnace', 'Central Forced Air', 'Central Forced Heat','Central Forced Air - Gas'],\n",
    "    'floor' : ['Floor Furnace', 'Baseboard'],\n",
    "    'wall' : ['Wall Heater', 'Wall Electric', 'Wall', 'Propane Wall', 'Wall Furnace', 'Wall Gas'],\n",
    "    'combination' : ['Combination'],\n",
    "    'none' : ['None'],\n",
    "    'other' : ['Other', 'Hot Water Circulator', 'FAG', 'Humidity Control', 'Solar Heat Other', 'Space Heater']}"
   ]
  },
  {
   "cell_type": "code",
   "execution_count": 186,
   "metadata": {
    "collapsed": true
   },
   "outputs": [],
   "source": [
    "heating_df = DataFrame()\n",
    "for heating_way in heating_system.keys():\n",
    "    def cleanheating(x):\n",
    "        c = x.split(', ')\n",
    "        for cc in c:\n",
    "            if cc in heating_system[heating_way]:\n",
    "                return 1\n",
    "        return 0\n",
    "                      \n",
    "    heating_new = heating.map(cleanheating)\n",
    "    heating_df['heat_' + heating_way] = heating_new\n"
   ]
  },
  {
   "cell_type": "code",
   "execution_count": 187,
   "metadata": {
    "collapsed": true
   },
   "outputs": [],
   "source": [
    "homes_df[heating_df.columns] = heating_df"
   ]
  },
  {
   "cell_type": "code",
   "execution_count": 188,
   "metadata": {},
   "outputs": [
    {
     "data": {
      "text/plain": [
       "(226328, 44)"
      ]
     },
     "execution_count": 188,
     "metadata": {},
     "output_type": "execute_result"
    }
   ],
   "source": [
    "homes_df.shape"
   ]
  },
  {
   "cell_type": "code",
   "execution_count": 189,
   "metadata": {
    "collapsed": true
   },
   "outputs": [],
   "source": [
    "homes_df[heating_df.columns] = homes_df[heating_df.columns].fillna(0)"
   ]
  },
  {
   "cell_type": "code",
   "execution_count": 190,
   "metadata": {
    "collapsed": true
   },
   "outputs": [],
   "source": [
    "homes_df.drop('heat_none', axis=1, inplace=True)"
   ]
  },
  {
   "cell_type": "markdown",
   "metadata": {},
   "source": [
    "# Cooling"
   ]
  },
  {
   "cell_type": "code",
   "execution_count": 191,
   "metadata": {},
   "outputs": [
    {
     "name": "stdout",
     "output_type": "stream",
     "text": [
      "defaultdict(<type 'int'>, {'Ceiling Fan': 13, 'Central Air': 1, 'Multi/Zone': 62, 'Evaporative': 915, 'Attic Fan': 17, 'Central Forced Air': 6, 'Other': 4887, 'Refrigeration': 640, 'Swamp Cooler': 1, 'Energy Star': 96, 'Whole House Fan': 131, 'See Remarks': 828, 'Multi-Zone': 1, 'Dual Pack': 1, 'Electric': 533, 'Gas': 320, 'Air Conditioning': 1, 'High Efficiency': 143, 'Geothermal': 18, 'Whole House / Attic Fan': 1, 'SEER Rated 13-15': 41, 'Solar': 1145, 'Central Forced Air - Gas': 3, 'Window Air': 1, 'Evaporative Cooler': 1, 'None': 21761, 'Central': 125264, 'SEER Rated 16+': 17, 'Refrigerated Air': 1, 'Swamp Cooler(s)': 12, 'Humidity Control': 1, 'Zoned': 6, 'Wall': 5006, 'Window Unit(s)': 72, 'Room Refrig Air': 1, 'Dual': 351, 'Wall Window': 7})\n"
     ]
    }
   ],
   "source": [
    "cooling = temp.Cooling.dropna()\n",
    "s_cooling = defaultdict(int)\n",
    "for i in range(len(cooling)):\n",
    "    items = cooling.iloc[i].split(', ')\n",
    "    for item in items:\n",
    "        s_cooling[item] += 1\n",
    "print s_cooling"
   ]
  },
  {
   "cell_type": "code",
   "execution_count": 192,
   "metadata": {
    "collapsed": true
   },
   "outputs": [],
   "source": [
    "cooling_system = {\n",
    "    'fan': ['Ceiling Fan', 'Attic Fan', 'Whole House Fan', 'Whole House / Attic Fan'],\n",
    "    'air': ['Central Forced Air', 'Central Forced Air - Gas'  ],\n",
    "    'zone': ['Multi/Zone', 'Multi-Zone', 'Zoned'],\n",
    "    'evaporative': ['Evaporative',  'Evaporative Cooler'],\n",
    "    'other': ['Other'],\n",
    "    'air_conditioning': ['Central Air', 'Refrigeration', 'Refrigerated Air', \n",
    "                         'Room Refrig Air', 'Window Air', 'Air Conditioning'],\n",
    "    'swamp': ['Swamp Cooler', 'Swamp Cooler(s)'],\n",
    "    'high_efficiency': ['Energy Star', 'High Efficiency'],\n",
    "    'electric': ['Electric'],\n",
    "    'gas': ['Gas'],\n",
    "    'geothermal': ['Geothermal'],\n",
    "    'solar': ['Solar'],\n",
    "    'central': ['Central', 'Central Air', 'Central Forced Air', 'Central Forced Air - Gas'],\n",
    "    'wall': ['Wall', 'Wall Window'],\n",
    "}"
   ]
  },
  {
   "cell_type": "code",
   "execution_count": 193,
   "metadata": {
    "collapsed": true
   },
   "outputs": [],
   "source": [
    "cooling_df = DataFrame()\n",
    "for cooling_way in cooling_system.keys():\n",
    "    def cleanCooling(x):\n",
    "        c = x.split(', ')\n",
    "        for cc in c:\n",
    "            if cc in cooling_system[cooling_way]:\n",
    "                return 1\n",
    "        return 0\n",
    "                      \n",
    "    cooling_new = cooling.map(cleanCooling)\n",
    "    cooling_df['cool_' + cooling_way] = cooling_new\n"
   ]
  },
  {
   "cell_type": "code",
   "execution_count": 194,
   "metadata": {
    "collapsed": true
   },
   "outputs": [],
   "source": [
    "homes_df[cooling_df.columns] = cooling_df"
   ]
  },
  {
   "cell_type": "code",
   "execution_count": 195,
   "metadata": {
    "collapsed": true
   },
   "outputs": [],
   "source": [
    "homes_df[cooling_df.columns] = homes_df[cooling_df.columns].fillna(0)"
   ]
  },
  {
   "cell_type": "markdown",
   "metadata": {},
   "source": [
    "# Last remodel year"
   ]
  },
  {
   "cell_type": "code",
   "execution_count": 196,
   "metadata": {
    "collapsed": true
   },
   "outputs": [],
   "source": [
    "last = temp['Last remodel year']\n",
    "date = homes_df['built_date']\n",
    "last = last.combine_first(date)"
   ]
  },
  {
   "cell_type": "code",
   "execution_count": 197,
   "metadata": {
    "collapsed": true
   },
   "outputs": [],
   "source": [
    "homes_df['last_remodel_year'] = last"
   ]
  },
  {
   "cell_type": "markdown",
   "metadata": {},
   "source": [
    "# Flooring"
   ]
  },
  {
   "cell_type": "code",
   "execution_count": 198,
   "metadata": {
    "collapsed": true
   },
   "outputs": [],
   "source": [
    "flooring = temp.Flooring.dropna()"
   ]
  },
  {
   "cell_type": "code",
   "execution_count": 199,
   "metadata": {},
   "outputs": [
    {
     "name": "stdout",
     "output_type": "stream",
     "text": [
      "defaultdict(<type 'int'>, {'Partially Carpeted': 84, 'Wood Under Carpet': 30, 'Terrazzo': 23, 'Pavers': 24, 'Sheet Vinyl': 53, 'Parquet Wood': 27, 'Parquet': 29, 'Wood': 1863, 'Cement': 91, 'Tile': 56481, 'Granite': 39, 'Brick': 35, 'Linoleum': 171, 'See Remarks': 460, 'Stained Concrete': 3, 'Concrete Slab': 19, 'Ceramic Tile': 819, 'Slate': 1315, 'Wall-To-Wall Carpet': 41, 'Stone/Travertine': 157, 'Stone Tile': 155, 'Vinyl': 286, 'Stone': 1008, 'Travertine': 157, 'Laminate': 28509, 'Concrete': 1791, 'Vinyl/Linoleum': 246, 'Clay': 9, 'Mixed': 839, 'Wood Laminate': 34, 'Bamboo': 487, 'Marble': 180, 'Adobe': 1, 'Vinyl Tile': 89, 'Softwood': 665, 'Hardwood': 52900, 'Linoleum / Vinyl': 8149, 'Laminated': 505, 'Other': 17221, 'Pebble/Rock': 2, 'Wood/Wood Like': 761, 'Carpet': 62150})\n"
     ]
    }
   ],
   "source": [
    "s_flooring = defaultdict(int)\n",
    "for i in range(len(flooring)):\n",
    "    items = flooring.iloc[i].split(', ')\n",
    "    for item in items:\n",
    "        s_flooring[item] += 1\n",
    "print s_flooring"
   ]
  },
  {
   "cell_type": "code",
   "execution_count": 200,
   "metadata": {
    "collapsed": true
   },
   "outputs": [],
   "source": [
    "flooring_system = {\n",
    "    'carpet' : ['Partially Carpeted', 'Wood Under Carpet', 'Wall-To-Wall Carpet', 'Carpet'],\n",
    "    'linoleum' : ['Linoleum'], #油布\n",
    "    \n",
    "    'wood' : ['Wood Under Carpet', 'Parquet Wood','Parquet', 'Wood', 'Wood Laminate', 'Softwood', 'Hardwood', 'Wood/Wood Like'],\n",
    "    'softwood': ['Softwood'],\n",
    "    'hardwood': ['Hardwood'],\n",
    "    \n",
    "    'paver' : ['Pavers'], # 沥青\n",
    "    'cement' : ['Cement'],  # 水泥\n",
    "    'concerete' : ['Stained Concrete', 'Concrete Slab', 'Concrete'], # 混凝土\n",
    "    'bamboo':['Bamboo'],\n",
    "    'sheet_vinyl' : ['Sheet Vinyl', 'Vinyl', 'Vinyl/Linoleum', 'Vinyl Tile', 'Linoleum / Vinyl'],\n",
    "    'laminate': ['Laminate', 'Wood Laminate', 'Laminated'], #层压板\n",
    "    \n",
    "    'brick' : ['Brick','Clay', 'Adobe' ], # 砖\n",
    "    'terrazzo' : ['Terrazzo'],  # 水磨石\n",
    "    'granite' : ['Granite'], # 花岗岩\n",
    "    'marble': ['Marble'], #大理石\n",
    "    'slate': ['Slate', 'Stone/Travertine', 'Stone Tile', 'Stone', 'Travertine'], #石板\n",
    "    'ceramic': ['Ceramic Tile'], #瓷\n",
    "    \n",
    "    'tile' : ['Tile', 'Ceramic Tile', 'Stone Tile', 'Vinyl Tile'],\n",
    "    \n",
    "    'mixed': ['Mixed'],\n",
    "    'other': ['Other']\n",
    "    \n",
    "}"
   ]
  },
  {
   "cell_type": "code",
   "execution_count": 201,
   "metadata": {
    "collapsed": true
   },
   "outputs": [],
   "source": [
    "flooring_df = DataFrame()\n",
    "for flooring_way in flooring_system.keys():\n",
    "    def cleanFlooring(x):\n",
    "        c = x.split(', ')\n",
    "        for cc in c:\n",
    "            if cc in flooring_system[flooring_way]:\n",
    "                return 1\n",
    "        return 0\n",
    "                      \n",
    "    flooring_new = flooring.map(cleanFlooring)\n",
    "    flooring_df['floor_' + flooring_way] = flooring_new\n"
   ]
  },
  {
   "cell_type": "code",
   "execution_count": 202,
   "metadata": {
    "collapsed": true
   },
   "outputs": [],
   "source": [
    "homes_df[flooring_df.columns] = flooring_df"
   ]
  },
  {
   "cell_type": "code",
   "execution_count": 203,
   "metadata": {
    "collapsed": true
   },
   "outputs": [],
   "source": [
    "homes_df[flooring_df.columns] = homes_df[flooring_df.columns].fillna(0)"
   ]
  },
  {
   "cell_type": "markdown",
   "metadata": {},
   "source": [
    "# Appliances included"
   ]
  },
  {
   "cell_type": "code",
   "execution_count": 204,
   "metadata": {},
   "outputs": [
    {
     "name": "stdout",
     "output_type": "stream",
     "text": [
      "defaultdict(<type 'int'>, {'Dishwasher': 95644, 'Freezer': 12691, 'Microwave': 59020, 'Garbage disposal': 74474, 'Dryer': 30107, 'Refrigerator': 50610, 'Trash compactor': 5105, 'Washer': 32208, 'Range / Oven': 79589})\n"
     ]
    }
   ],
   "source": [
    "appliance = temp['Appliances included'].dropna()\n",
    "s_appliance = defaultdict(int)\n",
    "for i in range(len(appliance)):\n",
    "    items = appliance.iloc[i].split(', ')\n",
    "    for item in items:\n",
    "        s_appliance[item] += 1\n",
    "print s_appliance"
   ]
  },
  {
   "cell_type": "code",
   "execution_count": 205,
   "metadata": {
    "collapsed": true
   },
   "outputs": [],
   "source": [
    "appliance_system = ['Dishwasher', 'Freezer', 'Microwave', 'Garbage disposal', 'Dryer', 'Refrigerator', \n",
    "                    'Trash compactor', 'Washer', 'Range / Oven']"
   ]
  },
  {
   "cell_type": "code",
   "execution_count": 206,
   "metadata": {
    "collapsed": true
   },
   "outputs": [],
   "source": [
    "appliance_df = DataFrame()\n",
    "for appliance_way in appliance_system:\n",
    "    def cleanAppliance(x):\n",
    "        c = x.split(', ')\n",
    "        for cc in c:\n",
    "            if cc == appliance_way:\n",
    "                return 1\n",
    "        return 0\n",
    "                      \n",
    "    appliance_new = appliance.map(cleanAppliance)\n",
    "    appliance_df['appliance_' + appliance_way] = appliance_new"
   ]
  },
  {
   "cell_type": "code",
   "execution_count": 207,
   "metadata": {},
   "outputs": [],
   "source": [
    "homes_df[appliance_df.columns] = appliance_df\n",
    "homes_df[appliance_df.columns] = homes_df[appliance_df.columns].fillna(0)"
   ]
  },
  {
   "cell_type": "markdown",
   "metadata": {},
   "source": [
    "# Other Interior Features "
   ]
  },
  {
   "cell_type": "code",
   "execution_count": 208,
   "metadata": {},
   "outputs": [
    {
     "name": "stdout",
     "output_type": "stream",
     "text": [
      "defaultdict(<type 'int'>, {'\"Storage\"': 23122, '\"Vaulted Ceiling\"': 25217, '\"Fireplace\"': 95050, '\"Furnished\"': 996, '\"Ceiling Fan\"': 39676})\n"
     ]
    }
   ],
   "source": [
    "other = temp['Other Interior Features'].dropna()\n",
    "s_other = defaultdict(int)\n",
    "for i in range(len(other)):\n",
    "    items = other.iloc[i][1:-1].split(',')\n",
    "    for item in items:\n",
    "        s_other[item] += 1\n",
    "print s_other"
   ]
  },
  {
   "cell_type": "code",
   "execution_count": 209,
   "metadata": {
    "collapsed": true
   },
   "outputs": [],
   "source": [
    "other_system = ['\"Storage\"','\"Vaulted Ceiling\"', '\"Fireplace\"', '\"Furnished\"','\"Ceiling Fan\"' ]"
   ]
  },
  {
   "cell_type": "code",
   "execution_count": 210,
   "metadata": {
    "collapsed": true
   },
   "outputs": [],
   "source": [
    "other_df = DataFrame()\n",
    "for other_way in other_system:\n",
    "    def cleanother(x):\n",
    "        c = x[1:-1].split(',')\n",
    "        for cc in c:\n",
    "            if cc == other_way:\n",
    "                return 1\n",
    "        return 0\n",
    "                      \n",
    "    other_new = other.map(cleanother)\n",
    "    other_df['other_' + other_way] = other_new"
   ]
  },
  {
   "cell_type": "code",
   "execution_count": 211,
   "metadata": {},
   "outputs": [],
   "source": [
    "homes_df[other_df.columns] = other_df\n",
    "homes_df[other_df.columns] = homes_df[other_df.columns].fillna(0)"
   ]
  },
  {
   "cell_type": "markdown",
   "metadata": {},
   "source": [
    "# Roof type"
   ]
  },
  {
   "cell_type": "code",
   "execution_count": 212,
   "metadata": {},
   "outputs": [
    {
     "name": "stdout",
     "output_type": "stream",
     "text": [
      "defaultdict(<type 'int'>, {'Asphalt': 5391, 'Built up': 226, 'Slate': 497, 'Metal': 660, 'Shake Shingle': 6122, 'Other': 43902, 'Tile': 24644, 'Composition': 24189})\n"
     ]
    }
   ],
   "source": [
    "roof = temp['Roof type'].dropna()\n",
    "s_roof = defaultdict(int)\n",
    "for i in range(len(roof)):\n",
    "    item = roof.iloc[i]\n",
    "    s_roof[item] += 1\n",
    "print s_roof"
   ]
  },
  {
   "cell_type": "code",
   "execution_count": 213,
   "metadata": {
    "collapsed": true
   },
   "outputs": [],
   "source": [
    "roof_system = ['Asphalt','Slate', 'Metal', 'Shake Shingle', 'Tile', 'Composition']"
   ]
  },
  {
   "cell_type": "code",
   "execution_count": 214,
   "metadata": {
    "collapsed": true
   },
   "outputs": [],
   "source": [
    "roof_df = DataFrame()\n",
    "for roof_way in roof_system:\n",
    "    def cleanroof(x):\n",
    "        if x == roof_way:\n",
    "            return 1\n",
    "        return 0\n",
    "                      \n",
    "    roof_new = roof.map(cleanroof)\n",
    "    roof_df['roof_' + roof_way] = roof_new"
   ]
  },
  {
   "cell_type": "code",
   "execution_count": 215,
   "metadata": {},
   "outputs": [
    {
     "data": {
      "text/html": [
       "<div>\n",
       "<style scoped>\n",
       "    .dataframe tbody tr th:only-of-type {\n",
       "        vertical-align: middle;\n",
       "    }\n",
       "\n",
       "    .dataframe tbody tr th {\n",
       "        vertical-align: top;\n",
       "    }\n",
       "\n",
       "    .dataframe thead th {\n",
       "        text-align: right;\n",
       "    }\n",
       "</style>\n",
       "<table border=\"1\" class=\"dataframe\">\n",
       "  <thead>\n",
       "    <tr style=\"text-align: right;\">\n",
       "      <th></th>\n",
       "      <th>price</th>\n",
       "      <th>zipcode</th>\n",
       "      <th>Type and Style_[\"Apartment\"]</th>\n",
       "      <th>Type and Style_[\"Condo\"]</th>\n",
       "      <th>Type and Style_[\"Cooperative\"]</th>\n",
       "      <th>Type and Style_[\"Miscellaneous\"]</th>\n",
       "      <th>Type and Style_[\"Mobile / Manufactured\"]</th>\n",
       "      <th>Type and Style_[\"Multi Family\"]</th>\n",
       "      <th>Type and Style_[\"Multiple Occupancy\"]</th>\n",
       "      <th>Type and Style_[\"Other\"]</th>\n",
       "      <th>...</th>\n",
       "      <th>other_\"Vaulted Ceiling\"</th>\n",
       "      <th>other_\"Fireplace\"</th>\n",
       "      <th>other_\"Furnished\"</th>\n",
       "      <th>other_\"Ceiling Fan\"</th>\n",
       "      <th>roof_Asphalt</th>\n",
       "      <th>roof_Slate</th>\n",
       "      <th>roof_Metal</th>\n",
       "      <th>roof_Shake Shingle</th>\n",
       "      <th>roof_Tile</th>\n",
       "      <th>roof_Composition</th>\n",
       "    </tr>\n",
       "  </thead>\n",
       "  <tbody>\n",
       "    <tr>\n",
       "      <th>count</th>\n",
       "      <td>2.263280e+05</td>\n",
       "      <td>226328.000000</td>\n",
       "      <td>226328.000000</td>\n",
       "      <td>226328.000000</td>\n",
       "      <td>226328.000000</td>\n",
       "      <td>226328.000000</td>\n",
       "      <td>226328.000000</td>\n",
       "      <td>226328.000000</td>\n",
       "      <td>226328.000000</td>\n",
       "      <td>226328.000000</td>\n",
       "      <td>...</td>\n",
       "      <td>226328.000000</td>\n",
       "      <td>226328.000000</td>\n",
       "      <td>226328.000000</td>\n",
       "      <td>226328.000000</td>\n",
       "      <td>226328.000000</td>\n",
       "      <td>226328.000000</td>\n",
       "      <td>226328.000000</td>\n",
       "      <td>226328.000000</td>\n",
       "      <td>226328.000000</td>\n",
       "      <td>226328.000000</td>\n",
       "    </tr>\n",
       "    <tr>\n",
       "      <th>mean</th>\n",
       "      <td>6.472925e+05</td>\n",
       "      <td>91694.053683</td>\n",
       "      <td>0.000110</td>\n",
       "      <td>0.234469</td>\n",
       "      <td>0.000649</td>\n",
       "      <td>0.001286</td>\n",
       "      <td>0.002121</td>\n",
       "      <td>0.014572</td>\n",
       "      <td>0.004343</td>\n",
       "      <td>0.000243</td>\n",
       "      <td>...</td>\n",
       "      <td>0.111418</td>\n",
       "      <td>0.419966</td>\n",
       "      <td>0.004401</td>\n",
       "      <td>0.175303</td>\n",
       "      <td>0.023819</td>\n",
       "      <td>0.002196</td>\n",
       "      <td>0.002916</td>\n",
       "      <td>0.027049</td>\n",
       "      <td>0.108886</td>\n",
       "      <td>0.106876</td>\n",
       "    </tr>\n",
       "    <tr>\n",
       "      <th>std</th>\n",
       "      <td>7.149223e+05</td>\n",
       "      <td>1088.074673</td>\n",
       "      <td>0.010509</td>\n",
       "      <td>0.423668</td>\n",
       "      <td>0.025477</td>\n",
       "      <td>0.035834</td>\n",
       "      <td>0.046004</td>\n",
       "      <td>0.119831</td>\n",
       "      <td>0.065760</td>\n",
       "      <td>0.015587</td>\n",
       "      <td>...</td>\n",
       "      <td>0.314650</td>\n",
       "      <td>0.493554</td>\n",
       "      <td>0.066192</td>\n",
       "      <td>0.380227</td>\n",
       "      <td>0.152487</td>\n",
       "      <td>0.046809</td>\n",
       "      <td>0.053922</td>\n",
       "      <td>0.162227</td>\n",
       "      <td>0.311497</td>\n",
       "      <td>0.308956</td>\n",
       "    </tr>\n",
       "    <tr>\n",
       "      <th>min</th>\n",
       "      <td>1.000000e+00</td>\n",
       "      <td>90001.000000</td>\n",
       "      <td>0.000000</td>\n",
       "      <td>0.000000</td>\n",
       "      <td>0.000000</td>\n",
       "      <td>0.000000</td>\n",
       "      <td>0.000000</td>\n",
       "      <td>0.000000</td>\n",
       "      <td>0.000000</td>\n",
       "      <td>0.000000</td>\n",
       "      <td>...</td>\n",
       "      <td>0.000000</td>\n",
       "      <td>0.000000</td>\n",
       "      <td>0.000000</td>\n",
       "      <td>0.000000</td>\n",
       "      <td>0.000000</td>\n",
       "      <td>0.000000</td>\n",
       "      <td>0.000000</td>\n",
       "      <td>0.000000</td>\n",
       "      <td>0.000000</td>\n",
       "      <td>0.000000</td>\n",
       "    </tr>\n",
       "    <tr>\n",
       "      <th>25%</th>\n",
       "      <td>3.900000e+05</td>\n",
       "      <td>90720.000000</td>\n",
       "      <td>0.000000</td>\n",
       "      <td>0.000000</td>\n",
       "      <td>0.000000</td>\n",
       "      <td>0.000000</td>\n",
       "      <td>0.000000</td>\n",
       "      <td>0.000000</td>\n",
       "      <td>0.000000</td>\n",
       "      <td>0.000000</td>\n",
       "      <td>...</td>\n",
       "      <td>0.000000</td>\n",
       "      <td>0.000000</td>\n",
       "      <td>0.000000</td>\n",
       "      <td>0.000000</td>\n",
       "      <td>0.000000</td>\n",
       "      <td>0.000000</td>\n",
       "      <td>0.000000</td>\n",
       "      <td>0.000000</td>\n",
       "      <td>0.000000</td>\n",
       "      <td>0.000000</td>\n",
       "    </tr>\n",
       "    <tr>\n",
       "      <th>50%</th>\n",
       "      <td>5.300000e+05</td>\n",
       "      <td>91406.000000</td>\n",
       "      <td>0.000000</td>\n",
       "      <td>0.000000</td>\n",
       "      <td>0.000000</td>\n",
       "      <td>0.000000</td>\n",
       "      <td>0.000000</td>\n",
       "      <td>0.000000</td>\n",
       "      <td>0.000000</td>\n",
       "      <td>0.000000</td>\n",
       "      <td>...</td>\n",
       "      <td>0.000000</td>\n",
       "      <td>0.000000</td>\n",
       "      <td>0.000000</td>\n",
       "      <td>0.000000</td>\n",
       "      <td>0.000000</td>\n",
       "      <td>0.000000</td>\n",
       "      <td>0.000000</td>\n",
       "      <td>0.000000</td>\n",
       "      <td>0.000000</td>\n",
       "      <td>0.000000</td>\n",
       "    </tr>\n",
       "    <tr>\n",
       "      <th>75%</th>\n",
       "      <td>7.271000e+05</td>\n",
       "      <td>92688.000000</td>\n",
       "      <td>0.000000</td>\n",
       "      <td>0.000000</td>\n",
       "      <td>0.000000</td>\n",
       "      <td>0.000000</td>\n",
       "      <td>0.000000</td>\n",
       "      <td>0.000000</td>\n",
       "      <td>0.000000</td>\n",
       "      <td>0.000000</td>\n",
       "      <td>...</td>\n",
       "      <td>0.000000</td>\n",
       "      <td>1.000000</td>\n",
       "      <td>0.000000</td>\n",
       "      <td>0.000000</td>\n",
       "      <td>0.000000</td>\n",
       "      <td>0.000000</td>\n",
       "      <td>0.000000</td>\n",
       "      <td>0.000000</td>\n",
       "      <td>0.000000</td>\n",
       "      <td>0.000000</td>\n",
       "    </tr>\n",
       "    <tr>\n",
       "      <th>max</th>\n",
       "      <td>8.000000e+07</td>\n",
       "      <td>96161.000000</td>\n",
       "      <td>1.000000</td>\n",
       "      <td>1.000000</td>\n",
       "      <td>1.000000</td>\n",
       "      <td>1.000000</td>\n",
       "      <td>1.000000</td>\n",
       "      <td>1.000000</td>\n",
       "      <td>1.000000</td>\n",
       "      <td>1.000000</td>\n",
       "      <td>...</td>\n",
       "      <td>1.000000</td>\n",
       "      <td>1.000000</td>\n",
       "      <td>1.000000</td>\n",
       "      <td>1.000000</td>\n",
       "      <td>1.000000</td>\n",
       "      <td>1.000000</td>\n",
       "      <td>1.000000</td>\n",
       "      <td>1.000000</td>\n",
       "      <td>1.000000</td>\n",
       "      <td>1.000000</td>\n",
       "    </tr>\n",
       "  </tbody>\n",
       "</table>\n",
       "<p>8 rows × 95 columns</p>\n",
       "</div>"
      ],
      "text/plain": [
       "              price        zipcode  Type and Style_[\"Apartment\"]  \\\n",
       "count  2.263280e+05  226328.000000                 226328.000000   \n",
       "mean   6.472925e+05   91694.053683                      0.000110   \n",
       "std    7.149223e+05    1088.074673                      0.010509   \n",
       "min    1.000000e+00   90001.000000                      0.000000   \n",
       "25%    3.900000e+05   90720.000000                      0.000000   \n",
       "50%    5.300000e+05   91406.000000                      0.000000   \n",
       "75%    7.271000e+05   92688.000000                      0.000000   \n",
       "max    8.000000e+07   96161.000000                      1.000000   \n",
       "\n",
       "       Type and Style_[\"Condo\"]  Type and Style_[\"Cooperative\"]  \\\n",
       "count             226328.000000                   226328.000000   \n",
       "mean                   0.234469                        0.000649   \n",
       "std                    0.423668                        0.025477   \n",
       "min                    0.000000                        0.000000   \n",
       "25%                    0.000000                        0.000000   \n",
       "50%                    0.000000                        0.000000   \n",
       "75%                    0.000000                        0.000000   \n",
       "max                    1.000000                        1.000000   \n",
       "\n",
       "       Type and Style_[\"Miscellaneous\"]  \\\n",
       "count                     226328.000000   \n",
       "mean                           0.001286   \n",
       "std                            0.035834   \n",
       "min                            0.000000   \n",
       "25%                            0.000000   \n",
       "50%                            0.000000   \n",
       "75%                            0.000000   \n",
       "max                            1.000000   \n",
       "\n",
       "       Type and Style_[\"Mobile / Manufactured\"]  \\\n",
       "count                             226328.000000   \n",
       "mean                                   0.002121   \n",
       "std                                    0.046004   \n",
       "min                                    0.000000   \n",
       "25%                                    0.000000   \n",
       "50%                                    0.000000   \n",
       "75%                                    0.000000   \n",
       "max                                    1.000000   \n",
       "\n",
       "       Type and Style_[\"Multi Family\"]  Type and Style_[\"Multiple Occupancy\"]  \\\n",
       "count                    226328.000000                          226328.000000   \n",
       "mean                          0.014572                               0.004343   \n",
       "std                           0.119831                               0.065760   \n",
       "min                           0.000000                               0.000000   \n",
       "25%                           0.000000                               0.000000   \n",
       "50%                           0.000000                               0.000000   \n",
       "75%                           0.000000                               0.000000   \n",
       "max                           1.000000                               1.000000   \n",
       "\n",
       "       Type and Style_[\"Other\"]        ...         other_\"Vaulted Ceiling\"  \\\n",
       "count             226328.000000        ...                   226328.000000   \n",
       "mean                   0.000243        ...                        0.111418   \n",
       "std                    0.015587        ...                        0.314650   \n",
       "min                    0.000000        ...                        0.000000   \n",
       "25%                    0.000000        ...                        0.000000   \n",
       "50%                    0.000000        ...                        0.000000   \n",
       "75%                    0.000000        ...                        0.000000   \n",
       "max                    1.000000        ...                        1.000000   \n",
       "\n",
       "       other_\"Fireplace\"  other_\"Furnished\"  other_\"Ceiling Fan\"  \\\n",
       "count      226328.000000      226328.000000        226328.000000   \n",
       "mean            0.419966           0.004401             0.175303   \n",
       "std             0.493554           0.066192             0.380227   \n",
       "min             0.000000           0.000000             0.000000   \n",
       "25%             0.000000           0.000000             0.000000   \n",
       "50%             0.000000           0.000000             0.000000   \n",
       "75%             1.000000           0.000000             0.000000   \n",
       "max             1.000000           1.000000             1.000000   \n",
       "\n",
       "        roof_Asphalt     roof_Slate     roof_Metal  roof_Shake Shingle  \\\n",
       "count  226328.000000  226328.000000  226328.000000       226328.000000   \n",
       "mean        0.023819       0.002196       0.002916            0.027049   \n",
       "std         0.152487       0.046809       0.053922            0.162227   \n",
       "min         0.000000       0.000000       0.000000            0.000000   \n",
       "25%         0.000000       0.000000       0.000000            0.000000   \n",
       "50%         0.000000       0.000000       0.000000            0.000000   \n",
       "75%         0.000000       0.000000       0.000000            0.000000   \n",
       "max         1.000000       1.000000       1.000000            1.000000   \n",
       "\n",
       "           roof_Tile  roof_Composition  \n",
       "count  226328.000000     226328.000000  \n",
       "mean        0.108886          0.106876  \n",
       "std         0.311497          0.308956  \n",
       "min         0.000000          0.000000  \n",
       "25%         0.000000          0.000000  \n",
       "50%         0.000000          0.000000  \n",
       "75%         0.000000          0.000000  \n",
       "max         1.000000          1.000000  \n",
       "\n",
       "[8 rows x 95 columns]"
      ]
     },
     "execution_count": 215,
     "metadata": {},
     "output_type": "execute_result"
    }
   ],
   "source": [
    "homes_df[roof_df.columns] = roof_df\n",
    "homes_df[roof_df.columns] = homes_df[roof_df.columns].fillna(0)\n",
    "homes_df.describe()"
   ]
  },
  {
   "cell_type": "markdown",
   "metadata": {},
   "source": [
    "# Structure type"
   ]
  },
  {
   "cell_type": "code",
   "execution_count": 216,
   "metadata": {},
   "outputs": [
    {
     "name": "stdout",
     "output_type": "stream",
     "text": [
      "defaultdict(<type 'int'>, {'Tudor': 550, 'Modern': 4783, 'Loft': 330, 'Bungalow': 3778, 'Colonial': 636, 'Georgian': 37, 'Ranch': 6624, 'Pueblo style': 198, 'Contemporary': 20677, 'French': 510, 'Victorian': 82, 'Other': 51782, 'Craftsman': 2327, 'Spanish': 6663, 'Split level': 627, 'Cape cod': 2673})\n"
     ]
    }
   ],
   "source": [
    "structure = temp['Structure type'].dropna()\n",
    "s_structure = defaultdict(int)\n",
    "for i in range(len(structure)):\n",
    "    item = structure.iloc[i]\n",
    "    s_structure[item] += 1\n",
    "print s_structure"
   ]
  },
  {
   "cell_type": "code",
   "execution_count": 217,
   "metadata": {
    "collapsed": true
   },
   "outputs": [],
   "source": [
    "structure_system = ['Tudor', 'Modern', 'Loft', 'Colonial', 'Georgian', 'Ranch', 'Pueblo style', 'Contemporary', 'French', 'Victorian', 'Bungalow','Craftsman', 'Spanish', 'Split level', 'Cape cod']"
   ]
  },
  {
   "cell_type": "code",
   "execution_count": 218,
   "metadata": {
    "collapsed": true
   },
   "outputs": [],
   "source": [
    "structure_df = DataFrame()\n",
    "for structure_way in structure_system:\n",
    "    def cleanstructure(x):\n",
    "        if x == structure_way:\n",
    "            return 1\n",
    "        return 0\n",
    "                      \n",
    "    structure_new = structure.map(cleanstructure)\n",
    "    structure_df['structure_' + structure_way] = structure_new"
   ]
  },
  {
   "cell_type": "code",
   "execution_count": 219,
   "metadata": {
    "collapsed": true
   },
   "outputs": [],
   "source": [
    "homes_df[structure_df.columns] = structure_df\n",
    "homes_df[structure_df.columns] = homes_df[structure_df.columns].fillna(0)"
   ]
  },
  {
   "cell_type": "markdown",
   "metadata": {},
   "source": [
    "# Room count"
   ]
  },
  {
   "cell_type": "markdown",
   "metadata": {},
   "source": [
    "## Waiting: 异常值处理"
   ]
  },
  {
   "cell_type": "code",
   "execution_count": 220,
   "metadata": {
    "collapsed": true
   },
   "outputs": [],
   "source": [
    "room = temp['Room count'].dropna()"
   ]
  },
  {
   "cell_type": "code",
   "execution_count": 221,
   "metadata": {},
   "outputs": [
    {
     "data": {
      "text/html": [
       "<div>\n",
       "<style scoped>\n",
       "    .dataframe tbody tr th:only-of-type {\n",
       "        vertical-align: middle;\n",
       "    }\n",
       "\n",
       "    .dataframe tbody tr th {\n",
       "        vertical-align: top;\n",
       "    }\n",
       "\n",
       "    .dataframe thead th {\n",
       "        text-align: right;\n",
       "    }\n",
       "</style>\n",
       "<table border=\"1\" class=\"dataframe\">\n",
       "  <thead>\n",
       "    <tr style=\"text-align: right;\">\n",
       "      <th></th>\n",
       "      <th>Room count</th>\n",
       "      <th>Beds</th>\n",
       "    </tr>\n",
       "    <tr>\n",
       "      <th>Unnamed: 0</th>\n",
       "      <th></th>\n",
       "      <th></th>\n",
       "    </tr>\n",
       "  </thead>\n",
       "  <tbody>\n",
       "    <tr>\n",
       "      <th>23698</th>\n",
       "      <td>20.0</td>\n",
       "      <td>5</td>\n",
       "    </tr>\n",
       "    <tr>\n",
       "      <th>29857</th>\n",
       "      <td>19.0</td>\n",
       "      <td>5</td>\n",
       "    </tr>\n",
       "    <tr>\n",
       "      <th>37647</th>\n",
       "      <td>27.0</td>\n",
       "      <td>3</td>\n",
       "    </tr>\n",
       "    <tr>\n",
       "      <th>50993</th>\n",
       "      <td>62.0</td>\n",
       "      <td>2</td>\n",
       "    </tr>\n",
       "    <tr>\n",
       "      <th>61864</th>\n",
       "      <td>24.0</td>\n",
       "      <td>7</td>\n",
       "    </tr>\n",
       "    <tr>\n",
       "      <th>63419</th>\n",
       "      <td>20.0</td>\n",
       "      <td>3</td>\n",
       "    </tr>\n",
       "    <tr>\n",
       "      <th>65297</th>\n",
       "      <td>20.0</td>\n",
       "      <td>5</td>\n",
       "    </tr>\n",
       "    <tr>\n",
       "      <th>66505</th>\n",
       "      <td>19.0</td>\n",
       "      <td>6</td>\n",
       "    </tr>\n",
       "    <tr>\n",
       "      <th>78311</th>\n",
       "      <td>21.0</td>\n",
       "      <td>5</td>\n",
       "    </tr>\n",
       "    <tr>\n",
       "      <th>79448</th>\n",
       "      <td>22.0</td>\n",
       "      <td>6</td>\n",
       "    </tr>\n",
       "    <tr>\n",
       "      <th>79737</th>\n",
       "      <td>19.0</td>\n",
       "      <td>5</td>\n",
       "    </tr>\n",
       "    <tr>\n",
       "      <th>92366</th>\n",
       "      <td>34.0</td>\n",
       "      <td>4</td>\n",
       "    </tr>\n",
       "    <tr>\n",
       "      <th>92807</th>\n",
       "      <td>19.0</td>\n",
       "      <td>4</td>\n",
       "    </tr>\n",
       "    <tr>\n",
       "      <th>98061</th>\n",
       "      <td>20.0</td>\n",
       "      <td>5</td>\n",
       "    </tr>\n",
       "    <tr>\n",
       "      <th>99670</th>\n",
       "      <td>19.0</td>\n",
       "      <td>5</td>\n",
       "    </tr>\n",
       "    <tr>\n",
       "      <th>104351</th>\n",
       "      <td>19.0</td>\n",
       "      <td>4</td>\n",
       "    </tr>\n",
       "    <tr>\n",
       "      <th>105933</th>\n",
       "      <td>24.0</td>\n",
       "      <td>6</td>\n",
       "    </tr>\n",
       "    <tr>\n",
       "      <th>109401</th>\n",
       "      <td>19.0</td>\n",
       "      <td>5</td>\n",
       "    </tr>\n",
       "    <tr>\n",
       "      <th>113412</th>\n",
       "      <td>19.0</td>\n",
       "      <td>5</td>\n",
       "    </tr>\n",
       "    <tr>\n",
       "      <th>114883</th>\n",
       "      <td>22.0</td>\n",
       "      <td>7</td>\n",
       "    </tr>\n",
       "    <tr>\n",
       "      <th>119227</th>\n",
       "      <td>25.0</td>\n",
       "      <td>5</td>\n",
       "    </tr>\n",
       "    <tr>\n",
       "      <th>122743</th>\n",
       "      <td>20.0</td>\n",
       "      <td>7</td>\n",
       "    </tr>\n",
       "    <tr>\n",
       "      <th>122877</th>\n",
       "      <td>22.0</td>\n",
       "      <td>5</td>\n",
       "    </tr>\n",
       "    <tr>\n",
       "      <th>127833</th>\n",
       "      <td>20.0</td>\n",
       "      <td>4</td>\n",
       "    </tr>\n",
       "    <tr>\n",
       "      <th>128761</th>\n",
       "      <td>24.0</td>\n",
       "      <td>5</td>\n",
       "    </tr>\n",
       "    <tr>\n",
       "      <th>135712</th>\n",
       "      <td>22.0</td>\n",
       "      <td>5</td>\n",
       "    </tr>\n",
       "    <tr>\n",
       "      <th>136527</th>\n",
       "      <td>98.0</td>\n",
       "      <td>4</td>\n",
       "    </tr>\n",
       "    <tr>\n",
       "      <th>141061</th>\n",
       "      <td>19.0</td>\n",
       "      <td>8</td>\n",
       "    </tr>\n",
       "    <tr>\n",
       "      <th>142481</th>\n",
       "      <td>19.0</td>\n",
       "      <td>7</td>\n",
       "    </tr>\n",
       "    <tr>\n",
       "      <th>144925</th>\n",
       "      <td>22.0</td>\n",
       "      <td>7</td>\n",
       "    </tr>\n",
       "    <tr>\n",
       "      <th>...</th>\n",
       "      <td>...</td>\n",
       "      <td>...</td>\n",
       "    </tr>\n",
       "    <tr>\n",
       "      <th>150254</th>\n",
       "      <td>20.0</td>\n",
       "      <td>6</td>\n",
       "    </tr>\n",
       "    <tr>\n",
       "      <th>150736</th>\n",
       "      <td>38.0</td>\n",
       "      <td>4</td>\n",
       "    </tr>\n",
       "    <tr>\n",
       "      <th>156148</th>\n",
       "      <td>23.0</td>\n",
       "      <td>5</td>\n",
       "    </tr>\n",
       "    <tr>\n",
       "      <th>158684</th>\n",
       "      <td>20.0</td>\n",
       "      <td>6</td>\n",
       "    </tr>\n",
       "    <tr>\n",
       "      <th>161368</th>\n",
       "      <td>19.0</td>\n",
       "      <td>5</td>\n",
       "    </tr>\n",
       "    <tr>\n",
       "      <th>164085</th>\n",
       "      <td>22.0</td>\n",
       "      <td>5</td>\n",
       "    </tr>\n",
       "    <tr>\n",
       "      <th>165097</th>\n",
       "      <td>77.0</td>\n",
       "      <td>4</td>\n",
       "    </tr>\n",
       "    <tr>\n",
       "      <th>165420</th>\n",
       "      <td>20.0</td>\n",
       "      <td>4</td>\n",
       "    </tr>\n",
       "    <tr>\n",
       "      <th>175214</th>\n",
       "      <td>24.0</td>\n",
       "      <td>7</td>\n",
       "    </tr>\n",
       "    <tr>\n",
       "      <th>175455</th>\n",
       "      <td>22.0</td>\n",
       "      <td>6</td>\n",
       "    </tr>\n",
       "    <tr>\n",
       "      <th>177935</th>\n",
       "      <td>21.0</td>\n",
       "      <td>5</td>\n",
       "    </tr>\n",
       "    <tr>\n",
       "      <th>182699</th>\n",
       "      <td>21.0</td>\n",
       "      <td>5</td>\n",
       "    </tr>\n",
       "    <tr>\n",
       "      <th>190099</th>\n",
       "      <td>34.0</td>\n",
       "      <td>3</td>\n",
       "    </tr>\n",
       "    <tr>\n",
       "      <th>198110</th>\n",
       "      <td>44.0</td>\n",
       "      <td>4</td>\n",
       "    </tr>\n",
       "    <tr>\n",
       "      <th>198982</th>\n",
       "      <td>78.0</td>\n",
       "      <td>3</td>\n",
       "    </tr>\n",
       "    <tr>\n",
       "      <th>200980</th>\n",
       "      <td>74.0</td>\n",
       "      <td>2</td>\n",
       "    </tr>\n",
       "    <tr>\n",
       "      <th>200985</th>\n",
       "      <td>24.0</td>\n",
       "      <td>2</td>\n",
       "    </tr>\n",
       "    <tr>\n",
       "      <th>202845</th>\n",
       "      <td>33.0</td>\n",
       "      <td>1</td>\n",
       "    </tr>\n",
       "    <tr>\n",
       "      <th>203435</th>\n",
       "      <td>51.0</td>\n",
       "      <td>3</td>\n",
       "    </tr>\n",
       "    <tr>\n",
       "      <th>204973</th>\n",
       "      <td>21.0</td>\n",
       "      <td>7</td>\n",
       "    </tr>\n",
       "    <tr>\n",
       "      <th>206892</th>\n",
       "      <td>24.0</td>\n",
       "      <td>4</td>\n",
       "    </tr>\n",
       "    <tr>\n",
       "      <th>213032</th>\n",
       "      <td>30.0</td>\n",
       "      <td>2</td>\n",
       "    </tr>\n",
       "    <tr>\n",
       "      <th>213366</th>\n",
       "      <td>80.0</td>\n",
       "      <td>3</td>\n",
       "    </tr>\n",
       "    <tr>\n",
       "      <th>214457</th>\n",
       "      <td>31.0</td>\n",
       "      <td>4</td>\n",
       "    </tr>\n",
       "    <tr>\n",
       "      <th>216475</th>\n",
       "      <td>23.0</td>\n",
       "      <td>4</td>\n",
       "    </tr>\n",
       "    <tr>\n",
       "      <th>218345</th>\n",
       "      <td>33.0</td>\n",
       "      <td>3</td>\n",
       "    </tr>\n",
       "    <tr>\n",
       "      <th>218561</th>\n",
       "      <td>20.0</td>\n",
       "      <td>3</td>\n",
       "    </tr>\n",
       "    <tr>\n",
       "      <th>222188</th>\n",
       "      <td>99.0</td>\n",
       "      <td>5</td>\n",
       "    </tr>\n",
       "    <tr>\n",
       "      <th>222873</th>\n",
       "      <td>23.0</td>\n",
       "      <td>3</td>\n",
       "    </tr>\n",
       "    <tr>\n",
       "      <th>224711</th>\n",
       "      <td>55.0</td>\n",
       "      <td>3</td>\n",
       "    </tr>\n",
       "  </tbody>\n",
       "</table>\n",
       "<p>64 rows × 2 columns</p>\n",
       "</div>"
      ],
      "text/plain": [
       "            Room count  Beds\n",
       "Unnamed: 0                  \n",
       "23698             20.0     5\n",
       "29857             19.0     5\n",
       "37647             27.0     3\n",
       "50993             62.0     2\n",
       "61864             24.0     7\n",
       "63419             20.0     3\n",
       "65297             20.0     5\n",
       "66505             19.0     6\n",
       "78311             21.0     5\n",
       "79448             22.0     6\n",
       "79737             19.0     5\n",
       "92366             34.0     4\n",
       "92807             19.0     4\n",
       "98061             20.0     5\n",
       "99670             19.0     5\n",
       "104351            19.0     4\n",
       "105933            24.0     6\n",
       "109401            19.0     5\n",
       "113412            19.0     5\n",
       "114883            22.0     7\n",
       "119227            25.0     5\n",
       "122743            20.0     7\n",
       "122877            22.0     5\n",
       "127833            20.0     4\n",
       "128761            24.0     5\n",
       "135712            22.0     5\n",
       "136527            98.0     4\n",
       "141061            19.0     8\n",
       "142481            19.0     7\n",
       "144925            22.0     7\n",
       "...                ...   ...\n",
       "150254            20.0     6\n",
       "150736            38.0     4\n",
       "156148            23.0     5\n",
       "158684            20.0     6\n",
       "161368            19.0     5\n",
       "164085            22.0     5\n",
       "165097            77.0     4\n",
       "165420            20.0     4\n",
       "175214            24.0     7\n",
       "175455            22.0     6\n",
       "177935            21.0     5\n",
       "182699            21.0     5\n",
       "190099            34.0     3\n",
       "198110            44.0     4\n",
       "198982            78.0     3\n",
       "200980            74.0     2\n",
       "200985            24.0     2\n",
       "202845            33.0     1\n",
       "203435            51.0     3\n",
       "204973            21.0     7\n",
       "206892            24.0     4\n",
       "213032            30.0     2\n",
       "213366            80.0     3\n",
       "214457            31.0     4\n",
       "216475            23.0     4\n",
       "218345            33.0     3\n",
       "218561            20.0     3\n",
       "222188            99.0     5\n",
       "222873            23.0     3\n",
       "224711            55.0     3\n",
       "\n",
       "[64 rows x 2 columns]"
      ]
     },
     "execution_count": 221,
     "metadata": {},
     "output_type": "execute_result"
    }
   ],
   "source": [
    "temp.loc[np.abs(temp['Room count'] - temp['Room count'] .mean()) > 5 * temp['Room count'] .std()][['Room count', 'Beds']]"
   ]
  },
  {
   "cell_type": "code",
   "execution_count": 222,
   "metadata": {
    "collapsed": true
   },
   "outputs": [],
   "source": [
    "homes_df['room_count'] = temp['Room count']"
   ]
  },
  {
   "cell_type": "code",
   "execution_count": 223,
   "metadata": {
    "collapsed": true
   },
   "outputs": [],
   "source": [
    "to_do.append('Room count')"
   ]
  },
  {
   "cell_type": "markdown",
   "metadata": {},
   "source": [
    "# Spaces"
   ]
  },
  {
   "cell_type": "code",
   "execution_count": 224,
   "metadata": {},
   "outputs": [
    {
     "name": "stdout",
     "output_type": "stream",
     "text": [
      "defaultdict(<type 'int'>, {'\"Tennis Court\"': 5335, '\"Barbecue Area\"': 23980, '\"Hot Tub/Spa\"': 21550, '\"Fitness Center\"': 6062, '\"Sports Court\"': 2874, '\"Basketball Court\"': 2567, '\"Wet Bar\"': 4776, '\"Greenhouse\"': 300, '\"Pool\"': 65911, '\"Sauna\"': 2949, '\"Jetted Tub\"': 5482})\n"
     ]
    }
   ],
   "source": [
    "space = temp['Spaces'].dropna()\n",
    "s_space = defaultdict(int)\n",
    "for i in range(len(space)):\n",
    "    items = space.iloc[i][1:-1].split(',')\n",
    "    for item in items:\n",
    "        s_space[item] += 1\n",
    "print s_space"
   ]
  },
  {
   "cell_type": "code",
   "execution_count": 225,
   "metadata": {
    "collapsed": true
   },
   "outputs": [],
   "source": [
    "space_system = s_space.keys()"
   ]
  },
  {
   "cell_type": "code",
   "execution_count": 226,
   "metadata": {
    "collapsed": true
   },
   "outputs": [],
   "source": [
    "space_df = DataFrame()\n",
    "for space_way in space_system:\n",
    "    def cleanspace(x):\n",
    "        c = x[1:-1].split(',')\n",
    "        for cc in c:\n",
    "            if cc == space_way:\n",
    "                return 1\n",
    "        return 0\n",
    "                      \n",
    "    space_new = space.map(cleanspace)\n",
    "    space_df['space_' + space_way] = space_new"
   ]
  },
  {
   "cell_type": "code",
   "execution_count": 227,
   "metadata": {
    "collapsed": true
   },
   "outputs": [],
   "source": [
    "homes_df[space_df.columns] = space_df\n",
    "homes_df[space_df.columns] = homes_df[space_df.columns].fillna(0)"
   ]
  },
  {
   "cell_type": "markdown",
   "metadata": {},
   "source": [
    "# School district"
   ]
  },
  {
   "cell_type": "code",
   "execution_count": 228,
   "metadata": {},
   "outputs": [
    {
     "name": "stdout",
     "output_type": "stream",
     "text": [
      "defaultdict(<type 'int'>, {'Brea-Olinda Unified School District': 3, 'Palm Springs USD': 2, 'El Camino': 2, 'Norwalk/LaMirada School District': 1, 'Oak Park Unified School District': 56, 'Sonoma Valley': 1, 'William S. Hart District': 1, 'Las Virgenes Schools': 1, 'Simi Valley School Dist': 1, 'El Monte': 1, 'Lompoc Unified': 1, 'Warner Unified': 3, 'Redondo Unified': 689, 'Capistrano Valley School District': 1, 'Pomona Unified Schoo': 2, 'RIO SCHOOL DISTRICT': 1, 'Tenant to Check': 1, 'Farmersville Unified School District': 1, 'OJAI UNIFIED': 3, 'Alameda': 1, 'Willits Unified School District': 1, 'Pomona': 7, 'Laguna Beach Unified': 265, 'venice': 1, 'Hermosa Beach City Elementary': 1, 'Romoland School District': 1, 'oak park unified school district': 1, 'Yuba City Unified': 1, 'Eastside School District': 1, 'Thousand Oaks': 1, 'Torrance Unified Sch': 2, 'Standard': 6, '0': 313, 'Lowell/Macy district': 1, 'Oxnard Union High School Distri': 13, 'William S. Hart Union High Sch': 5, 'BALDWIN PARK UNIFIED SCHOOL DISTRICT': 1, 'fullerton unified': 2, 'William S Hart Union High School District': 1, 'SImi Unified': 1, 'orange county': 1, 'Saddleback Valley Unified': 3234, 'Westside': 8, 'Norwalk/La Mirada': 1, 'DOWNEY UNIFIED': 4, 'Apply Valley Unified': 33, 'William S Hart High School District': 1, 'Bellflower USD': 1, 'Seal Beach Unified School Distr': 5, 'GLENDALE UNIFIED': 7, 'Charter Oak Unified': 261, 'Capistrano Valley Unified': 5, 'Central School District': 1, 'Antelope': 541, 'Oak Park USD': 3, 'GG': 2, 'Westside Union School District': 3, 'BREA-OLINDA UNIFIED': 2, 'Manhattan Beach': 8, 'Garden Grove USD': 2, 'Fillmore Unified School Distric': 1, 'PALMDALE': 1, 'LOS ANGELES SCHOOL DISTRICT': 1, 'Jurupa Unified': 1, 'Lake Elsinore Unified': 1, 'Monrovia Unified School Distric': 3, 'Laguna Beach': 1, 'CVSD': 1, 'Placentia-Yorba Linda Unified School District': 4, 'Carlsbad Unified': 3, 'Poway Unified High School Distr': 1, 'ARCADIA UNIFIED': 1, 'Creston': 1, 'Vista Unified High School Distr': 2, 'Lowell Joint School District': 2, 'Whittier Union High': 893, 'Moorpark': 4, 'Fullerton Elementary and Fullerton Joint Union High School': 1, 'Oceanview School district': 1, 'Conejo Unified School District': 4, 'Saddleback Unified': 2, 'Santa Monica': 9, 'Franklin School District': 1, 'CHARTER OAK UNIFIED': 4, 'Alhambra School Dist': 10, 'Garden Grove': 2, 'PYLUSD': 5, 'ALHAMBRA UNIFIED': 3, 'Temple City': 7, 'SVUSD': 27, 'Corona-Norco Unified': 8, 'Covina Valley': 2, 'Kern High School District': 1, 'Grossmont Union High': 1, 'Oxnard': 1, 'Newly built local elementary school': 1, 'Orange': 5, 'Washington Union': 1, 'LA Unified school district': 1, 'Paramount Unified School District': 1, 'COVINA-VALLEY UNIFIED': 9, 'Inglewood USD': 4, 'East Side Union School District': 4, 'smmusd': 1, 'CONEJO': 1, 'BASSETT UNIFIED': 1, 'Saugus Union': 3, 'Placentia Yorba Linda School District': 1, 'Baldwin Park': 1, 'Fullerton Joint Unio': 1, 'CLAREMONT UNIFIED': 5, 'TEMPLE CITY UNIFIED SCHOOL DISTRICT': 6, 'Newport Mesa': 7, 'SAN DIEGO UNIFIED': 1, 'Oroville Union': 1, 'Burbank Unified School District': 36, 'Monrovia Unified': 195, 'El Monte Union High': 256, 'Palos Verdes Estates': 1, 'Manhattan Beach Unified School District': 4, 'Santa Monica Unified Schools': 1, 'Hemet Unified': 5, 'Los Alamitos Unified School Dis': 48, 'Santa Margarita': 1, 'SANTA PAULA ELEMENTARY SCHOOL DISTRICT': 1, 'Saugus Union School District (Pre-K-6) & William S. Hart Union High School District (7-12)': 1, 'placentia- yorba linda unified school district': 1, 'Santa Ana Unified School District': 1, 'Conejo Valley Unified': 177, 'N. Beverly Hills': 1, 'Hacienda La Puente U': 1, 'santa monica/malibu': 1, 'Antelope Valley Union Hig': 9, 'torrance unified': 1, 'LA Unified': 19, 'Burbank': 9, 'SANTA PAULA UNION HIGH': 5, 'Palos Verdes Peninsula Unified': 865, 'Santa Monica-Malibu': 2, 'Palos Verdes / Lausd \\xc3\\x82\" Inquire': 3, 'Huntngton Beach Union High School District': 1, 'Simi Valley Unified School District': 11, 'Carpenter': 3, 'Weschester LA County': 1, 'Lynwood Unified': 74, 'PLEASANT VALLEY': 1, 'Fountain Valley': 157, 'South Bay Union': 1, 'Simi Valley USD': 15, 'Bassett Unified': 72, 'LA City': 1, 'REDONDO BEACH UNIFIED': 9, 'Fallbrook Union': 1, 'Westside Union': 4, 'Ramona Unified': 4, 'LBUSD': 13, 'Moreno Valley Unified': 7, 'San Marino Unified': 41, 'ABC Unified School D': 1, 'Wonderland': 1, 'SENIOR': 1, 'Huntington Beach Union High Sch': 409, 'LAWNDALE': 1, 'Lawndale School District': 1, 'ABC School District': 2, 'Los Angeles Unified School': 1, 'Brea-Olinda Unified School Dist': 47, 'Loma Vista': 1, 'West Covina Unified School District': 6, 'Willows Unified': 2, 'El Monte Union High School Dist': 10, 'Upland High School District': 1, 'Magnolia': 1, 'Newport Mesa Unified school district': 1, 'Culver City Unified': 51, 'Moorpark Unifed': 1, 'Centrallia': 1, 'Central Unified': 1, 'Pasadena': 11, 'HUNTINGTON BEACH UNION HIGH SCHOOL DISTRICT': 14, 'Call L/O': 188, 'Acton-Agua Dulce Unified': 32, 'Golden Valley Unified School District': 3, 'av high district': 1, 'Saddleback Valley Unified Schoo': 771, 'Victor Valley Unified': 3, 'BELLFLOWER UNIFIED': 2, 'Bonita': 5, 'Lancaster Elementary': 2, 'Los Angeles USD': 98, 'pomona S.D': 1, 'ANTELOPE VALLEY UNION HIGH': 181, 'Placentia Yorba Linda Unified School District': 2, 'Placentia-Yorba Linda Unified': 1294, 'Manhattan Beach Unified': 3, 'Placentia Unified': 1, 'Wiseburn': 4, 'Ventura USD': 16, 'Irvine Unified': 1996, 'El Dorado Union': 7, 'BURBANK UNIFIED SCHOOL DISTRICT': 4, 'PALOS VERDES PENINSULA UNIFIED': 10, 'West Torrance': 1, 'Palos Verdes Peninsu': 1, 'ACTON-AGUA DULCE UNIFIED': 9, 'LASD': 1, 'Newhall School district': 1, 'Fullerton Joint': 1, 'Glendale Unified School Distric': 26, 'ANAHEIM CITY SCHOOL DISTRICT': 1, 'Hermosa Beach': 4, 'Montebello USD': 2, 'Huntington Beach Unified': 2, 'COMPTON UNIFIED': 5, 'Westminster SD / HBUHSD': 1, 'Charter Oak Unified School Dist': 4, 'MOORPARK UNIFIED SCHOOL DISTRICT': 2, 'south pasadena unified': 1, 'ARCADIA SCHOOLS': 1, 'Los Angeles Unified School Dist': 1553, 'AZUSA UNIFIED': 6, 'Palos Verdes Unified School District': 2, 'GLENDALE UNIFIED SCHOOL DISTRICT': 13, 'Conejo Valley Unified School District': 460, 'DUARTE UNIFIED': 4, 'Los Angeles Unified Schools': 1, 'PVPUSD': 2, 'TEMPLE CITY SCHOOL': 1, 'Hughes Elizabeth Lakes': 1, 'Long Beach USD': 6, 'CVUSD': 7, 'walnut valley unified school': 1, 'Pasadena Unified School District': 23, 'Roscomare': 1, 'Huntington Beach Union High': 2008, 'Call L/0': 145, 'East Whittier City Elementary': 1, 'Granada Hills': 1, 'UCLA': 1, 'Walteria': 1, 'San Rafael': 1, 'long beach': 1, 'Capistrano Unified': 5672, 'Arcadia Unified School District': 9, 'Fullerton Unified': 2, 'ORG': 2, 'WHITTIER UNION HIGH': 6, 'Oak park Unified': 1, 'Centinela Valley Union High Sch': 10, 'LA CANADA UNIFIED': 2, 'Placentia-Yorba Linda': 6, 'Little Lake and Whittier Union': 1, 'Castle Heights': 1, 'Saddleback Valley Unified School': 1, 'walnut school district': 1, 'Centralia Elementary': 1, 'GARDEN GROVE UNIFIED SCHOOL DISTRICT': 1, 'Saddleback ValleyUSD': 2, 'PLEASANT VALLEY SCHOOL DISTRICT': 6, 'Compton Unified Shool District': 1, 'Hart School District': 3, 'Westwood School District': 1, 'Castaic Union': 2, 'Fillmore Unified School District': 10, 'Upper Lake Union': 1, 'Norwalk La Mirada Unified': 1, 'ROWLAND UNIFIED SCHOOL DISTRICT': 1, 'Los Alimitos': 1, 'Montebello Unified School District': 1, 'Sulphur Springs': 2, 'Villa Park': 2, 'Covina Valley Unified School': 1, 'LB': 1, 'Lakewood': 1, 'LA': 26, 'LONG BEACH': 1, 'Placentia Yorba Linda Usd': 1, 'Montebello': 1, 'TORRANCE UNIFIED': 12, 'Eagle Rock': 1, 'San Juan Unified': 1, 'Irvine': 12, 'Oceanside Unified': 1, 'More Than 1 District': 10, 'Moorpark USD': 3, 'Huntngton Beach Union': 1, 'Santa Ana Unified School Distri': 244, 'CHAWANAKEE UNIFIED': 1, 'LA USD': 1, 'Redondo School District': 1, 'Placentia - Yorba Linda Unified School District': 1, 'Abc Unified School District.': 1, 'Award Winning San Marino': 1, 'Fullerton Union High School District': 1, 'Pomona Unified': 887, 'ABC': 5, 'Sacramento City Unified': 2, 'Simi Unified School District': 2, 'Westminster/Huntington Beach': 1, 'Torrance Unified': 1159, 'Ojai Unified School District': 16, 'Novato Unified School District': 1, 'Manhattan Unified School District': 3, 'OTHER': 3, 'Alhambra City': 1, 'Orange Unified District': 2, 'El Rancho School District': 1, 'garden grove unified': 1, 'Oxnard Union': 47, 'Anaheim School Dsitrict': 1, 'Palos Verdes/LAUSD': 6, 'OPUSD': 1, 'Newport Mesa Unified School District': 12, 'Antelope School District': 289, 'Los Nietos school district': 1, 'South Pasadena School District': 2, 'Menifee Union': 1, 'Near CSUN': 1, 'Cajon Valley Union': 1, 'San Gabriel USD': 9, 'West Covina Unified': 10, 'Las Virgenes Unified': 2, 'Capistrano School District': 4, 'Placentia-Yorba Lind': 1, 'Palermo Union': 2, 'Bonita Unified Schoo': 1, 'Palmdale Unified': 1, 'CALL': 1, 'Fresno Unified': 12, 'Los Angeles.': 1, 'Ventura County School District': 1, 'Ukiah Unified': 1, 'Duarte Unified': 138, 'Winnetka Unified School District': 1, 'POWAYUNIF': 1, 'Saddlback Valley Unified School District': 1, 'Keppel Union School District': 1, 'burbank school district': 1, 'Fullerton Joint Union High': 1505, 'Redondo Beach': 2, 'Newport Beach Unified': 1, 'Capistrano': 17, 'LAS VIRGENES UNIFIED': 13, 'ROWLAND UNIFIED': 8, 'Peinsula School District': 1, 'Paramont Unified School District': 2, 'S Monterey Co HS Dis': 1, 'Snowline Joint Unified': 1, 'Manhattan Unified': 334, 'Newhall': 3, 'Pasadena Unified': 548, 'Oxnard Union High': 1, 'Placentia/Yorba Linda School District.': 1, 'Ahwahnee': 1, 'GGUSD': 2, 'Capistrano Valley SD': 1, 'plysd': 1, 'Downey Unified': 491, 'MANHATTAN BEACH UNIFIED': 2, 'Franklin-McKinley Elementary': 1, 'Orange Unified School Dist': 1, 'Las Virgines': 6, 'El Rancho': 1, 'Simi Valley Unified School Dist': 71, 'Ojai': 3, 'Orange USD': 3, 'Garden Grove Unified School District': 4, 'IUSD': 2, 'Bellflower Unified School District': 4, 'Chino Valley Unified': 7, 'Stevenson Ranch': 1, 'Belflower Unified': 1, 'Upland': 2, 'Wm. S. Hart': 1, 'RUHS': 1, 'TORRANCE UNIFIED SCHOOL DISTRICT': 3, 'Long Beach Unified School Dist.': 1, 'Long Beach Unified S': 1, 'SADDLEBACK VALLEY UNIFIED': 17, 'Nevada': 2, 'LOS ANGELES UNIFIED': 235, 'Oak Park Unified School System': 1, 'Walnut Creek (925) 944-6850': 1, 'Ventura School District': 1, 'ARCADIA': 2, 'Hacienda La Puente Unified': 604, 'San Marino USD': 23, 'Alta Loma': 2, 'Santa Monica Independent School District': 1, 'SMMUSD': 4, 'Simi valley': 1, 'Occidental College': 1, 'Ojai USD': 2, 'SOUTH PASADENA UNIFIED SCHOOL DISTRICT': 4, 'Palos Verdes': 14, 'Irvine Unified School District': 437, 'Vista Unified': 2, 'VENTURA UNIFIED': 45, 'REDONDO BEACH UNIFIED SCHOOL DISTRICT': 5, 'Conejo Unified': 1, 'OXNARD UNION HIGH SCHOOL DISTRICT': 2, 'Whittier Union': 5, 'Brea Olinda': 1, 'ALHAMBRA UNIFIED SCHOOL DISTRICT': 2, 'Simi Valley Unified Schoold District': 1, 'Anteolope Valley Union High Sch': 143, 'Corcoran Unified': 1, 'Whittier': 1, 'Yorba Linda School District': 2, 'walnut valley unified': 1, 'Westminster School district': 1, 'Las Virgenes': 315, 'Las Virgenes Unifed School District': 1, 'Whittier Union High School District': 1, 'pomona': 1, 'Rowland School District': 1, 'Arcadia School District': 1, 'Camino Union': 2, 'Los Angeles Unified': 12068, 'Walnut Unified': 2, 'Los Angeles Unifed': 1, 'La Canada': 75, 'Whittier union': 1, 'Temple City Unified School District': 2, 'Antelope Valley Union High': 1, 'L.A. Unified District K': 1, 'Fullerton Joint Union Hsd': 1, 'Moorpark Unified School Distric': 10, 'San Marino': 2, 'ABC Unified': 534, 'Saddleback': 9, 'Los Nietos Unified School Distr': 2, 'Vallejo City Unified': 1, 'West Side Union School District': 1, 'Jefferson': 4, 'INGLEWOOD UNIFIED': 2, 'HACIENDA - LA PUENTE USD': 2, 'Los Angeles County': 2, 'Check w/ City': 1, 'Carpinteria Unified': 20, 'Rosemead': 64, 'See Remarks': 509, 'Azusa': 1, 'Rowland Heights': 1, 'Ocean View School District': 1, 'Irvine United': 1, 'Lowell Joint Unified School Dis': 16, 'Rowland Unified School District': 22, 'Claremont': 8, 'West Sonoma County': 1, 'Oxnard School District': 3, 'Hawthorne': 115, 'Conejo Valley Unifed School District': 1, 'Norwalk LaMirada USD': 1, 'Perris Union High': 3, 'Lowell Joint Unified': 87, 'Duarte': 1, 'SWEETWATERUNH': 1, 'Redondo USD': 1, 'Rialto Unified': 4, 'Carpinteria Unified School Dist': 10, 'Hueneme School District': 1, 'IRVINE UNIFIED': 2, 'bellflower unified': 1, 'POMONA UNIFIED': 26, 'Garden Grove Unified School Dis': 224, 'Bret Harte/Vallecito': 2, 'MANHATTAN BEACH UNIFIED SCHOOL DISTRICT': 3, 'G': 1, 'COMPTON UNIFIED SCHOOL DISTRICT': 1, 'Yorba Linda/Placentia': 1, 'Thermalito Union': 2, 'Diamond Bar': 1, 'Pleasant Valley School District': 7, 'Charter Oak USD': 3, 'SA': 1, 'Torrance Unified School Distric': 23, 'Irvine unified school district': 1, 'Hawthorne School District': 1, 'lausd': 11, 'Coast Unified School District': 2, 'marina': 1, 'Culver City Unified School Dist': 5, 'LAS VIRGENES': 1, 'Riverside Unified': 11, 'Montebello Unified School Distr': 24, 'Norwalk-La Mirada Unified School District': 1, 'Walnut Valley': 1, 'FULLERTON JOINT UNION HIGH': 3, 'Oakland (510) 879-8111': 2, 'Pleasant valley': 1, 'SIMI VALLEY': 1, 'westwood charter': 1, 'NORWALK-LA MIRADA UNIFIED': 4, 'Paramount Unified': 150, 'Palmdale Unified School District': 2, 'Brea Olinda USD': 1, 'capo': 1, 'Healdsburg Unified': 1, 'CENTINELA VALLEY UNION HIGH': 3, 'LONG BEACH UNIFIED SD - MIDDLE SCHOOL AREA': 1, 'Pomona Valley Unified School District': 1, 'Castaic Unioun School District': 1, 'Inglewood Unified': 110, 'Norwalk': 2, 'capo schools': 1, 'Palos Verdes Peninsula': 26, 'Santa Ana School District': 1, 'UNKNOWN': 18, 'Redondo': 3, 'Montebello Unified': 225, 'San Jose Unified': 3, 'Westminster School District': 1, 'Conejo Valley Uniified School District': 1, 'Glendale': 7, 'Atwater School Distr': 1, 'BUSD': 1, 'Conejo Valley': 22, 'Oak Park': 3, 'Conejo Valleu': 1, 'Santa Monica-Malibu Unified School District': 30, 'Tustin unified': 1, 'Desert Sands USD': 3, 'Burbank Unified': 384, 'Alhambra Unified School District': 1, 'Peninsula': 1, 'SOUTH PASADENA UNIFIED': 1, 'Ramona Unified High School District': 1, 'Rancho Palos Verdes': 1, 'Placentia': 2, 'Ojai School District': 1, 'Alhambra': 330, 'ORANGE UNIFIED SCHOOL': 1, 'Palmdale School District': 5, 'Newport Mesa Unified School Dis': 304, 'EL MONTE UNION HIGH': 4, 'William S. Hart Union': 1645, 'Laguna Beach Unified School District': 2, 'Glendale Unified School District': 9, 'Placentia / Yorba Linda': 1, 'La Canda Unified School District': 1, 'POMONA UNIFIED SCHOOL DISTRIC': 1, 'SADDLEBACK VALLEY UNIFIED SD': 54, 'Los Angeles School District': 2, 'Placentia/Yorba Linda Unified School District': 2, 'Eastside Union School District': 1, 'Elk Grove USD': 1, 'Calaveras Unified': 2, 'COVINA VALLEY UNIFIED SCHOOL DISTRICT': 1, 'Arcadia Schools': 1, 'Pasadena School District': 1, 'sunny hills high school district': 1, 'Ventura': 6, 'Wonderland School': 1, 'Placenta Yorba Linda': 1, 'Fair Oaks Ranch': 1, 'NEWPORT-MESA UNIFIED': 2, 'Saddleback unified school dist': 1, 'TUSTIN UNIFIED': 4, 'West Covina USD': 3, 'Cubberly': 1, 'DELMARUNION': 1, 'Alemany High': 1, 'Long Beach Unified School District.': 1, 'Newman-Crows Landing Unified': 1, 'la canada': 1, 'Desert Sands Unified': 3, 'Palos Verdes / LAUSD - Inquire': 2, 'Bret Harte Union': 1, 'Check with the City': 1, 'Walnut Valley Unified School Di': 17, 'Fontana Unified': 4, 'Vacaville Unified School District': 1, 'Pleasant Valley School Dist.': 1, 'anaheim': 1, 'aliso viejo': 1, 'Santa Monica-Malibu USD': 1, 'lausd,charter,private': 1, 'Brea-Olinda': 2, 'Tarzana': 1, 'El Rancho Unified': 192, 'CAPISTRANO UNIFIED': 14, 'LA Unified, St Margaret Mary, Harbor Church Schools': 1, 'Palos Verdes School District': 1, 'El Segundo Unified School Distr': 3, 'Lawndale': 68, 'Chico Unified': 5, 'Saddleback Valley School District': 2, 'Westminster City School District, Huntington Beach Union High School District': 1, 'long beach unified': 2, 'Los Altos Unified School District': 1, 'RAMONAUNIF': 1, 'William S. Hart': 6, 'Alexander Valley Union': 3, 'Bassett Unified School District': 7, 'El Rancho Unified School Distri': 30, 'Other': 2826, 'Saugus Unified': 2, 'East Whittier': 2, 'PALOS VERDES PENINSULA UNIFIED SD': 15, 'William S. Hart Union High School': 1033, 'ANAHEIM UNION HIGH': 7, 'Newhall & Hart Districts': 2, 'Torrance': 17, 'Los Alamitos U.S.D.': 1, 'pomona unified': 1, 'LONG BEACH UNIFIED SCHOOL DISTRICT': 1, 'HLPUSD': 1, 'Brea-Olinda Unified': 327, 'westside union school district': 1, 'Claremont, CA': 1, 'Redondo Unified Schools': 1, 'MUSD': 1, 'Ocean View/Huntington Union High': 1, 'Simi Valley Unified': 662, 'Saddleback Valley Unified School  District': 1, 'South Pasadena Unified School District': 4, 'Beverly Hills Unified School District': 10, 'IRVINE UNIFIED SCHOOL DISTRICT': 25, 'Westside Union and Antelope Valley High School Districts': 1, 'Santa Monica Malibu': 1, 'PUSD': 4, 'Standard School District': 1, 'OAK PARK UNIFIED': 4, 'Hart School District (LA Unified)': 1, 'Baldwin Park USD': 1, 'Fountain Valley School District': 2, 'Lawndale School district': 1, 'Rancho Vista': 1, 'Wise': 89, 'Port Hueneme': 1, 'South Torrance': 1, 'Azusa Unified School': 8, 'Vallejo Unified School District': 1, 'Abc Unified': 200, 'LVUSD': 4, 'Lancaster School District, Antelope Union High School District': 1, 'Parlier USD': 1, 'Stanton Unified': 17, 'Long Beach Unified/also private schools': 1, 'La Canada Unified School District': 3, 'LAGUNA BEACH UNIFIED SCHOOL DISTRICT': 8, 'Conejo Valley USD': 32, 'Claremont Unified School District': 2, 'Capostrano Unified': 1, 'aadsd': 1, 'Carmel Unified': 1, 'Unified': 1, 'Claremont USD': 2, 'Norwalk - La Mirada': 839, 'OAK PARK UNIFIED SCHOOL DISTRICT': 6, 'Val Verde': 1, 'L A Unified': 1, 'Los Angeles/Bellflower': 1, 'Beverly Hills': 3, 'CMP': 1, 'Pomona Unified School District': 57, 'brea': 1, 'CAPISTRANO UNIFIED SCHOOL DISTRICT': 94, 'Ivanhoe': 1, 'Moorpark School District': 1, 'los angeles': 2, 'Newport Mesa Unified': 1477, 'Capistrano USD': 4, 'Durham Unified': 1, 'Newport Mesa USD': 1, 'Moorpark Unified': 52, 'Placentia/Yorba Linda School District': 1, 'Franklin': 2, 'Norwalk La Mirada Unified Sd': 1, 'San Luis Coastal Unified': 2, 'El Monte Union High School District': 1, 'Banning Unified': 5, 'Pleasanton (925) 462-5500': 1, 'Charter oak School District': 1, 'Bonita Unfied School District': 1, 'Sonora Union': 7, 'Atascadero Unified': 1, 'Glendora Unified': 378, 'Duarte Unified School District': 2, 'Huntington Beach Union High School': 36, 'Warner High School District': 1, 'LONG BEACH UNIFIED': 10, 'L.A. Unified': 3, 'Orange unified': 1, 'Ocean View School District / H.B. Union High School District': 1, 'Downey Unified School District': 91, 'GLENDORA UNIFIED': 4, 'San Jacinto Unified School Dist': 2, 'Los Banos Unified': 4, 'Yorba Linda': 1, 'Belmont-Redwood Shores': 1, 'Orange Unified School District': 393, 'Sacramento': 2, 'San Marino Unified School District': 2, 'Cypress (ES), Anaheim Union (MS-HS)': 1, 'Acton-Agua Dulce Unified School': 59, 'Conejo School District': 3, 'WestSide Union School District': 1, 'Capo': 5, 'LAUSD': 180, 'bellflower': 1, 'GUSD': 2, 'Fillmore Unified': 4, 'South Whittier Unified School D': 4, 'Oceanview': 3, 'North Fork': 1, 'ARCADIA UNIFIED SCHOOL DISTRICT': 14, 'La Habra city': 1, 'LA CANADA UNIFIED SCHOOL DISTRICT': 9, 'LAGUNA BEACH UNIFIED': 1, 'Newhall Elementary & William S. Hart': 1, 'LOS ANGELES': 1, 'Placentia-Yorba Linda USD': 2, 'lanai': 1, 'L.A.': 1, 'WALNUT VALLEY UNIFIED': 8, 'ABC UNIFIED': 3, 'West Side School District': 1, 'Capistrano unified': 1, 'TUSTIN UNIFIED SCHOOL DISTRICT': 10, 'La Habra High': 2, 'Bonita-San Dimas': 1, 'NMUSD': 2, 'Stanton USD': 1, 'Fullerton School District': 3, 'Compton Unified Scho': 1, 'LA Unified School Dist.': 1, 'Santa Clarita': 3, 'Capistrano  Unified': 1, 'LOS ALAMITOS UNIFIED': 3, 'Anaheim Union High School Distr': 362, 'Ojai Unified': 2, 'Norwalk La Mirada Unified School': 9, 'Inglewood Unified School Distri': 8, 'Soka University': 1, 'Bellflower/Downey': 1, 'Lakeport Unified': 1, 'Westlake': 2, 'Huntington Beach Union': 2, 'Redondo Union': 1, 'Anaheim City': 1, 'Covina Valley Unifie': 1, 'East Side Union': 17, 'Las Virgenes School': 1, 'Lowell Joint': 3, 'TUSD': 1, 'Conejo Valley School District': 6, 'Castaic': 2, 'William S Hart': 3, 'Saddleback Unified School District': 1, 'TUS': 1, 'capo unified school dist': 1, 'Lake': 2, 'check with city': 2, 'Saugus Union School District': 1, 'Rowland Unified School': 1, 'avuhsd': 1, 'Adelanto': 2, 'Santa Paula': 13, 'VENTURA UNIFIED SCHOOL DISTRICT': 9, 'Westminster Unified': 145, 'Garden Grove Unified Schoold District': 1, 'Santee School District': 1, 'Santa Ana Unified': 782, 'Torrance Unified Schools': 2, 'Pomona School District': 1, 'Hermosa': 83, 'Carpenter School District': 2, 'Irvine School': 1, 'moorpark': 2, 'PV': 2, 'Hacienda La Puente': 3, 'Azusa USD': 6, 'Arcadia Unified': 275, 'Capistrano Unified School Distr': 1221, 'Calistoga Joint Unified': 1, 'Lowell Joint Unified School District': 1, 'San Gabriel Unified': 89, '50001420775': 6, 'Los Altos Elementary School': 1, 'Wiseburn School District': 2, 'Tustin Unified School District': 222, 'Out of Area': 1, 'East Whittier/Whittier Union': 1, 'Los Angeles': 26, 'Long Beach Unified': 3344, 'FILLMORE UNIFIED SCHOOL DISTRICT': 1, 'Stanislaus': 1, 'Bret Harte': 1, 'Walnut School Disctrict': 1, 'Conejo': 7, 'Ontario-Montclair': 9, 'Central': 2, 'Capistrano Valley Unified School District': 1, 'Oak Park School District': 2, 'Orange Unified School district': 1, 'SAN DIMAS': 1, 'CULVER CITY UNIFIED': 9, 'Tustin': 5, 'HALA': 1, 'Jefferson School District': 1, 'Lancaster School District/Antelope Valley Union High School District': 1, 'REDONDO UNIFIED': 1, 'Huntington Beach Elementary': 1, 'San Gabriel Unified School Dist': 2, 'CONEJO VALLEY UNIFIED SCHOOL DISTRICT': 41, 'Somis': 1, 'Oak Park Unified': 46, 'Azusa School District': 1, 'Montebello unified school district': 1, 'Ventura County Unified': 1, 'Williams S HART union school district': 1, 'OCEAN VIEW': 1, 'Ventura United': 1, 'ANA': 2, 'POWAY UNIFIED SCHOOL DISTRICT': 1, 'AZUSA UNIFIED SCHOOL DISTRICT': 3, 'Saddleback valley': 1, 'Capistrano Valley Unified District': 1, 'EL RANCHO UNIFIED SCHOOL DISTRICT': 1, 'Plumas-Sierra Unified': 1, 'BRB': 1, 'Novato': 1, 'Caristrano': 1, 'irvine unified school district': 1, 'South Whittier Unified': 4, 'Charter Oak': 4, 'Arcadia School': 1, 'Los Angelos Unified School District': 1, 'Oak School District': 1, 'Hart': 3, 'Los Nietos Unified': 5, 'Cypress': 1, 'Santa Moncia': 1, 'Beverly Hills Unified School Di': 7, 'La Grange': 2, 'Sulpher Springs': 1, 'Glendora Unified School Distric': 4, 'Buyer to Verify': 1, 'Award-winning Long Beach Unified': 1, 'James Monroe': 1, 'Anaheim Union': 3, 'Covina Valley USD': 3, 'Jurupa Unified School District': 1, 'Fullerton': 10, 'Pioneer Union': 4, 'Santa Rosa City': 1, 'SAN GABRIEL UNIFIED': 1, 'Capistrano Unified School District': 61, 'Santa Monica/Malibu Unified': 1, 'Los Angeles United School District': 1, 'San Gabriel': 1, 'capo unified': 1, 'santa ana  school district': 1, 'Santa Ana': 3, 'Manhattan Unified School Distri': 2, 'Capo USD': 3, 'Anaheim Union School': 27, 'Rancho Santa Margarita': 1, 'Lowell Joint School': 1, 'HB Union High School District, Westminster Elementary School District': 1, 'Anaheim/Centralia': 1, 'LOS ANGELES USD': 1, 'CLAREMONT UNIFIED SCHOOL': 1, 'SIMI VALLEY SCHOOL DISTRICT': 1, 'ABC USD': 1, 'Paso Robles Joint Unified': 5, 'Pleasent Valley, Mesa': 1, 'East Whittier Unified School Di': 18, 'Palos Verdes / LAUSD ? inquire': 5, 'CDM': 1, 'Westside School District': 4, 'Walnut Valley USD': 1, 'Orland Joint Unified': 1, 'CHARTER OAK': 2, 'Brea Unified School District': 1, 'El Camino School District': 1, 'Laguna Beach Unified School Dis': 58, 'Mark Keppel': 1, 'EL SEGUNDO UNIFIED': 3, 'LA UNIFIED / PV OPTION': 1, 'Saddleback Valley Unified SD': 2, 'American Union': 20, 'Baldwin Park Unified': 214, 'Manhattan': 2, 'Palos Verdes Peninsula Unified School District': 3, 'Colton Unified': 7, 'Glendora  USD': 1, 'ORANGE UNIFIED SCHOOL DISTRICT': 8, 'san marino': 1, 'Claremont School District': 1, 'Walnut Valley Unified': 650, 'Lancaster School district': 1, 'El Segundo Unified': 105, 'Oxnard Unified': 1, 'Anaheim': 5, 'Placenta-Linda': 1, 'L.A. Unified School District': 1, 'Garden Grove School District': 1, 'Anaaheim': 1, 'Orange Unified Schoool District': 1, 'Fullerton Union': 1, 'Capistrano Unified School': 1, 'Saddleback Valley Unified Sd': 6, 'Westminster': 2, 'Conejo Vallue Unified': 1, 'Placetia Linda': 1, 'Fillmore': 1, 'Glendale Unified': 303, 'Conejo Schools Dist.': 1, 'East Whittier Unified': 74, 'Glendale USD': 117, 'Whittier Union Schoo': 2, 'Pomona USD': 1, 'Capitrano Unified': 1, 'SIMI VALLEY UNIFIED': 36, 'Saddleback Unified/Capistrano Unified': 1, 'Glendora USD': 1, 'capistrano unified': 1, 'Rio School District': 1, 'MBUSD': 5, 'Downey': 1, 'Anaheim Union High': 1561, 'Paradise USD': 1, 'Ladera Ranch': 3, 'Placentia Linda': 2, 'Poway Unified': 2, 'Irvine School District': 1, 'CAPO DISTRICT': 1, 'Westwood Charter': 1, ' Covina Unified School District': 1, 'Montebello Unified S': 1, 'Olinda Unified': 1, 'Oxnard Schools District': 1, 'San Diego school district': 1, 'Atwater': 4, 'Local District 4': 1, 'Tustin USD': 2, 'William S. Hart Unio': 7, 'Pleasent Valley School District': 1, 'LOS ALAMITOS UNIFIED SCHOOL DISTRICT': 1, 'PASADENA UNIFIED SCHOOL DISTRICT': 82, 'Hilmar Unified': 1, ' ARCADIA UNIFIED': 1, 'Ventura Unified': 61, 'Covina Valley Unified School District': 1, 'Anaheim Unified High School District': 1, 'Saddleback Valley USD': 3, 'Fullerton Joint Union High Scho': 368, 'Abc Unified School District': 48, 'Oxnard Union High School District': 134, 'Mendota Unified': 1, 'Los Angeles Unified School Dist.': 1, 'Covina Valley Unified': 406, 'Seal Beach Unified': 2, 'Las Virginis School District': 1, 'Burank Unified': 1, 'Mendota': 1, 'lowell joint macy elem': 1, 'Conejo Unified School': 1, 'East Whittier School District and Whittier High School District': 1, 'Monrovia Unified School District': 2, 'Palm Springs Unified': 3, 'FULLERTON JOINT UNION HSD': 4, 'Burbank USD': 20, 'Santa Ana Unified School Distr': 1, 'CONEJO VALLEY UNIFIED': 57, 'Long Beach Unifed': 1, 'East Whittier USD': 1, 'Desert Center Unified': 1, 'Fullerton Joint Union': 25, 'Escondido Union School District': 1, 'Cypress Elementary': 1, 'West side': 1, 'Anaheim Unified School Distrct': 1, 'Kepple Union School District': 1, 'IR': 4, 'Redlands Unified': 3, 'Capo.': 1, 'Call Peggy Sue @ (805) 218-9914': 1, 'Ballico-Cressey': 1, 'Avusd': 2, 'Santa Monica-Malibu Unified': 4, 'HACIENDA LA PUENTE UNIFIED': 3, 'West Covina School District': 28, 'CUSD': 7, 'Saugus Unified School District': 1, 'Westside USD': 1, 'Ocean View': 4, 'MOORPARK UNIFIED': 9, 'Coachella Valley Unified': 1, 'capistrano unified school district': 2, 'Las Vergenes': 1, 'Placentia-Linda': 1, 'Capistrano United': 1, 'Azusa Unified School District': 25, 'SAN GABRIEL UNIFIED SCHOOL DISTRICT': 4, 'WILLIAM S. HART UNION HIGH': 88, 'La Puente': 1, 'Newport': 1, 'La Canada School Distric': 1, 'Capistrano Unified School Dist': 1, 'Call Listing Office': 244, 'Whittier Union High School': 1, 'Mbusd': 1, 'Etiwanda': 1, 'LA Unified / PV Option': 6, 'San Dimas School Dis': 1, 'Wiseburn Unified': 16, 'LAS VIRGENES UNIFIED SCHOOL DISTRICT': 11, 'Sierra Madre/Pasadena': 1, 'rancho vista': 1, 'Livingston Union': 1, 'Local District 1': 2, 'Placentia-Yorba Linda District': 20, 'SAUSD': 1, 'MONROVIA UNIFIED': 2, 'Ventura Unified School District': 197, 'OXNARD UNION HIGH': 112, 'Redondo Beach Unified School District': 5, 'SIMI VALLEY UNIFIED SCHOOL DISTRICT': 10, 'Norwalk/LaMirada Unified SD': 1, 'Scotts Valley Unified': 1, 'MOORPARK': 1, 'Alhambra School District': 19, 'El Segundo': 1, 'PLACENTIA-YORBA LINDA UNIFIED': 4, 'Rowland': 2, 'la unified': 2, 'Sunny Hills': 1, 'Hart School Disrict': 1, 'La Habra City / Fullerton High School District': 1, 'San Ramon Unified School District': 1, 'Torrance Unified (TSUD)': 1, 'Irvine Unifiied': 1, 'Temecula Unified': 2, 'Orange County': 2, 'Sierra Unified': 2, 'DUARTE UNIFIED SCHOOL DISTRICT': 2, 'Palmdale': 9, 'Tustin Unified': 1233, 'NEWPORT MESA UNIFIED SCHOOL DISTRICT': 60, 'Palos Verdes Unified': 3, 'Cascade Union': 1, 'San Jacinto Unified': 1, 'Whittier Union School': 12, 'Kester Ave./ Kester Magnet Elementary School district.': 1, 'Saddleback Valley': 18, 'Madera Unified': 1, 'garden grove': 1, 'Pasadena USD': 151, 'SAN MARINO UNIFIED SCHOOL DISTRICT': 6, 'Mar Vista': 1, 'Los Molinos Unified School District': 1, 'Bonita Unified': 458, 'conejo valley': 1, 'Capo Unified': 6, 'Palos Verdes Peninsula Unified School': 1, 'SANTA ANA UNIFIED': 3, 'Alta Loma School District': 1, 'quartz hill': 1, 'Centeniela Valley Union High': 89, 'Las Virgenes School District': 282, 'Capo Unified School District': 1, 'BONITA UNIFIED SCHOOL DISTRICT': 1, 'HUNTINGTON BEACH UNION HIGH': 5, 'Oak Park Unified Schools': 1, 'West Covina': 422, 'Whittier Union High School Dist': 176, 'las virgenes': 1, 'Long Beach': 12, 'Troy': 1, ' Capistrano Unified': 1, 'PASADENA UNIFIED': 16, 'Fullerton School District and Fullerton High School District': 1, 'East Side School': 1, 'OXNARD ELEMENTARY SCHOOL DISTRICT': 5, 'Westwood': 7, 'Saugus': 5, 'Beverly HIlls': 1, 'San Juan Capistrno Unified': 1, 'Los Alamitos Unified': 307, 'Temple City Unified': 119, 'South Pasadena Unified': 1, 'Placentia Yorba Linda': 6, 'Saddleback Valley Un': 1, 'La Habra Unified': 1, 'Orange Unified School District - Schools': 1, 'Los Alamitos USD': 2, 'Rosemead School Dist': 1, 'William S. Hart Union High Scho': 279, 'Duarte USD': 4, 'EL RANCHO SCHOOL DIST.': 1, 'Oxnard Union High Sc': 9, 'Banning Unified School District': 1, 'Anaheim Union High School District': 3, 'Oak Park Unified School Distric': 6, 'Paramount Unified School Distri': 42, 'William S Hart School District': 3, 'Long Beach Unified School Distr': 601, 'Fullerton Joint Union High School District': 3, 'More Than 1 District - Call L/O': 29, 'Malibu': 2, 'Capostrano Valley': 1, 'Walnut Valley School District': 2, 'Simi Valley School District': 3, 'capistrano valley': 1, 'East Whittier City School District': 2, 'Moorpark Unified School District': 129, 'Claremont Unified': 268, 'Fountain Valley/Huntington Beach': 1, 'Morongo Unified': 6, 'Walnut Valley Unified SD': 1, 'South Pasadena': 50, 'Taft Union': 2, 'Los Alamitos': 2, 'BONITA UNIFIED': 6, 'Brea Unified': 1, 'Alhambra school district': 1, 'Lausd': 1, 'El Tejon Unified': 1, 'Oxnard Elementary School District': 2, 'Hacienda La Puente Unified School District': 1, 'DOWNEY UNIFIED SCHOOL DISTRICT': 1, 'Feather Falls Union': 1, 'Long Beach Unified School District': 13, 'Arcadia': 33, 'Sutter Union': 2, 'Paradise Unified': 3, 'Lynwood Unified School District': 25, 'Rowland Unified': 518, 'Lancaster Unified School District': 1, 'Yorba Linda Schools': 1, 'lancaster school district': 1, 'temple city': 1, 'Downey Unified School Disctrict': 1, 'Monrovia': 25, 'Santa Monica Unified School': 1, 'CAPO': 7, 'Westside Elementary District, AV High School District': 1, 'LB Unified School Dist.': 1, 'GARDEN GROVE UNIFIED': 6, 'Norwalk-La Mirada': 2, 'palmdale': 2, 'Capo Valley Unified': 1, 'Tustin Unified School Distruct': 1, 'Walnut School District': 2, 'cypress/Anaheim': 1, 'Pasadena Unified school district': 1, 'LYNWOOD UNIFIED DISTRIC': 1, 'Simi': 1, 'Los Angeles Unified School District': 63, 'Golden Valley Unified': 5, 'LOS ALAMITOS': 1, 'WALNUT VALLEY UNIFIED SCHOOL DISTRICT': 1, 'Placentia-Yorba Linda Unified S': 229, 'CapoUnified School District': 1, 'Huntington Beach': 9, 'Pleasant Valley': 119, 'South Redondo': 1, 'Norwalk La Mirada': 1, 'WMS HART SCHOOL DISTRICT': 1, 'Smmusd': 1, 'Long Beach Unified School': 1, 'MONTEBELLO UNIFIED': 3, 'Bonita USD': 1, 'Redondo Unified School District': 13, 'TEMPLE CITY UNIFIED': 2, 'Antelope Valley': 3, 'San Dimas School District': 8, 'Oxnard Unified School District': 1, 'Covina Unified': 2, 'Saddleback Unified Schools': 1, 'Los Molinos Unified': 1, 'Hart District': 1, 'VENTURA': 2, 'Beaumont': 1, 'Saddleback Valley Unified School District': 12, 'Huntington Beach Union High School District': 3, 'Cypress/ Anaheim Union High School': 1, 'Sulpher Springs schools': 1, 'South Hills': 1, 'FILLMORE UNIFIED': 2, 'OJai Unified': 1, 'Las Virgenes Unified School District': 12, 'Fontana Unified School District': 2, 'pasadena unified school district': 1, 'Huntington Beach Unified School District': 1, 'Covina Valley Unified School Di': 13, 'WEST COVINA UNIFIED': 2, 'PLACENTIA YORBA LINDA USD': 3, 'La Canada Unified': 12, 'Redondo Beach Unified': 2, 'Cucamonga': 1, 'Baldwin Park Unified School Dis': 14, '1989': 1, 'Los angeles unified school district': 1, 'Savana School District': 1, 'Los Banos Unified School District': 2, 'Redondo Unified Scho': 1, 'Turtle Rock': 2, 'LONG BEACH UNIFIED SD - ES AREA': 2, 'Simi Valley Unified School': 2, 'Orange Unified': 1804, 'El Monte Union': 7, 'Norwalk La Mirada Unified Schoo': 188, 'AV unified': 1, 'Merced Union': 1, 'HUENEME SCHOOL DISTRICT': 1, 'pamelow': 1, 'Compton Unified': 418, 'Coalinga-Huron Unifi': 1, 'WILLIAM S HART UNION HIGH SCHOOL DISTRICT': 2, 'LA, DISTRICT': 1, 'William S. Hart Unified': 1, 'Saugus Union; Hart': 1, 'Mojave Unified': 1, 'SANTA MONICA-MALIBU UNIFIED': 10, 'PVSD': 1, 'Coast Unified': 5, 'Wood Ranch': 2, 'Los Angeles Dist.': 1, 'SMUSD': 1, 'SANDIEGOUNIF': 1, 'Orange Center': 7, 'orange unified': 2, 'San Marino School District': 1, 'ABC Unified School District': 189, 'Placentia Linda School District': 1, 'Alhambra Unified': 1, 'Lowell Joint Union': 1, 'Pacific Palisades': 2, 'Palos Verdes / Lausd - Inquire': 29, 'NB': 5, 'Las Virgines School District': 1, 'Capistrano Valley': 12, 'Long Beach School District': 1, 'Carlsbad Unified School Distric': 2, 'William S. Hart Union High, Saugus Union Elementary': 1, 'Capo Valley': 2, 'Alvord Unified': 2, 'Hacienda La Puente Unified Scho': 41, 'San Bernardino City Unified Sch': 1, 'Garden Grove Unified': 1102, 'San Juan Capistrano': 5, 'Redlands Unified School Distric': 1, 'Conejo Valley Schools': 1, 'Malibu Unified': 1, 'Claremont Unified School Distri': 5, 'Bellflower Unified': 339, 'Culver City Unified School District': 38, 'Lancaster': 6, 'Irvine Unified School': 1, 'placentia yorba Linda Unified': 1, 'Bonita Unified School District': 12, 'Alameda City Unified': 9, \"O''Neals\": 1, 'Pasadena Unifed': 1, 'Palos Verdes / LAUSD - inquire': 46, 'Conejo Valley Unified School Di': 29, 'Rosemead School District': 3, 'Ventura Basic Unif': 1, 'HB': 1, 'Saugus & Hart School District': 1, 'Castaic and Hart Districts': 1, 'Murrieta': 2, 'Huntington Beach City School District': 2, 'av': 1, 'West Garden Grove': 1, 'CARMEL UNIFIED': 1, 'Newhall School District': 6, 'Chaffey Joint Union High': 10, 'FUL': 1, 'Clovis Unified': 10, 'NORWALK LA MIRADA UNIFIED SD': 1, 'Hesperia Unified': 3, 'Culver City': 9, 'Azusa Unified': 382, 'William Hart Union HS District': 1, 'Simi Valley': 8, 'Pasadena School': 2, 'Placentia Yorba Linda Unified': 1, 'Riverside Unified School Distri': 2, 'Nowalk La Mirada Unified': 1, 'santa monica school district': 1, 'San Bernardino City Unified': 18, 'A.V. Union High School District and Westside Elementary District': 1, 'Conejo valley': 1, 'SAN MARINO UNIFIED': 1, 'OPUSD OAK PARK UNIFIED SCHOOL DISTRICT': 1, 'Briggs Elementary Schools District': 1, 'Beverly Hills Unified': 13, 'Torrance Unified School District': 7, 'cvusd': 2, 'Anaheim City School District': 1, 'LA Unified/PV Option': 4, 'VUSD': 2, 'Compton Unified School District': 106, 'San Dimas': 78, 'Check with City': 4, 'Bellflower Unified School Distr': 52, 'Topanga': 1, 'Walnut Unified School District': 1, 'San Rafael City': 1, 'Palos Verdes Peninsula Unified Sd': 1, 'El Rancho Unified School District': 2, 'FULLERTON UNION': 1, 'irvine': 1, 'SANTA ANA UNIFIED SCHOOL DISTRICT': 1, 'Conejo Valley Unified Schools': 1, 'Santa Monica / Malibu': 1, 'Huntington Beach Union HS District': 1, 'las virgenes school district': 1, 'Pasadena Unified School Distric': 21, 'Covina': 2, 'Los Angeles Unified School Disctrict': 1, 'simi valley school district': 1, 'ojai': 1, 'Saugus School District': 3, 'Oap Park': 1, 'LOS ANGELES UNIFIED SCHOOL DISTRICT': 61, 'PVSD, OUHSD': 1, 'Hueneme': 2, 'Norwalk-La Mirada Unified': 2, 'Lancaster School District': 4, 'MONROVIA UNIFIED SCHOOL DISTRICT': 4, 'William S. Hart School District': 3, 'BURBANK UNIFIED': 7, 'saddleback Valley Unified School District': 1, 'ORANGE UNIFIED': 4, 'Calabasas': 1, 'Garden Grove Unified School': 1, 'Palos Verdes / LAUSD ??? inquire': 2, 'Saugus Elementary School District': 1, 'Antelope School Dist': 1, 'Manzanita elementary': 1})\n"
     ]
    }
   ],
   "source": [
    "school = temp['School district'].dropna()\n",
    "s_school = defaultdict(int)\n",
    "for i in range(len(school)):\n",
    "    item = school.iloc[i]\n",
    "    s_school[item] += 1\n",
    "print s_school"
   ]
  },
  {
   "cell_type": "code",
   "execution_count": 229,
   "metadata": {
    "collapsed": true
   },
   "outputs": [],
   "source": [
    "school = temp['School district'].dropna()"
   ]
  },
  {
   "cell_type": "code",
   "execution_count": 230,
   "metadata": {
    "collapsed": true
   },
   "outputs": [],
   "source": [
    "school[:] = 1"
   ]
  },
  {
   "cell_type": "code",
   "execution_count": 231,
   "metadata": {
    "collapsed": true
   },
   "outputs": [],
   "source": [
    "homes_df['school_district'] = school"
   ]
  },
  {
   "cell_type": "code",
   "execution_count": 232,
   "metadata": {
    "collapsed": true
   },
   "outputs": [],
   "source": [
    "homes_df['school_district'] = homes_df['school_district'].fillna(0)"
   ]
  },
  {
   "cell_type": "markdown",
   "metadata": {},
   "source": [
    "# Exterior material"
   ]
  },
  {
   "cell_type": "code",
   "execution_count": 233,
   "metadata": {},
   "outputs": [
    {
     "name": "stdout",
     "output_type": "stream",
     "text": [
      "defaultdict(<type 'int'>, {'Stone': 2725, 'Metal': 226, 'Shingle': 1340, 'Wood': 14453, 'Composition': 895, 'Wood products': 823, 'Other': 28356, 'Vinyl': 438, 'Brick': 4514, 'Stucco': 49885, 'Cement concrete': 2847})\n"
     ]
    }
   ],
   "source": [
    "exterior = temp['Exterior material'].dropna()\n",
    "s_exterior = defaultdict(int)\n",
    "for i in range(len(exterior)):\n",
    "    items = exterior.iloc[i].split(', ')\n",
    "    for item in items:\n",
    "        s_exterior[item] += 1\n",
    "print s_exterior"
   ]
  },
  {
   "cell_type": "code",
   "execution_count": 234,
   "metadata": {
    "collapsed": true
   },
   "outputs": [],
   "source": [
    "exterior_system = ['Stone', 'Shingle', 'Metal', 'Composition', 'Wood', 'Vinyl', 'Brick','Stucco', 'Cement concrete']"
   ]
  },
  {
   "cell_type": "code",
   "execution_count": 235,
   "metadata": {
    "collapsed": true
   },
   "outputs": [],
   "source": [
    "exterior_df = DataFrame()\n",
    "for exterior_way in exterior_system:\n",
    "    def cleanexterior(x):\n",
    "        if x.find(exterior_way):\n",
    "            return 1\n",
    "        return 0\n",
    "                      \n",
    "    exterior_new = exterior.map(cleanexterior)\n",
    "    exterior_df['exterior_' + exterior_way] = exterior_new"
   ]
  },
  {
   "cell_type": "code",
   "execution_count": 236,
   "metadata": {
    "collapsed": true
   },
   "outputs": [],
   "source": [
    "homes_df[exterior_df.columns] = exterior_df\n",
    "homes_df[exterior_df.columns] = homes_df[exterior_df.columns].fillna(0)"
   ]
  },
  {
   "cell_type": "markdown",
   "metadata": {},
   "source": [
    "# Lot depth"
   ]
  },
  {
   "cell_type": "markdown",
   "metadata": {},
   "source": [
    "## wating: 异常值"
   ]
  },
  {
   "cell_type": "code",
   "execution_count": 237,
   "metadata": {
    "collapsed": true
   },
   "outputs": [],
   "source": [
    "lotDepth = temp['Lot depth'].dropna()\n",
    "lotDepth_new = lotDepth.map(lambda x: int(x.split(' ')[0]))"
   ]
  },
  {
   "cell_type": "code",
   "execution_count": 238,
   "metadata": {
    "collapsed": true
   },
   "outputs": [],
   "source": [
    "homes_df['lotDepth'] = lotDepth_new"
   ]
  },
  {
   "cell_type": "code",
   "execution_count": 239,
   "metadata": {
    "collapsed": true
   },
   "outputs": [],
   "source": [
    "to_do.append('Lot depth')"
   ]
  },
  {
   "cell_type": "markdown",
   "metadata": {},
   "source": [
    "# Lot width"
   ]
  },
  {
   "cell_type": "markdown",
   "metadata": {},
   "source": [
    "## wating: 异常值"
   ]
  },
  {
   "cell_type": "code",
   "execution_count": 240,
   "metadata": {},
   "outputs": [
    {
     "data": {
      "text/plain": [
       "count    77851.000000\n",
       "mean        65.182914\n",
       "std        108.556766\n",
       "min          1.000000\n",
       "25%         50.000000\n",
       "50%         60.000000\n",
       "75%         70.000000\n",
       "max       9857.000000\n",
       "Name: Lot width, dtype: float64"
      ]
     },
     "execution_count": 240,
     "metadata": {},
     "output_type": "execute_result"
    }
   ],
   "source": [
    "lotWidth = temp['Lot width'].dropna()\n",
    "lotWidth_new = lotWidth.map(lambda x: int(x.split(' ')[0]))\n",
    "lotWidth_new.describe()"
   ]
  },
  {
   "cell_type": "code",
   "execution_count": 241,
   "metadata": {
    "collapsed": true
   },
   "outputs": [],
   "source": [
    "homes_df['lotWidth'] = lotWidth_new"
   ]
  },
  {
   "cell_type": "code",
   "execution_count": 242,
   "metadata": {
    "collapsed": true
   },
   "outputs": [],
   "source": [
    "to_do.append('Lot Width')"
   ]
  },
  {
   "cell_type": "markdown",
   "metadata": {},
   "source": [
    "# Patio"
   ]
  },
  {
   "cell_type": "code",
   "execution_count": 243,
   "metadata": {},
   "outputs": [
    {
     "name": "stdout",
     "output_type": "stream",
     "text": [
      "defaultdict(<type 'int'>, {'Deck': 70, '\"Porch\"': 30482, 'Other': 1, 'Enclosed': 36, 'Covered': 509, '\"Patio\"': 67937, '\"Deck\"': 13502, 'Slab': 519, 'Permitted': 46, 'Balcony': 56})\n"
     ]
    }
   ],
   "source": [
    "patio = temp['Patio'].dropna()\n",
    "s_patio = defaultdict(int)\n",
    "for i in range(len(patio)):\n",
    "    if patio.iloc[i].find('[') != -1:\n",
    "        items = patio.iloc[i][1:-1].split(',')\n",
    "        for item in items:\n",
    "            s_patio[item] += 1\n",
    "    else:\n",
    "        items = patio.iloc[i].split(', ')\n",
    "        for item in items:\n",
    "            s_patio[item] += 1\n",
    "print s_patio"
   ]
  },
  {
   "cell_type": "code",
   "execution_count": 244,
   "metadata": {
    "collapsed": true
   },
   "outputs": [],
   "source": [
    "patio_system= ['\"Porch\"', '\"Patio\"', '\"Deck\"']"
   ]
  },
  {
   "cell_type": "code",
   "execution_count": 245,
   "metadata": {
    "collapsed": true
   },
   "outputs": [],
   "source": [
    "patio_df = DataFrame()\n",
    "for patio_way in patio_system:\n",
    "    def cleanpatio(x):\n",
    "        if x.find('[') != -1:\n",
    "            items = x[1:-1].split(',')\n",
    "            for item in items:\n",
    "                if item == patio_way:\n",
    "                    return 1\n",
    "        return 0\n",
    "                      \n",
    "    patio_new = patio.map(cleanpatio)\n",
    "    patio_df['patio_' + patio_way] = patio_new"
   ]
  },
  {
   "cell_type": "code",
   "execution_count": 246,
   "metadata": {
    "collapsed": true
   },
   "outputs": [],
   "source": [
    "homes_df[patio_df.columns] = patio_df\n",
    "homes_df[patio_df.columns] = homes_df[patio_df.columns].fillna(0)"
   ]
  },
  {
   "cell_type": "markdown",
   "metadata": {},
   "source": [
    "# water"
   ]
  },
  {
   "cell_type": "code",
   "execution_count": 247,
   "metadata": {},
   "outputs": [
    {
     "name": "stdout",
     "output_type": "stream",
     "text": [
      "defaultdict(<type 'int'>, {'Well Domestic': 1, 'District': 153, 'Irrigation Connected': 1, 'In Street': 252, 'No Water': 1, 'Other': 16, 'Public Water System': 2, 'Stock Company': 7, '\"Pond\"': 1653, 'Fire Hydrant': 10, 'Water Softener - Owned': 1, 'Public': 450, 'Stock/Mutual': 12, 'Meter Paid/Not In': 1, 'Paid': 25, 'City/County': 8, '\"Pool\"': 65381, 'Own Well': 10, 'District/Public': 718, '\"Waterfront\"': 1592, 'Meter on Property': 88, 'Individual Water Meter': 7, 'Irrigat Connected': 1, 'Well': 2, 'Shared Well': 5, 'Mutual Water Source': 4, 'Stream - Year Round': 1, 'Private/Mutual': 1, 'Water District': 114, 'Public District': 1, 'Private': 11, 'Hauled Water': 1, 'On Site': 3, 'Public Utility': 1225})\n"
     ]
    }
   ],
   "source": [
    "water = temp['Water'].dropna()\n",
    "s_water = defaultdict(int)\n",
    "for i in range(len(water)):\n",
    "    if water.iloc[i].find('[') != -1:\n",
    "        items = water.iloc[i][1:-1].split(',')\n",
    "        for item in items:\n",
    "            s_water[item] += 1\n",
    "    else:\n",
    "        items = water.iloc[i].split(', ')\n",
    "        for item in items:\n",
    "            s_water[item] += 1\n",
    "print s_water"
   ]
  },
  {
   "cell_type": "code",
   "execution_count": 248,
   "metadata": {
    "collapsed": true
   },
   "outputs": [],
   "source": [
    "water_system = ['\"Pond\"', '\"Pool\"', '\"Waterfront\"']"
   ]
  },
  {
   "cell_type": "code",
   "execution_count": 249,
   "metadata": {
    "collapsed": true
   },
   "outputs": [],
   "source": [
    "water_df = DataFrame()\n",
    "for water_way in water_system:\n",
    "    def cleanwater(x):\n",
    "        if x.find('[') != -1:\n",
    "            items = x[1:-1].split(',')\n",
    "            for item in items:\n",
    "                if item == water_way:\n",
    "                    return 1\n",
    "        return 0\n",
    "                      \n",
    "    water_new = water.map(cleanwater)\n",
    "    water_df['water_' + water_way] = water_new"
   ]
  },
  {
   "cell_type": "code",
   "execution_count": 250,
   "metadata": {
    "collapsed": true
   },
   "outputs": [],
   "source": [
    "homes_df[water_df.columns] = water_df\n",
    "homes_df[water_df.columns] = homes_df[water_df.columns].fillna(0)"
   ]
  },
  {
   "cell_type": "markdown",
   "metadata": {},
   "source": [
    "# HOA Fee "
   ]
  },
  {
   "cell_type": "code",
   "execution_count": 251,
   "metadata": {
    "collapsed": true
   },
   "outputs": [],
   "source": [
    "hoa = temp['HOA Fee'].dropna()"
   ]
  },
  {
   "cell_type": "code",
   "execution_count": 252,
   "metadata": {},
   "outputs": [
    {
     "data": {
      "text/plain": [
       "'3'"
      ]
     },
     "execution_count": 252,
     "metadata": {},
     "output_type": "execute_result"
    }
   ],
   "source": [
    "re.match('\\$(\\d+).*','$3/mo' ).group(1)"
   ]
  },
  {
   "cell_type": "code",
   "execution_count": 253,
   "metadata": {},
   "outputs": [
    {
     "name": "stdout",
     "output_type": "stream",
     "text": [
      "-$150,577,609/mo\n"
     ]
    }
   ],
   "source": [
    "def cleanHOA(x):\n",
    "    matchObj = re.match('\\$(\\d+).*', x)\n",
    "    if matchObj:\n",
    "        return int(matchObj.group(1))\n",
    "    elif x.isdigit():\n",
    "        return int(x)\n",
    "    else:\n",
    "        print x\n",
    "        return 0\n",
    "hoa_new = hoa.map(cleanHOA)"
   ]
  },
  {
   "cell_type": "code",
   "execution_count": 254,
   "metadata": {
    "collapsed": true
   },
   "outputs": [],
   "source": [
    "hoa_new[hoa_new == 0] = np.nan"
   ]
  },
  {
   "cell_type": "code",
   "execution_count": 255,
   "metadata": {
    "collapsed": true
   },
   "outputs": [],
   "source": [
    "homes_df['hoa'] = hoa_new.copy()"
   ]
  },
  {
   "cell_type": "markdown",
   "metadata": {},
   "source": [
    "# View"
   ]
  },
  {
   "cell_type": "code",
   "execution_count": 256,
   "metadata": {},
   "outputs": [
    {
     "name": "stdout",
     "output_type": "stream",
     "text": [
      "defaultdict(<type 'int'>, {'Canal': 19, 'Mountain': 22001, 'Rocks': 30, 'Hills': 20, 'City': 16897, 'Orchard/Grove': 16, 'Lake': 79, 'Green Belt': 3, 'Vineyard': 1, 'Territorial': 5530, 'Creek/Stream': 118, 'Forest': 1, 'Vincent Thomas Bridge': 28, 'Other Water': 1, 'Valley': 5, 'Other': 3, 'See Remarks': 784, 'Courtyard': 366, 'River': 9, 'Neighbor&Tree; View': 1, 'Mountain View': 2, 'Trees/Woods': 1305, 'Park': 8255, 'Trees': 2, 'City Lights': 55, 'Water': 6891, 'Panoramic': 746, 'Woods': 1, 'Forest / Woods': 2, 'Coastline': 248, 'Bluff': 35, 'Greenbelt': 5, 'Marina': 70, 'Back Bay': 38, 'Partial/Filtered': 4, 'Pier': 20, 'Desert': 49, 'Pool': 34, 'Wooded': 2, 'Harbor': 148, 'Peek View': 1, 'Ocean': 731, 'Filter': 2, 'Peek-A-Boo': 573, 'Pasture': 19, 'Landmark': 24, 'Bay': 62, 'Beach Front': 1, 'Bridge': 33, 'Catalina': 243, 'Neighborhood': 6052, 'Meadow': 22, 'Reservoir': 18, 'Other/See Comments': 1, 'Pond': 105, 'Canyon': 375, 'Setting': 7, 'White Water': 17, 'Yes': 785, 'Golf Course': 257, 'Park Or Green Belt': 73})\n"
     ]
    }
   ],
   "source": [
    "view = temp['View'].dropna()\n",
    "s_view = defaultdict(int)\n",
    "for i in range(len(view)):\n",
    "    items = view.iloc[i].split(', ')\n",
    "    for item in items:\n",
    "        s_view[item] += 1\n",
    "print s_view"
   ]
  },
  {
   "cell_type": "code",
   "execution_count": 257,
   "metadata": {
    "collapsed": true
   },
   "outputs": [],
   "source": [
    "'''\n",
    "'canal': ['Canal'],  # 21\n",
    "'Lake': ['Lake'],   # 104\n",
    "'River': ['River'],  # 9\n",
    "'Pool':['Pool'],  # 40\n",
    "'pond': ['Pond'], # 128\n",
    "'Reservoir': ['Reservoir'],  # 22\n",
    "'Creek/Stream': ['Creek/Stream'],# 141\n",
    "'White water': ['White Water'], # 20\n",
    "'''\n",
    "\n",
    "'''\n",
    "'Bay': ['Back Bay', 'Bay'],\n",
    "'Ocean': ['Ocean'],\n",
    "'Coastline': ['Coastline'],\n",
    "'Harbor': ['Harbor'],\n",
    "'island':['Catalina'],\n",
    "'Marina':['Marina', 'Pier'],\n",
    "'Beach Front': ['Beach Front'],\n",
    "'''\n",
    "\n",
    "'''\n",
    "'Mountain': ['Mountain', 'Mountain View'],\n",
    "'Rocks': ['Rocks'],\n",
    "'Hills': ['Hills'],\n",
    "'Valley':['Valley'],\n",
    "'Canyon':['Canyon'],\n",
    "'Bluff': ['Bluff'], # 悬崖\n",
    "'''\n",
    "\n",
    "'''\n",
    "'Orchard': ['Orchard/Grove', 'Vineyard'],  # 18\n",
    "'Park': ['Park'],\n",
    "'Courtyard':['Courtyard'],\n",
    "'Meadow': ['Meadow'], \n",
    "'Pasture': ['Pasture']\n",
    "'Green Belt': ['Green Belt', 'Greenbelt', 'Park Or Green Belt'],\n",
    "'''\n",
    "view_system = {\n",
    "    \n",
    "    'water': ['Water', 'Canal', 'Lake', 'Creek/Stream','River', 'Pool' , 'Pond', 'Reservoir', 'White Water' ],\n",
    "\n",
    "    'ocean': ['Back Bay', 'Bay', 'Ocean', 'Coastline', 'Harbor', 'Catalina', 'Marina', 'Pier', 'Beach Front' ],\n",
    "    \n",
    "    'mountain': ['Mountain', 'Mountain View','Rocks', 'Hills', 'Valley', 'Canyon',  'Bluff'],\n",
    "    \n",
    "    'tree': ['Trees/Woods','Trees', 'Woods','Forest / Woods','Forest','Wooded'],\n",
    "    \n",
    "    'green land' : ['Orchard/Grove', 'Vineyard', 'Park', 'Courtyard', 'Meadow', 'Pasture', \n",
    "                    'Green Belt', 'Greenbelt', 'Park Or Green Belt'],\n",
    "    \n",
    "    'City': ['City', 'City Lights'],\n",
    "     \n",
    "    'Territorial':['Territorial'],  # 6374\n",
    "    \n",
    "    'Bridge': ['Vincent Thomas Bridge', 'Bridge'],  # 29 + 35\n",
    "      \n",
    "    'Panoramic': ['Panoramic','Peek View'],  #854 + 1\n",
    "    \n",
    "    'Desert': ['Desert'],  # 54\n",
    "\n",
    "    'Landmark': ['Landmark'], # 27\n",
    "    \n",
    "    'Others': ['Other','See Remarks', 'Other/See Comments']\n",
    "}"
   ]
  },
  {
   "cell_type": "code",
   "execution_count": 258,
   "metadata": {
    "collapsed": true
   },
   "outputs": [],
   "source": [
    "view_df = DataFrame()\n",
    "for view_way in view_system.keys():\n",
    "    def cleanview(x):\n",
    "        c = x.split(', ')\n",
    "        for cc in c:\n",
    "            if cc in view_system[view_way]:\n",
    "                return 1\n",
    "        return 0\n",
    "                      \n",
    "    view_new = view.map(cleanview)\n",
    "    view_df['view_' + view_way] = view_new"
   ]
  },
  {
   "cell_type": "code",
   "execution_count": 259,
   "metadata": {
    "scrolled": true
   },
   "outputs": [
    {
     "data": {
      "text/html": [
       "<div>\n",
       "<style scoped>\n",
       "    .dataframe tbody tr th:only-of-type {\n",
       "        vertical-align: middle;\n",
       "    }\n",
       "\n",
       "    .dataframe tbody tr th {\n",
       "        vertical-align: top;\n",
       "    }\n",
       "\n",
       "    .dataframe thead th {\n",
       "        text-align: right;\n",
       "    }\n",
       "</style>\n",
       "<table border=\"1\" class=\"dataframe\">\n",
       "  <thead>\n",
       "    <tr style=\"text-align: right;\">\n",
       "      <th></th>\n",
       "      <th>price</th>\n",
       "      <th>zipcode</th>\n",
       "      <th>Type and Style_[\"Apartment\"]</th>\n",
       "      <th>Type and Style_[\"Condo\"]</th>\n",
       "      <th>Type and Style_[\"Cooperative\"]</th>\n",
       "      <th>Type and Style_[\"Miscellaneous\"]</th>\n",
       "      <th>Type and Style_[\"Mobile / Manufactured\"]</th>\n",
       "      <th>Type and Style_[\"Multi Family\"]</th>\n",
       "      <th>Type and Style_[\"Multiple Occupancy\"]</th>\n",
       "      <th>Type and Style_[\"Other\"]</th>\n",
       "      <th>...</th>\n",
       "      <th>view_water</th>\n",
       "      <th>view_green land</th>\n",
       "      <th>view_Landmark</th>\n",
       "      <th>view_mountain</th>\n",
       "      <th>view_tree</th>\n",
       "      <th>view_Territorial</th>\n",
       "      <th>view_ocean</th>\n",
       "      <th>view_Panoramic</th>\n",
       "      <th>view_Others</th>\n",
       "      <th>view_Desert</th>\n",
       "    </tr>\n",
       "  </thead>\n",
       "  <tbody>\n",
       "    <tr>\n",
       "      <th>count</th>\n",
       "      <td>2.263280e+05</td>\n",
       "      <td>226328.000000</td>\n",
       "      <td>226328.000000</td>\n",
       "      <td>226328.000000</td>\n",
       "      <td>226328.000000</td>\n",
       "      <td>226328.000000</td>\n",
       "      <td>226328.000000</td>\n",
       "      <td>226328.000000</td>\n",
       "      <td>226328.000000</td>\n",
       "      <td>226328.000000</td>\n",
       "      <td>...</td>\n",
       "      <td>226328.000000</td>\n",
       "      <td>226328.000000</td>\n",
       "      <td>226328.000000</td>\n",
       "      <td>226328.000000</td>\n",
       "      <td>226328.000000</td>\n",
       "      <td>226328.000000</td>\n",
       "      <td>226328.000000</td>\n",
       "      <td>226328.000000</td>\n",
       "      <td>226328.000000</td>\n",
       "      <td>226328.000000</td>\n",
       "    </tr>\n",
       "    <tr>\n",
       "      <th>mean</th>\n",
       "      <td>6.472925e+05</td>\n",
       "      <td>91694.053683</td>\n",
       "      <td>0.000110</td>\n",
       "      <td>0.234469</td>\n",
       "      <td>0.000649</td>\n",
       "      <td>0.001286</td>\n",
       "      <td>0.002121</td>\n",
       "      <td>0.014572</td>\n",
       "      <td>0.004343</td>\n",
       "      <td>0.000243</td>\n",
       "      <td>...</td>\n",
       "      <td>0.031936</td>\n",
       "      <td>0.038661</td>\n",
       "      <td>0.000106</td>\n",
       "      <td>0.099157</td>\n",
       "      <td>0.005801</td>\n",
       "      <td>0.024434</td>\n",
       "      <td>0.003981</td>\n",
       "      <td>0.003301</td>\n",
       "      <td>0.003482</td>\n",
       "      <td>0.000216</td>\n",
       "    </tr>\n",
       "    <tr>\n",
       "      <th>std</th>\n",
       "      <td>7.149223e+05</td>\n",
       "      <td>1088.074673</td>\n",
       "      <td>0.010509</td>\n",
       "      <td>0.423668</td>\n",
       "      <td>0.025477</td>\n",
       "      <td>0.035834</td>\n",
       "      <td>0.046004</td>\n",
       "      <td>0.119831</td>\n",
       "      <td>0.065760</td>\n",
       "      <td>0.015587</td>\n",
       "      <td>...</td>\n",
       "      <td>0.175830</td>\n",
       "      <td>0.192785</td>\n",
       "      <td>0.010297</td>\n",
       "      <td>0.298873</td>\n",
       "      <td>0.075945</td>\n",
       "      <td>0.154391</td>\n",
       "      <td>0.062969</td>\n",
       "      <td>0.057355</td>\n",
       "      <td>0.058903</td>\n",
       "      <td>0.014712</td>\n",
       "    </tr>\n",
       "    <tr>\n",
       "      <th>min</th>\n",
       "      <td>1.000000e+00</td>\n",
       "      <td>90001.000000</td>\n",
       "      <td>0.000000</td>\n",
       "      <td>0.000000</td>\n",
       "      <td>0.000000</td>\n",
       "      <td>0.000000</td>\n",
       "      <td>0.000000</td>\n",
       "      <td>0.000000</td>\n",
       "      <td>0.000000</td>\n",
       "      <td>0.000000</td>\n",
       "      <td>...</td>\n",
       "      <td>0.000000</td>\n",
       "      <td>0.000000</td>\n",
       "      <td>0.000000</td>\n",
       "      <td>0.000000</td>\n",
       "      <td>0.000000</td>\n",
       "      <td>0.000000</td>\n",
       "      <td>0.000000</td>\n",
       "      <td>0.000000</td>\n",
       "      <td>0.000000</td>\n",
       "      <td>0.000000</td>\n",
       "    </tr>\n",
       "    <tr>\n",
       "      <th>25%</th>\n",
       "      <td>3.900000e+05</td>\n",
       "      <td>90720.000000</td>\n",
       "      <td>0.000000</td>\n",
       "      <td>0.000000</td>\n",
       "      <td>0.000000</td>\n",
       "      <td>0.000000</td>\n",
       "      <td>0.000000</td>\n",
       "      <td>0.000000</td>\n",
       "      <td>0.000000</td>\n",
       "      <td>0.000000</td>\n",
       "      <td>...</td>\n",
       "      <td>0.000000</td>\n",
       "      <td>0.000000</td>\n",
       "      <td>0.000000</td>\n",
       "      <td>0.000000</td>\n",
       "      <td>0.000000</td>\n",
       "      <td>0.000000</td>\n",
       "      <td>0.000000</td>\n",
       "      <td>0.000000</td>\n",
       "      <td>0.000000</td>\n",
       "      <td>0.000000</td>\n",
       "    </tr>\n",
       "    <tr>\n",
       "      <th>50%</th>\n",
       "      <td>5.300000e+05</td>\n",
       "      <td>91406.000000</td>\n",
       "      <td>0.000000</td>\n",
       "      <td>0.000000</td>\n",
       "      <td>0.000000</td>\n",
       "      <td>0.000000</td>\n",
       "      <td>0.000000</td>\n",
       "      <td>0.000000</td>\n",
       "      <td>0.000000</td>\n",
       "      <td>0.000000</td>\n",
       "      <td>...</td>\n",
       "      <td>0.000000</td>\n",
       "      <td>0.000000</td>\n",
       "      <td>0.000000</td>\n",
       "      <td>0.000000</td>\n",
       "      <td>0.000000</td>\n",
       "      <td>0.000000</td>\n",
       "      <td>0.000000</td>\n",
       "      <td>0.000000</td>\n",
       "      <td>0.000000</td>\n",
       "      <td>0.000000</td>\n",
       "    </tr>\n",
       "    <tr>\n",
       "      <th>75%</th>\n",
       "      <td>7.271000e+05</td>\n",
       "      <td>92688.000000</td>\n",
       "      <td>0.000000</td>\n",
       "      <td>0.000000</td>\n",
       "      <td>0.000000</td>\n",
       "      <td>0.000000</td>\n",
       "      <td>0.000000</td>\n",
       "      <td>0.000000</td>\n",
       "      <td>0.000000</td>\n",
       "      <td>0.000000</td>\n",
       "      <td>...</td>\n",
       "      <td>0.000000</td>\n",
       "      <td>0.000000</td>\n",
       "      <td>0.000000</td>\n",
       "      <td>0.000000</td>\n",
       "      <td>0.000000</td>\n",
       "      <td>0.000000</td>\n",
       "      <td>0.000000</td>\n",
       "      <td>0.000000</td>\n",
       "      <td>0.000000</td>\n",
       "      <td>0.000000</td>\n",
       "    </tr>\n",
       "    <tr>\n",
       "      <th>max</th>\n",
       "      <td>8.000000e+07</td>\n",
       "      <td>96161.000000</td>\n",
       "      <td>1.000000</td>\n",
       "      <td>1.000000</td>\n",
       "      <td>1.000000</td>\n",
       "      <td>1.000000</td>\n",
       "      <td>1.000000</td>\n",
       "      <td>1.000000</td>\n",
       "      <td>1.000000</td>\n",
       "      <td>1.000000</td>\n",
       "      <td>...</td>\n",
       "      <td>1.000000</td>\n",
       "      <td>1.000000</td>\n",
       "      <td>1.000000</td>\n",
       "      <td>1.000000</td>\n",
       "      <td>1.000000</td>\n",
       "      <td>1.000000</td>\n",
       "      <td>1.000000</td>\n",
       "      <td>1.000000</td>\n",
       "      <td>1.000000</td>\n",
       "      <td>1.000000</td>\n",
       "    </tr>\n",
       "  </tbody>\n",
       "</table>\n",
       "<p>8 rows × 153 columns</p>\n",
       "</div>"
      ],
      "text/plain": [
       "              price        zipcode  Type and Style_[\"Apartment\"]  \\\n",
       "count  2.263280e+05  226328.000000                 226328.000000   \n",
       "mean   6.472925e+05   91694.053683                      0.000110   \n",
       "std    7.149223e+05    1088.074673                      0.010509   \n",
       "min    1.000000e+00   90001.000000                      0.000000   \n",
       "25%    3.900000e+05   90720.000000                      0.000000   \n",
       "50%    5.300000e+05   91406.000000                      0.000000   \n",
       "75%    7.271000e+05   92688.000000                      0.000000   \n",
       "max    8.000000e+07   96161.000000                      1.000000   \n",
       "\n",
       "       Type and Style_[\"Condo\"]  Type and Style_[\"Cooperative\"]  \\\n",
       "count             226328.000000                   226328.000000   \n",
       "mean                   0.234469                        0.000649   \n",
       "std                    0.423668                        0.025477   \n",
       "min                    0.000000                        0.000000   \n",
       "25%                    0.000000                        0.000000   \n",
       "50%                    0.000000                        0.000000   \n",
       "75%                    0.000000                        0.000000   \n",
       "max                    1.000000                        1.000000   \n",
       "\n",
       "       Type and Style_[\"Miscellaneous\"]  \\\n",
       "count                     226328.000000   \n",
       "mean                           0.001286   \n",
       "std                            0.035834   \n",
       "min                            0.000000   \n",
       "25%                            0.000000   \n",
       "50%                            0.000000   \n",
       "75%                            0.000000   \n",
       "max                            1.000000   \n",
       "\n",
       "       Type and Style_[\"Mobile / Manufactured\"]  \\\n",
       "count                             226328.000000   \n",
       "mean                                   0.002121   \n",
       "std                                    0.046004   \n",
       "min                                    0.000000   \n",
       "25%                                    0.000000   \n",
       "50%                                    0.000000   \n",
       "75%                                    0.000000   \n",
       "max                                    1.000000   \n",
       "\n",
       "       Type and Style_[\"Multi Family\"]  Type and Style_[\"Multiple Occupancy\"]  \\\n",
       "count                    226328.000000                          226328.000000   \n",
       "mean                          0.014572                               0.004343   \n",
       "std                           0.119831                               0.065760   \n",
       "min                           0.000000                               0.000000   \n",
       "25%                           0.000000                               0.000000   \n",
       "50%                           0.000000                               0.000000   \n",
       "75%                           0.000000                               0.000000   \n",
       "max                           1.000000                               1.000000   \n",
       "\n",
       "       Type and Style_[\"Other\"]      ...           view_water  \\\n",
       "count             226328.000000      ...        226328.000000   \n",
       "mean                   0.000243      ...             0.031936   \n",
       "std                    0.015587      ...             0.175830   \n",
       "min                    0.000000      ...             0.000000   \n",
       "25%                    0.000000      ...             0.000000   \n",
       "50%                    0.000000      ...             0.000000   \n",
       "75%                    0.000000      ...             0.000000   \n",
       "max                    1.000000      ...             1.000000   \n",
       "\n",
       "       view_green land  view_Landmark  view_mountain      view_tree  \\\n",
       "count    226328.000000  226328.000000  226328.000000  226328.000000   \n",
       "mean          0.038661       0.000106       0.099157       0.005801   \n",
       "std           0.192785       0.010297       0.298873       0.075945   \n",
       "min           0.000000       0.000000       0.000000       0.000000   \n",
       "25%           0.000000       0.000000       0.000000       0.000000   \n",
       "50%           0.000000       0.000000       0.000000       0.000000   \n",
       "75%           0.000000       0.000000       0.000000       0.000000   \n",
       "max           1.000000       1.000000       1.000000       1.000000   \n",
       "\n",
       "       view_Territorial     view_ocean  view_Panoramic    view_Others  \\\n",
       "count     226328.000000  226328.000000   226328.000000  226328.000000   \n",
       "mean           0.024434       0.003981        0.003301       0.003482   \n",
       "std            0.154391       0.062969        0.057355       0.058903   \n",
       "min            0.000000       0.000000        0.000000       0.000000   \n",
       "25%            0.000000       0.000000        0.000000       0.000000   \n",
       "50%            0.000000       0.000000        0.000000       0.000000   \n",
       "75%            0.000000       0.000000        0.000000       0.000000   \n",
       "max            1.000000       1.000000        1.000000       1.000000   \n",
       "\n",
       "         view_Desert  \n",
       "count  226328.000000  \n",
       "mean        0.000216  \n",
       "std         0.014712  \n",
       "min         0.000000  \n",
       "25%         0.000000  \n",
       "50%         0.000000  \n",
       "75%         0.000000  \n",
       "max         1.000000  \n",
       "\n",
       "[8 rows x 153 columns]"
      ]
     },
     "execution_count": 259,
     "metadata": {},
     "output_type": "execute_result"
    }
   ],
   "source": [
    "homes_df[view_df.columns] = view_df\n",
    "homes_df[view_df.columns] = homes_df[view_df.columns].fillna(0)\n",
    "homes_df.describe()"
   ]
  },
  {
   "cell_type": "markdown",
   "metadata": {},
   "source": [
    "# Yard"
   ]
  },
  {
   "cell_type": "code",
   "execution_count": 260,
   "metadata": {},
   "outputs": [
    {
     "name": "stdout",
     "output_type": "stream",
     "text": [
      "defaultdict(<type 'int'>, {'\"Garden\"': 15840, '\"Fenced Yard\"': 30926, '\"Lawn\"': 37835})\n"
     ]
    }
   ],
   "source": [
    "yard = temp['Yard'].dropna()\n",
    "s_yard = defaultdict(int)\n",
    "for i in range(len(yard)):\n",
    "    if yard.iloc[i].find('[') != -1:\n",
    "        items = yard.iloc[i][1:-1].split(',')\n",
    "        for item in items:\n",
    "            s_yard[item] += 1\n",
    "print s_yard"
   ]
  },
  {
   "cell_type": "code",
   "execution_count": 261,
   "metadata": {
    "collapsed": true
   },
   "outputs": [],
   "source": [
    "yard_system = s_yard.keys()"
   ]
  },
  {
   "cell_type": "code",
   "execution_count": 262,
   "metadata": {
    "collapsed": true
   },
   "outputs": [],
   "source": [
    "yard_df = DataFrame()\n",
    "for yard_way in yard_system:\n",
    "    def cleanyard(x):\n",
    "        if x.find('[') != -1:\n",
    "            items = x[1:-1].split(',')\n",
    "            for item in items:\n",
    "                if item == yard_way:\n",
    "                    return 1\n",
    "        return 0\n",
    "                      \n",
    "    yard_new = yard.map(cleanyard)\n",
    "    yard_df['yard_' + yard_way] = yard_new"
   ]
  },
  {
   "cell_type": "code",
   "execution_count": 263,
   "metadata": {
    "collapsed": true
   },
   "outputs": [],
   "source": [
    "homes_df[yard_df.columns] = yard_df\n",
    "homes_df[yard_df.columns] = homes_df[yard_df.columns].fillna(0)"
   ]
  },
  {
   "cell_type": "markdown",
   "metadata": {},
   "source": [
    "# Baths"
   ]
  },
  {
   "cell_type": "code",
   "execution_count": 264,
   "metadata": {
    "collapsed": true
   },
   "outputs": [],
   "source": [
    "baths = temp.Baths.dropna()\n",
    "baths_system = ['full', 'three-quarter', 'half']"
   ]
  },
  {
   "cell_type": "code",
   "execution_count": 265,
   "metadata": {
    "collapsed": true
   },
   "outputs": [],
   "source": [
    "bath_df = DataFrame()\n",
    "for bath in baths_system:\n",
    "    def cleanBaths(x):\n",
    "        c = x.split(', ')\n",
    "        for cc in c:\n",
    "            cc = cc.split(' ')\n",
    "            if cc[1] == bath:\n",
    "                return int(cc[0])\n",
    "        return 0\n",
    "    baths_new = baths.map(cleanBaths)\n",
    "    bath_df['bath_'+bath] = baths_new"
   ]
  },
  {
   "cell_type": "code",
   "execution_count": 266,
   "metadata": {
    "collapsed": true
   },
   "outputs": [],
   "source": [
    "homes_df[bath_df.columns] = bath_df\n",
    "homes_df[bath_df.columns] = homes_df[bath_df.columns].fillna(0)"
   ]
  },
  {
   "cell_type": "markdown",
   "metadata": {},
   "source": [
    "# High school"
   ]
  },
  {
   "cell_type": "code",
   "execution_count": 267,
   "metadata": {
    "collapsed": true
   },
   "outputs": [],
   "source": [
    "high = temp['High school'].dropna()"
   ]
  },
  {
   "cell_type": "code",
   "execution_count": 268,
   "metadata": {
    "collapsed": true
   },
   "outputs": [],
   "source": [
    "high[:] =1"
   ]
  },
  {
   "cell_type": "code",
   "execution_count": 269,
   "metadata": {
    "collapsed": true
   },
   "outputs": [],
   "source": [
    "homes_df['high_school'] = high"
   ]
  },
  {
   "cell_type": "code",
   "execution_count": 270,
   "metadata": {
    "collapsed": true
   },
   "outputs": [],
   "source": [
    "homes_df['high_school'].fillna(0, inplace=True)"
   ]
  },
  {
   "cell_type": "code",
   "execution_count": 271,
   "metadata": {},
   "outputs": [
    {
     "data": {
      "text/plain": [
       "'\\nLaundryFeatures             0.101324\\nRoomType                    0.108479\\nStreetSuffix                0.111728\\nPreviousStandardStatus      0.121425\\nYearBuiltSource             0.121806\\nLotSizeSource               0.123083\\nElevationUnits              0.125940\\nLotFeatures                 0.128335\\nLivingAreaUnits             0.129372\\nAmenities                   0.130552\\nWaterSource                 0.131208\\nHighSchoolDistrict          0.131348\\nStateOrProvince             0.131802\\nStandardStatus              0.131802\\nSpecialListingConditions    0.132613\\nCommunityFeatures           0.133250\\nLevels                      0.138436\\nUnit floor #                0.146270\\nCommonWalls                 0.148622\\nMiddle school               0.151317\\nMaterials                   0.159108\\nPropertyType\\n'"
      ]
     },
     "execution_count": 271,
     "metadata": {},
     "output_type": "execute_result"
    }
   ],
   "source": [
    "'''\n",
    "LaundryFeatures             0.101324\n",
    "RoomType                    0.108479\n",
    "StreetSuffix                0.111728\n",
    "PreviousStandardStatus      0.121425\n",
    "YearBuiltSource             0.121806\n",
    "LotSizeSource               0.123083\n",
    "ElevationUnits              0.125940\n",
    "LotFeatures                 0.128335\n",
    "LivingAreaUnits             0.129372\n",
    "Amenities                   0.130552\n",
    "WaterSource                 0.131208\n",
    "HighSchoolDistrict          0.131348\n",
    "StateOrProvince             0.131802\n",
    "StandardStatus              0.131802\n",
    "SpecialListingConditions    0.132613\n",
    "CommunityFeatures           0.133250\n",
    "Levels                      0.138436\n",
    "Unit floor #                0.146270\n",
    "CommonWalls                 0.148622\n",
    "Middle school               0.151317\n",
    "Materials                   0.159108\n",
    "PropertyType\n",
    "'''"
   ]
  },
  {
   "cell_type": "markdown",
   "metadata": {},
   "source": [
    "# Materials"
   ]
  },
  {
   "cell_type": "code",
   "execution_count": 272,
   "metadata": {},
   "outputs": [
    {
     "data": {
      "text/plain": [
       "[\"Double Pane/Storm Windows\"]               26684\n",
       "[\"Skylight\"]                                 4602\n",
       "[\"Double Pane/Storm Windows\",\"Skylight\"]     4034\n",
       "Name: Materials, dtype: int64"
      ]
     },
     "execution_count": 272,
     "metadata": {},
     "output_type": "execute_result"
    }
   ],
   "source": [
    "temp.Materials.value_counts()"
   ]
  },
  {
   "cell_type": "code",
   "execution_count": 273,
   "metadata": {
    "collapsed": true
   },
   "outputs": [],
   "source": [
    "material_system = ['\"Double Pane/Storm Windows\"', '\"Skylight\"']"
   ]
  },
  {
   "cell_type": "code",
   "execution_count": 274,
   "metadata": {
    "collapsed": true
   },
   "outputs": [],
   "source": [
    "material = temp.Materials.dropna()\n",
    "material_df = DataFrame()\n",
    "for material_way in material_system:\n",
    "    def cleanmaterial(x):\n",
    "        if x.find('[') != -1:\n",
    "            items = x[1:-1].split(',')\n",
    "            for item in items:\n",
    "                if item == material_way:\n",
    "                    return 1\n",
    "        return 0\n",
    "                      \n",
    "    material_new = material.map(cleanmaterial)\n",
    "    material_df['material_' + material_way] = material_new"
   ]
  },
  {
   "cell_type": "code",
   "execution_count": 275,
   "metadata": {
    "collapsed": true
   },
   "outputs": [],
   "source": [
    "homes_df[material_df.columns] = material_df\n",
    "homes_df[material_df.columns] = homes_df[material_df.columns].fillna(0)"
   ]
  },
  {
   "cell_type": "markdown",
   "metadata": {},
   "source": [
    "# Middle school"
   ]
  },
  {
   "cell_type": "code",
   "execution_count": 276,
   "metadata": {
    "collapsed": true
   },
   "outputs": [],
   "source": [
    "middle =  temp['Middle school'].dropna()\n",
    "middle[:] = 1\n",
    "homes_df['middle_school'] = middle"
   ]
  },
  {
   "cell_type": "code",
   "execution_count": 277,
   "metadata": {
    "collapsed": true
   },
   "outputs": [],
   "source": [
    "homes_df['middle_school'].fillna(0, inplace=True)"
   ]
  },
  {
   "cell_type": "code",
   "execution_count": 278,
   "metadata": {
    "collapsed": true
   },
   "outputs": [],
   "source": [
    "homes_df.drop_duplicates(['sold_date', 'price', 'zipcode', 'city'], inplace=True)"
   ]
  },
  {
   "cell_type": "code",
   "execution_count": 279,
   "metadata": {},
   "outputs": [
    {
     "data": {
      "text/plain": [
       "(224303, 166)"
      ]
     },
     "execution_count": 279,
     "metadata": {},
     "output_type": "execute_result"
    }
   ],
   "source": [
    "homes_df.shape\n"
   ]
  },
  {
   "cell_type": "code",
   "execution_count": 280,
   "metadata": {},
   "outputs": [],
   "source": [
    "homes_df.to_csv('1_all_2.csv')"
   ]
  },
  {
   "cell_type": "code",
   "execution_count": 281,
   "metadata": {
    "collapsed": true
   },
   "outputs": [
    {
     "data": {
      "text/plain": [
       "Unnamed: 0\n",
       "1           1.0\n",
       "2           0.0\n",
       "3           NaN\n",
       "4           1.0\n",
       "5           1.0\n",
       "6         275.0\n",
       "7           3.0\n",
       "8           1.0\n",
       "9           1.0\n",
       "10          1.0\n",
       "11          0.0\n",
       "12          1.0\n",
       "13          0.0\n",
       "14          0.0\n",
       "15          1.0\n",
       "16        311.0\n",
       "17        170.0\n",
       "18          1.0\n",
       "19          0.0\n",
       "20          1.0\n",
       "21          0.0\n",
       "22          1.0\n",
       "23          1.0\n",
       "24         24.0\n",
       "25        403.0\n",
       "26          1.0\n",
       "27          1.0\n",
       "28          1.0\n",
       "29          1.0\n",
       "30          1.0\n",
       "          ...  \n",
       "226299      NaN\n",
       "226300      1.0\n",
       "226301      1.0\n",
       "226302      NaN\n",
       "226303      1.0\n",
       "226304      1.0\n",
       "226305      1.0\n",
       "226306      NaN\n",
       "226307      1.0\n",
       "226308      NaN\n",
       "226309     97.0\n",
       "226310      NaN\n",
       "226311      NaN\n",
       "226312      1.0\n",
       "226313      0.0\n",
       "226314      NaN\n",
       "226315      0.0\n",
       "226316      1.0\n",
       "226317      1.0\n",
       "226318      NaN\n",
       "226319      NaN\n",
       "226320      1.0\n",
       "226321      1.0\n",
       "226322     40.0\n",
       "226323      1.0\n",
       "226324      NaN\n",
       "226325      1.0\n",
       "226326      0.0\n",
       "226327      NaN\n",
       "226328      1.0\n",
       "Name: unit_count, Length: 224303, dtype: float64"
      ]
     },
     "execution_count": 281,
     "metadata": {},
     "output_type": "execute_result"
    }
   ],
   "source": [
    "homes_df['unit_count']"
   ]
  },
  {
   "cell_type": "markdown",
   "metadata": {},
   "source": [
    "# "
   ]
  }
 ],
 "metadata": {
  "kernelspec": {
   "display_name": "Python 2",
   "language": "python",
   "name": "python2"
  },
  "language_info": {
   "codemirror_mode": {
    "name": "ipython",
    "version": 2
   },
   "file_extension": ".py",
   "mimetype": "text/x-python",
   "name": "python",
   "nbconvert_exporter": "python",
   "pygments_lexer": "ipython2",
   "version": "2.7.10"
  }
 },
 "nbformat": 4,
 "nbformat_minor": 2
}
