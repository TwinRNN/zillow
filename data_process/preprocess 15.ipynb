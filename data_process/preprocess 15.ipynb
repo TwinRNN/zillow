{
 "cells": [
  {
   "cell_type": "code",
   "execution_count": 41,
   "metadata": {
    "collapsed": true
   },
   "outputs": [
    {
     "data": {
      "text/plain": [
       "0              1\n",
       "1              2\n",
       "2              3\n",
       "3              4\n",
       "4              5\n",
       "5              6\n",
       "6              7\n",
       "7              8\n",
       "8              9\n",
       "9             10\n",
       "10            11\n",
       "11            12\n",
       "12            13\n",
       "13            14\n",
       "14            15\n",
       "15            16\n",
       "16            17\n",
       "17            18\n",
       "18            19\n",
       "19            20\n",
       "20            21\n",
       "21            22\n",
       "22            23\n",
       "23            24\n",
       "24            25\n",
       "25            26\n",
       "26            27\n",
       "27            28\n",
       "28            29\n",
       "29            30\n",
       "           ...  \n",
       "224273    226299\n",
       "224274    226300\n",
       "224275    226301\n",
       "224276    226302\n",
       "224277    226303\n",
       "224278    226304\n",
       "224279    226305\n",
       "224280    226306\n",
       "224281    226307\n",
       "224282    226308\n",
       "224283    226309\n",
       "224284    226310\n",
       "224285    226311\n",
       "224286    226312\n",
       "224287    226313\n",
       "224288    226314\n",
       "224289    226315\n",
       "224290    226316\n",
       "224291    226317\n",
       "224292    226318\n",
       "224293    226319\n",
       "224294    226320\n",
       "224295    226321\n",
       "224296    226322\n",
       "224297    226323\n",
       "224298    226324\n",
       "224299    226325\n",
       "224300    226326\n",
       "224301    226327\n",
       "224302    226328\n",
       "Name: Unnamed: 0, Length: 224303, dtype: int64"
      ]
     },
     "execution_count": 41,
     "metadata": {},
     "output_type": "execute_result"
    }
   ],
   "source": [
    "import pandas as pd\n",
    "from datetime import datetime\n",
    "import matplotlib.pyplot as plt\n",
    "import numpy as np\n",
    "import re\n",
    "from pandas import DataFrame, Series\n",
    "file_name = '1_all_2.csv'\n",
    "homes_df = pd.read_csv(file_name)\n",
    "homes_df.pop('Unnamed: 0')\n",
    "# homes_df.pop('city')"
   ]
  },
  {
   "cell_type": "code",
   "execution_count": 42,
   "metadata": {
    "collapsed": true
   },
   "outputs": [],
   "source": [
    "homes_df.index = np.arange(len(homes_df)) + 1\n",
    "# homes_df.pop('unit_count')\n",
    "# homes = homes_df.drop_duplicates(['price', 'sold_date', 'zipcode'])"
   ]
  },
  {
   "cell_type": "markdown",
   "metadata": {},
   "source": [
    "## 数据范围： 2015.8.1 ~ 2017.9.1"
   ]
  },
  {
   "cell_type": "code",
   "execution_count": 43,
   "metadata": {},
   "outputs": [],
   "source": [
    "homes_df.shape\n",
    "bar = datetime(2017, 9, 1)\n",
    "homes_df = homes_df[homes_df.sold_date.map(lambda x: datetime.strptime(x, '%Y-%m-%d')) < bar]\n",
    "homes_df.index = np.arange(len(homes_df)) +1"
   ]
  },
  {
   "cell_type": "code",
   "execution_count": 44,
   "metadata": {
    "collapsed": true
   },
   "outputs": [],
   "source": [
    "bar = datetime(2015, 7, 31)\n",
    "homes_df = homes_df[homes_df.sold_date.map(lambda x: datetime.strptime(x, '%Y-%m-%d')) > bar]"
   ]
  },
  {
   "cell_type": "code",
   "execution_count": 45,
   "metadata": {
    "collapsed": true
   },
   "outputs": [],
   "source": [
    "# change date \n",
    "start_time = datetime(2015, 8, 1)\n",
    "homes_df.sold_date = homes_df.sold_date.map(lambda x: (datetime.strptime(x, '%Y-%m-%d') - start_time).days)"
   ]
  },
  {
   "cell_type": "markdown",
   "metadata": {},
   "source": [
    "## 价格范围：>10万"
   ]
  },
  {
   "cell_type": "code",
   "execution_count": 46,
   "metadata": {
    "collapsed": true
   },
   "outputs": [],
   "source": [
    "homes_df = homes_df[homes_df.price > 100000]"
   ]
  },
  {
   "cell_type": "code",
   "execution_count": 48,
   "metadata": {},
   "outputs": [
    {
     "data": {
      "text/plain": [
       "(166003, 166)"
      ]
     },
     "execution_count": 48,
     "metadata": {},
     "output_type": "execute_result"
    }
   ],
   "source": [
    "homes_df.shape"
   ]
  },
  {
   "cell_type": "markdown",
   "metadata": {},
   "source": [
    "## 去除5个STD以外的数据"
   ]
  },
  {
   "cell_type": "code",
   "execution_count": 49,
   "metadata": {
    "collapsed": true
   },
   "outputs": [],
   "source": [
    "todeletecolumns = ['unit_count', 'price', 'size', 'Beds', 'lot', 'garage_num', 'stories','room_count', 'lotDepth', 'lotWidth', 'hoa']\n",
    "'''\n",
    "homes_new = homes_df.copy()\n",
    "summ = 0\n",
    "for col in todeletecolumns:\n",
    "    temp = homes_new[col].dropna()\n",
    "    summ += len(temp[np.abs(temp - temp.mean()) > 5 * temp.std()])\n",
    "print summ\n",
    "'''\n",
    "for col in todeletecolumns:\n",
    "    temp = homes_df[col].dropna()\n",
    "    homes_df = homes_df.drop(temp[np.abs(temp - temp.mean()) > 5 * temp.std()].index)"
   ]
  },
  {
   "cell_type": "code",
   "execution_count": 50,
   "metadata": {},
   "outputs": [
    {
     "data": {
      "text/plain": [
       "(163745, 166)"
      ]
     },
     "execution_count": 50,
     "metadata": {},
     "output_type": "execute_result"
    }
   ],
   "source": [
    "homes_df.shape"
   ]
  },
  {
   "cell_type": "markdown",
   "metadata": {},
   "source": [
    "## 选择某些地区的数据"
   ]
  },
  {
   "cell_type": "code",
   "execution_count": 58,
   "metadata": {},
   "outputs": [
    {
     "data": {
      "text/plain": [
       "(45152, 166)"
      ]
     },
     "execution_count": 58,
     "metadata": {},
     "output_type": "execute_result"
    }
   ],
   "source": [
    "city = 'Los Angeles, Long Beach, Anaheim, Santa Ana, Irvine, Glendale, Torrance, Pasadena, Orange, Costa Mesa, Burbank, Carson, Santa Monica, Newport Beach, Tustin, Monterey Park, Gardena, Arcadia, Fountain Valley'\n",
    "c = city.split(', ')\n",
    "homes_selected = homes_df[homes_df.city.isin(c)]\n",
    "homes_selected.shape"
   ]
  },
  {
   "cell_type": "markdown",
   "metadata": {},
   "source": [
    "## write"
   ]
  },
  {
   "cell_type": "code",
   "execution_count": 59,
   "metadata": {},
   "outputs": [
    {
     "data": {
      "text/html": [
       "<div>\n",
       "<style scoped>\n",
       "    .dataframe tbody tr th:only-of-type {\n",
       "        vertical-align: middle;\n",
       "    }\n",
       "\n",
       "    .dataframe tbody tr th {\n",
       "        vertical-align: top;\n",
       "    }\n",
       "\n",
       "    .dataframe thead th {\n",
       "        text-align: right;\n",
       "    }\n",
       "</style>\n",
       "<table border=\"1\" class=\"dataframe\">\n",
       "  <thead>\n",
       "    <tr style=\"text-align: right;\">\n",
       "      <th></th>\n",
       "      <th>sold_date</th>\n",
       "      <th>price</th>\n",
       "      <th>detail_url</th>\n",
       "      <th>city</th>\n",
       "      <th>zipcode</th>\n",
       "      <th>Type and Style_[\"Apartment\"]</th>\n",
       "      <th>Type and Style_[\"Condo\"]</th>\n",
       "      <th>Type and Style_[\"Cooperative\"]</th>\n",
       "      <th>Type and Style_[\"Miscellaneous\"]</th>\n",
       "      <th>Type and Style_[\"Mobile / Manufactured\"]</th>\n",
       "      <th>...</th>\n",
       "      <th>yard_\"Garden\"</th>\n",
       "      <th>yard_\"Fenced Yard\"</th>\n",
       "      <th>yard_\"Lawn\"</th>\n",
       "      <th>bath_full</th>\n",
       "      <th>bath_three-quarter</th>\n",
       "      <th>bath_half</th>\n",
       "      <th>high_school</th>\n",
       "      <th>material_\"Double Pane/Storm Windows\"</th>\n",
       "      <th>material_\"Skylight\"</th>\n",
       "      <th>middle_school</th>\n",
       "    </tr>\n",
       "  </thead>\n",
       "  <tbody>\n",
       "    <tr>\n",
       "      <th>35329</th>\n",
       "      <td>0</td>\n",
       "      <td>1568000.0</td>\n",
       "      <td>https://www.zillow.com/homedetails/1739-Elevad...</td>\n",
       "      <td>Arcadia</td>\n",
       "      <td>91006</td>\n",
       "      <td>0</td>\n",
       "      <td>0</td>\n",
       "      <td>0</td>\n",
       "      <td>0</td>\n",
       "      <td>0</td>\n",
       "      <td>...</td>\n",
       "      <td>0.0</td>\n",
       "      <td>0.0</td>\n",
       "      <td>0.0</td>\n",
       "      <td>0.0</td>\n",
       "      <td>0.0</td>\n",
       "      <td>0.0</td>\n",
       "      <td>0.0</td>\n",
       "      <td>0.0</td>\n",
       "      <td>0.0</td>\n",
       "      <td>0.0</td>\n",
       "    </tr>\n",
       "    <tr>\n",
       "      <th>35334</th>\n",
       "      <td>0</td>\n",
       "      <td>300000.0</td>\n",
       "      <td>https://www.zillow.com/homedetails/427-Orange-...</td>\n",
       "      <td>Irvine</td>\n",
       "      <td>92618</td>\n",
       "      <td>0</td>\n",
       "      <td>1</td>\n",
       "      <td>0</td>\n",
       "      <td>0</td>\n",
       "      <td>0</td>\n",
       "      <td>...</td>\n",
       "      <td>0.0</td>\n",
       "      <td>0.0</td>\n",
       "      <td>0.0</td>\n",
       "      <td>0.0</td>\n",
       "      <td>0.0</td>\n",
       "      <td>0.0</td>\n",
       "      <td>0.0</td>\n",
       "      <td>0.0</td>\n",
       "      <td>0.0</td>\n",
       "      <td>0.0</td>\n",
       "    </tr>\n",
       "    <tr>\n",
       "      <th>35336</th>\n",
       "      <td>0</td>\n",
       "      <td>700000.0</td>\n",
       "      <td>https://www.zillow.com/homedetails/59-Juneberr...</td>\n",
       "      <td>Irvine</td>\n",
       "      <td>92606</td>\n",
       "      <td>0</td>\n",
       "      <td>0</td>\n",
       "      <td>0</td>\n",
       "      <td>0</td>\n",
       "      <td>0</td>\n",
       "      <td>...</td>\n",
       "      <td>0.0</td>\n",
       "      <td>0.0</td>\n",
       "      <td>0.0</td>\n",
       "      <td>0.0</td>\n",
       "      <td>0.0</td>\n",
       "      <td>0.0</td>\n",
       "      <td>0.0</td>\n",
       "      <td>0.0</td>\n",
       "      <td>0.0</td>\n",
       "      <td>0.0</td>\n",
       "    </tr>\n",
       "    <tr>\n",
       "      <th>35340</th>\n",
       "      <td>1</td>\n",
       "      <td>2775000.0</td>\n",
       "      <td>https://www.zillow.com/homedetails/560-S-Silve...</td>\n",
       "      <td>Anaheim</td>\n",
       "      <td>92807</td>\n",
       "      <td>0</td>\n",
       "      <td>0</td>\n",
       "      <td>0</td>\n",
       "      <td>0</td>\n",
       "      <td>0</td>\n",
       "      <td>...</td>\n",
       "      <td>0.0</td>\n",
       "      <td>0.0</td>\n",
       "      <td>0.0</td>\n",
       "      <td>0.0</td>\n",
       "      <td>0.0</td>\n",
       "      <td>0.0</td>\n",
       "      <td>0.0</td>\n",
       "      <td>0.0</td>\n",
       "      <td>0.0</td>\n",
       "      <td>0.0</td>\n",
       "    </tr>\n",
       "    <tr>\n",
       "      <th>35341</th>\n",
       "      <td>1</td>\n",
       "      <td>650000.0</td>\n",
       "      <td>https://www.zillow.com/homedetails/2563-Calle-...</td>\n",
       "      <td>Tustin</td>\n",
       "      <td>92782</td>\n",
       "      <td>0</td>\n",
       "      <td>0</td>\n",
       "      <td>0</td>\n",
       "      <td>0</td>\n",
       "      <td>0</td>\n",
       "      <td>...</td>\n",
       "      <td>0.0</td>\n",
       "      <td>0.0</td>\n",
       "      <td>0.0</td>\n",
       "      <td>0.0</td>\n",
       "      <td>0.0</td>\n",
       "      <td>0.0</td>\n",
       "      <td>0.0</td>\n",
       "      <td>0.0</td>\n",
       "      <td>0.0</td>\n",
       "      <td>0.0</td>\n",
       "    </tr>\n",
       "  </tbody>\n",
       "</table>\n",
       "<p>5 rows × 166 columns</p>\n",
       "</div>"
      ],
      "text/plain": [
       "       sold_date      price  \\\n",
       "35329          0  1568000.0   \n",
       "35334          0   300000.0   \n",
       "35336          0   700000.0   \n",
       "35340          1  2775000.0   \n",
       "35341          1   650000.0   \n",
       "\n",
       "                                              detail_url     city  zipcode  \\\n",
       "35329  https://www.zillow.com/homedetails/1739-Elevad...  Arcadia    91006   \n",
       "35334  https://www.zillow.com/homedetails/427-Orange-...   Irvine    92618   \n",
       "35336  https://www.zillow.com/homedetails/59-Juneberr...   Irvine    92606   \n",
       "35340  https://www.zillow.com/homedetails/560-S-Silve...  Anaheim    92807   \n",
       "35341  https://www.zillow.com/homedetails/2563-Calle-...   Tustin    92782   \n",
       "\n",
       "       Type and Style_[\"Apartment\"]  Type and Style_[\"Condo\"]  \\\n",
       "35329                             0                         0   \n",
       "35334                             0                         1   \n",
       "35336                             0                         0   \n",
       "35340                             0                         0   \n",
       "35341                             0                         0   \n",
       "\n",
       "       Type and Style_[\"Cooperative\"]  Type and Style_[\"Miscellaneous\"]  \\\n",
       "35329                               0                                 0   \n",
       "35334                               0                                 0   \n",
       "35336                               0                                 0   \n",
       "35340                               0                                 0   \n",
       "35341                               0                                 0   \n",
       "\n",
       "       Type and Style_[\"Mobile / Manufactured\"]      ...        yard_\"Garden\"  \\\n",
       "35329                                         0      ...                  0.0   \n",
       "35334                                         0      ...                  0.0   \n",
       "35336                                         0      ...                  0.0   \n",
       "35340                                         0      ...                  0.0   \n",
       "35341                                         0      ...                  0.0   \n",
       "\n",
       "       yard_\"Fenced Yard\"  yard_\"Lawn\"  bath_full  bath_three-quarter  \\\n",
       "35329                 0.0          0.0        0.0                 0.0   \n",
       "35334                 0.0          0.0        0.0                 0.0   \n",
       "35336                 0.0          0.0        0.0                 0.0   \n",
       "35340                 0.0          0.0        0.0                 0.0   \n",
       "35341                 0.0          0.0        0.0                 0.0   \n",
       "\n",
       "       bath_half  high_school  material_\"Double Pane/Storm Windows\"  \\\n",
       "35329        0.0          0.0                                   0.0   \n",
       "35334        0.0          0.0                                   0.0   \n",
       "35336        0.0          0.0                                   0.0   \n",
       "35340        0.0          0.0                                   0.0   \n",
       "35341        0.0          0.0                                   0.0   \n",
       "\n",
       "       material_\"Skylight\"  middle_school  \n",
       "35329                  0.0            0.0  \n",
       "35334                  0.0            0.0  \n",
       "35336                  0.0            0.0  \n",
       "35340                  0.0            0.0  \n",
       "35341                  0.0            0.0  \n",
       "\n",
       "[5 rows x 166 columns]"
      ]
     },
     "execution_count": 59,
     "metadata": {},
     "output_type": "execute_result"
    }
   ],
   "source": [
    "homes_selected.head()"
   ]
  },
  {
   "cell_type": "code",
   "execution_count": 60,
   "metadata": {
    "collapsed": true
   },
   "outputs": [],
   "source": [
    "\n",
    "homes_selected.to_csv('1_selected_1.csv')"
   ]
  },
  {
   "cell_type": "markdown",
   "metadata": {},
   "source": [
    "## 选择重要的列"
   ]
  },
  {
   "cell_type": "code",
   "execution_count": 61,
   "metadata": {},
   "outputs": [],
   "source": [
    "\"\"\"\n",
    "1) sold_date                      0.477267\n",
    " 2) zipcode                        0.204374\n",
    " 3) num                            0.037938\n",
    " 4) Type and Style_[\"Apartment\"]   0.034041\n",
    " 5) Type and Style_[\"Condo\"]       0.019519\n",
    " 6) Type and Style_[\"Cooperative\"] 0.017182\n",
    " 7) Type and Style_[\"Miscellaneous\"] 0.015473\n",
    " 8) Type and Style_[\"Mobile / Manufactured\"] 0.015113\n",
    " 9) Type and Style_[\"Multi Family\"] 0.013602\n",
    "10) Type and Style_[\"Multiple Occupancy\"] 0.012124\n",
    "11) Type and Style_[\"Other\"]       0.011731\n",
    "12) Type and Style_[\"Single Family\"] 0.010860\n",
    "13) Type and Style_[\"Townhouse\"]   0.009640\n",
    "14) size                           0.009491\n",
    "15) Beds                           0.006890\n",
    "16) built_date                     0.006682\n",
    "17) unit_count                     0.006622\n",
    "18) lot                            0.005707\n",
    "19) garage_num                     0.005373\n",
    "20) stories                        0.004376\n",
    "21) heat_zoned                     0.003877\n",
    "22) heat_wall                      0.003675\n",
    "23) heat_stove                     0.002991\n",
    "24) heat_baseborad                 0.002942\n",
    "25) heat_floor                     0.002695\n",
    "26) heat_gravity                   0.002072\n",
    "\"\"\"\n",
    "homes_selected_c = homes_selected[['sold_date','detail_url', 'price', 'zipcode', 'Type and Style_[\"Apartment\"]', 'Type and Style_[\"Condo\"]', 'Type and Style_[\"Cooperative\"]', \n",
    "                         'Type and Style_[\"Miscellaneous\"]', 'Type and Style_[\"Mobile / Manufactured\"]',\n",
    "                        'Type and Style_[\"Multi Family\"]', 'Type and Style_[\"Multiple Occupancy\"]',\n",
    "                        'Type and Style_[\"Other\"]', 'Type and Style_[\"Single Family\"]', 'Type and Style_[\"Townhouse\"]', \n",
    "                        'size', 'Beds', 'built_date', 'unit_count', 'lot', 'garage_num', 'stories', 'heat_zoned', \n",
    "                        'heat_wall', 'heat_stove', 'heat_baseborad', 'heat_floor', 'heat_gravity']]\n"
   ]
  },
  {
   "cell_type": "code",
   "execution_count": 63,
   "metadata": {},
   "outputs": [
    {
     "data": {
      "text/plain": [
       "(45152, 27)"
      ]
     },
     "execution_count": 63,
     "metadata": {},
     "output_type": "execute_result"
    }
   ],
   "source": [
    "homes_selected_c.shape"
   ]
  },
  {
   "cell_type": "code",
   "execution_count": 64,
   "metadata": {
    "collapsed": true
   },
   "outputs": [],
   "source": [
    "homes_selected_c.to_csv('1_selected_2.csv')"
   ]
  },
  {
   "cell_type": "markdown",
   "metadata": {},
   "source": [
    "## 填缺失值"
   ]
  },
  {
   "cell_type": "code",
   "execution_count": 65,
   "metadata": {},
   "outputs": [
    {
     "data": {
      "text/html": [
       "<div>\n",
       "<style scoped>\n",
       "    .dataframe tbody tr th:only-of-type {\n",
       "        vertical-align: middle;\n",
       "    }\n",
       "\n",
       "    .dataframe tbody tr th {\n",
       "        vertical-align: top;\n",
       "    }\n",
       "\n",
       "    .dataframe thead th {\n",
       "        text-align: right;\n",
       "    }\n",
       "</style>\n",
       "<table border=\"1\" class=\"dataframe\">\n",
       "  <thead>\n",
       "    <tr style=\"text-align: right;\">\n",
       "      <th></th>\n",
       "      <th>sold_date</th>\n",
       "      <th>detail_url</th>\n",
       "      <th>price</th>\n",
       "      <th>zipcode</th>\n",
       "      <th>Type and Style_[\"Apartment\"]</th>\n",
       "      <th>Type and Style_[\"Condo\"]</th>\n",
       "      <th>Type and Style_[\"Cooperative\"]</th>\n",
       "      <th>Type and Style_[\"Miscellaneous\"]</th>\n",
       "      <th>Type and Style_[\"Mobile / Manufactured\"]</th>\n",
       "      <th>Type and Style_[\"Multi Family\"]</th>\n",
       "      <th>...</th>\n",
       "      <th>unit_count</th>\n",
       "      <th>lot</th>\n",
       "      <th>garage_num</th>\n",
       "      <th>stories</th>\n",
       "      <th>heat_zoned</th>\n",
       "      <th>heat_wall</th>\n",
       "      <th>heat_stove</th>\n",
       "      <th>heat_baseborad</th>\n",
       "      <th>heat_floor</th>\n",
       "      <th>heat_gravity</th>\n",
       "    </tr>\n",
       "  </thead>\n",
       "  <tbody>\n",
       "    <tr>\n",
       "      <th>35329</th>\n",
       "      <td>0</td>\n",
       "      <td>https://www.zillow.com/homedetails/1739-Elevad...</td>\n",
       "      <td>1568000.0</td>\n",
       "      <td>91006</td>\n",
       "      <td>0</td>\n",
       "      <td>0</td>\n",
       "      <td>0</td>\n",
       "      <td>0</td>\n",
       "      <td>0</td>\n",
       "      <td>0</td>\n",
       "      <td>...</td>\n",
       "      <td>1.0</td>\n",
       "      <td>1350360.0</td>\n",
       "      <td>2.0</td>\n",
       "      <td>1.0</td>\n",
       "      <td>0.0</td>\n",
       "      <td>0.0</td>\n",
       "      <td>0.0</td>\n",
       "      <td>0.0</td>\n",
       "      <td>0.0</td>\n",
       "      <td>0.0</td>\n",
       "    </tr>\n",
       "    <tr>\n",
       "      <th>35334</th>\n",
       "      <td>0</td>\n",
       "      <td>https://www.zillow.com/homedetails/427-Orange-...</td>\n",
       "      <td>300000.0</td>\n",
       "      <td>92618</td>\n",
       "      <td>0</td>\n",
       "      <td>1</td>\n",
       "      <td>0</td>\n",
       "      <td>0</td>\n",
       "      <td>0</td>\n",
       "      <td>0</td>\n",
       "      <td>...</td>\n",
       "      <td>NaN</td>\n",
       "      <td>NaN</td>\n",
       "      <td>NaN</td>\n",
       "      <td>NaN</td>\n",
       "      <td>0.0</td>\n",
       "      <td>0.0</td>\n",
       "      <td>0.0</td>\n",
       "      <td>0.0</td>\n",
       "      <td>0.0</td>\n",
       "      <td>0.0</td>\n",
       "    </tr>\n",
       "    <tr>\n",
       "      <th>35336</th>\n",
       "      <td>0</td>\n",
       "      <td>https://www.zillow.com/homedetails/59-Juneberr...</td>\n",
       "      <td>700000.0</td>\n",
       "      <td>92606</td>\n",
       "      <td>0</td>\n",
       "      <td>0</td>\n",
       "      <td>0</td>\n",
       "      <td>0</td>\n",
       "      <td>0</td>\n",
       "      <td>0</td>\n",
       "      <td>...</td>\n",
       "      <td>0.0</td>\n",
       "      <td>2125.0</td>\n",
       "      <td>2.0</td>\n",
       "      <td>NaN</td>\n",
       "      <td>0.0</td>\n",
       "      <td>0.0</td>\n",
       "      <td>0.0</td>\n",
       "      <td>0.0</td>\n",
       "      <td>0.0</td>\n",
       "      <td>0.0</td>\n",
       "    </tr>\n",
       "    <tr>\n",
       "      <th>35340</th>\n",
       "      <td>1</td>\n",
       "      <td>https://www.zillow.com/homedetails/560-S-Silve...</td>\n",
       "      <td>2775000.0</td>\n",
       "      <td>92807</td>\n",
       "      <td>0</td>\n",
       "      <td>0</td>\n",
       "      <td>0</td>\n",
       "      <td>0</td>\n",
       "      <td>0</td>\n",
       "      <td>0</td>\n",
       "      <td>...</td>\n",
       "      <td>0.0</td>\n",
       "      <td>2265120.0</td>\n",
       "      <td>2.0</td>\n",
       "      <td>2.0</td>\n",
       "      <td>0.0</td>\n",
       "      <td>0.0</td>\n",
       "      <td>0.0</td>\n",
       "      <td>0.0</td>\n",
       "      <td>0.0</td>\n",
       "      <td>0.0</td>\n",
       "    </tr>\n",
       "    <tr>\n",
       "      <th>35341</th>\n",
       "      <td>1</td>\n",
       "      <td>https://www.zillow.com/homedetails/2563-Calle-...</td>\n",
       "      <td>650000.0</td>\n",
       "      <td>92782</td>\n",
       "      <td>0</td>\n",
       "      <td>0</td>\n",
       "      <td>0</td>\n",
       "      <td>0</td>\n",
       "      <td>0</td>\n",
       "      <td>0</td>\n",
       "      <td>...</td>\n",
       "      <td>0.0</td>\n",
       "      <td>2221.0</td>\n",
       "      <td>2.0</td>\n",
       "      <td>NaN</td>\n",
       "      <td>0.0</td>\n",
       "      <td>0.0</td>\n",
       "      <td>0.0</td>\n",
       "      <td>0.0</td>\n",
       "      <td>0.0</td>\n",
       "      <td>0.0</td>\n",
       "    </tr>\n",
       "  </tbody>\n",
       "</table>\n",
       "<p>5 rows × 27 columns</p>\n",
       "</div>"
      ],
      "text/plain": [
       "       sold_date                                         detail_url  \\\n",
       "35329          0  https://www.zillow.com/homedetails/1739-Elevad...   \n",
       "35334          0  https://www.zillow.com/homedetails/427-Orange-...   \n",
       "35336          0  https://www.zillow.com/homedetails/59-Juneberr...   \n",
       "35340          1  https://www.zillow.com/homedetails/560-S-Silve...   \n",
       "35341          1  https://www.zillow.com/homedetails/2563-Calle-...   \n",
       "\n",
       "           price  zipcode  Type and Style_[\"Apartment\"]  \\\n",
       "35329  1568000.0    91006                             0   \n",
       "35334   300000.0    92618                             0   \n",
       "35336   700000.0    92606                             0   \n",
       "35340  2775000.0    92807                             0   \n",
       "35341   650000.0    92782                             0   \n",
       "\n",
       "       Type and Style_[\"Condo\"]  Type and Style_[\"Cooperative\"]  \\\n",
       "35329                         0                               0   \n",
       "35334                         1                               0   \n",
       "35336                         0                               0   \n",
       "35340                         0                               0   \n",
       "35341                         0                               0   \n",
       "\n",
       "       Type and Style_[\"Miscellaneous\"]  \\\n",
       "35329                                 0   \n",
       "35334                                 0   \n",
       "35336                                 0   \n",
       "35340                                 0   \n",
       "35341                                 0   \n",
       "\n",
       "       Type and Style_[\"Mobile / Manufactured\"]  \\\n",
       "35329                                         0   \n",
       "35334                                         0   \n",
       "35336                                         0   \n",
       "35340                                         0   \n",
       "35341                                         0   \n",
       "\n",
       "       Type and Style_[\"Multi Family\"]      ...       unit_count        lot  \\\n",
       "35329                                0      ...              1.0  1350360.0   \n",
       "35334                                0      ...              NaN        NaN   \n",
       "35336                                0      ...              0.0     2125.0   \n",
       "35340                                0      ...              0.0  2265120.0   \n",
       "35341                                0      ...              0.0     2221.0   \n",
       "\n",
       "       garage_num  stories  heat_zoned  heat_wall  heat_stove  heat_baseborad  \\\n",
       "35329         2.0      1.0         0.0        0.0         0.0             0.0   \n",
       "35334         NaN      NaN         0.0        0.0         0.0             0.0   \n",
       "35336         2.0      NaN         0.0        0.0         0.0             0.0   \n",
       "35340         2.0      2.0         0.0        0.0         0.0             0.0   \n",
       "35341         2.0      NaN         0.0        0.0         0.0             0.0   \n",
       "\n",
       "       heat_floor  heat_gravity  \n",
       "35329         0.0           0.0  \n",
       "35334         0.0           0.0  \n",
       "35336         0.0           0.0  \n",
       "35340         0.0           0.0  \n",
       "35341         0.0           0.0  \n",
       "\n",
       "[5 rows x 27 columns]"
      ]
     },
     "execution_count": 65,
     "metadata": {},
     "output_type": "execute_result"
    }
   ],
   "source": [
    "homes_selected_c.head()"
   ]
  },
  {
   "cell_type": "code",
   "execution_count": 66,
   "metadata": {},
   "outputs": [],
   "source": [
    "homes_selected_c.pop('detail_url')\n",
    "homes_fill = homes_selected_c.fillna(homes_selected_c.mean())"
   ]
  },
  {
   "cell_type": "markdown",
   "metadata": {},
   "source": [
    "## normalization"
   ]
  },
  {
   "cell_type": "code",
   "execution_count": 67,
   "metadata": {},
   "outputs": [],
   "source": [
    "homes_5 = homes_fill.copy()\n",
    "price = homes_5.pop('price')\n",
    "logerror_df = np.log(price)\n",
    "diff = logerror_df.max() - logerror_df.min()\n",
    "logerror_df = (logerror_df - logerror_df.min()) * 1.0 / diff\n",
    "transactiondate_df = homes_5.sold_date.copy()\n",
    "homes_5 = (homes_5 - homes_5.min()) * 1.0/ (homes_5.max() - homes_5.min())\n",
    "import pickle\n",
    "data = {'logerror_df': logerror_df, 'train_df': homes_5, 'transactiondate_df': transactiondate_df}\n",
    "with open('zillow-model-data-original-10', 'wb') as f:\n",
    "    pickle.dump(data, f)"
   ]
  },
  {
   "cell_type": "code",
   "execution_count": 68,
   "metadata": {},
   "outputs": [
    {
     "data": {
      "text/plain": [
       "3.7562125741825234"
      ]
     },
     "execution_count": 68,
     "metadata": {},
     "output_type": "execute_result"
    }
   ],
   "source": [
    "diff"
   ]
  },
  {
   "cell_type": "code",
   "execution_count": 69,
   "metadata": {},
   "outputs": [
    {
     "data": {
      "text/plain": [
       "False"
      ]
     },
     "execution_count": 69,
     "metadata": {},
     "output_type": "execute_result"
    }
   ],
   "source": [
    "homes_5.isna().any().any()"
   ]
  },
  {
   "cell_type": "code",
   "execution_count": 70,
   "metadata": {},
   "outputs": [
    {
     "data": {
      "text/plain": [
       "(45152, 25)"
      ]
     },
     "execution_count": 70,
     "metadata": {},
     "output_type": "execute_result"
    }
   ],
   "source": [
    "homes_5.shape"
   ]
  },
  {
   "cell_type": "code",
   "execution_count": null,
   "metadata": {
    "collapsed": true
   },
   "outputs": [],
   "source": []
  }
 ],
 "metadata": {
  "kernelspec": {
   "display_name": "Python 2",
   "language": "python",
   "name": "python2"
  },
  "language_info": {
   "codemirror_mode": {
    "name": "ipython",
    "version": 2
   },
   "file_extension": ".py",
   "mimetype": "text/x-python",
   "name": "python",
   "nbconvert_exporter": "python",
   "pygments_lexer": "ipython2",
   "version": "2.7.10"
  }
 },
 "nbformat": 4,
 "nbformat_minor": 2
}
