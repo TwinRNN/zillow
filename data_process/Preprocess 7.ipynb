{
 "cells": [
  {
   "cell_type": "code",
   "execution_count": 2,
   "metadata": {
    "collapsed": true
   },
   "outputs": [],
   "source": [
    "import pandas as pd\n",
    "from datetime import datetime\n",
    "import numpy as np\n",
    "import re\n",
    "from pandas import DataFrame, Series"
   ]
  },
  {
   "cell_type": "code",
   "execution_count": 20,
   "metadata": {
    "scrolled": false
   },
   "outputs": [],
   "source": [
    "file_path = '/Users/kaiyanpeng/Documents/Jan/Data/bk/homes_final.csv'\n",
    "temp = pd.read_csv(file_path)"
   ]
  },
  {
   "cell_type": "code",
   "execution_count": 21,
   "metadata": {},
   "outputs": [],
   "source": [
    "# 去掉缺失值>0.1的列 \n",
    "temp = temp.loc[:, temp.count() * 1.0 / len(temp) > 0.1]"
   ]
  },
  {
   "cell_type": "code",
   "execution_count": 22,
   "metadata": {
    "collapsed": true
   },
   "outputs": [],
   "source": [
    "# 去掉特定列\n",
    "to_drop = ['Z_estimate', 'Last sold',\n",
    "           'Green Energy','Parcel #', 'Last sale price/sqft', 'Country', 'CountyOrParish','num']\n",
    "temp = temp.drop(to_drop, axis=1)"
   ]
  },
  {
   "cell_type": "code",
   "execution_count": 23,
   "metadata": {},
   "outputs": [
    {
     "data": {
      "text/plain": [
       "(817179, 61)"
      ]
     },
     "execution_count": 23,
     "metadata": {},
     "output_type": "execute_result"
    }
   ],
   "source": [
    "temp.shape"
   ]
  },
  {
   "cell_type": "code",
   "execution_count": 24,
   "metadata": {},
   "outputs": [
    {
     "data": {
      "text/plain": [
       "(230049, 61)"
      ]
     },
     "execution_count": 24,
     "metadata": {},
     "output_type": "execute_result"
    }
   ],
   "source": [
    "# 去掉重复行\n",
    "# temp.drop_duplicates(['sold_date', 'price', 'address', 'detail_url'], inplace=True)\n",
    "temp.drop_duplicates(['sold_date', 'price', 'address'], inplace=True)\n",
    "temp.shape"
   ]
  },
  {
   "cell_type": "markdown",
   "metadata": {},
   "source": [
    "# 处理时间、价格"
   ]
  },
  {
   "cell_type": "code",
   "execution_count": 25,
   "metadata": {},
   "outputs": [
    {
     "data": {
      "text/plain": [
       "(226328, 61)"
      ]
     },
     "execution_count": 25,
     "metadata": {},
     "output_type": "execute_result"
    }
   ],
   "source": [
    "pattern = '\\d{1,2}\\/\\d{1,2}\\/\\d{1,2}'\n",
    "\n",
    "def cleantime(x):\n",
    "    if re.match(pattern, x):\n",
    "        return datetime.strptime(x, '%m/%d/%Y')\n",
    "    else:\n",
    "        return np.NAN\n",
    "\n",
    "temp['sold_date'] = temp['sold_date'].map(cleantime)\n",
    "temp = temp[temp['sold_date'].notnull()]\n",
    "temp = temp[temp.price.notnull()]\n",
    "\n",
    "def cleanprice(x):\n",
    "    c = filter(str.isdigit, x.strip('$'))\n",
    "    if c == '':\n",
    "        return np.nan\n",
    "    else:\n",
    "        return int(c)\n",
    "temp.price = temp['price'].map(cleanprice)\n",
    "temp =  temp[ temp['price'].notnull()]\n",
    "\n",
    "temp = temp.sort_values(by = 'sold_date')\n",
    "temp.index = np.arange(len(temp)) + 1\n",
    "temp.shape"
   ]
  },
  {
   "cell_type": "markdown",
   "metadata": {},
   "source": [
    "# 处理address"
   ]
  },
  {
   "cell_type": "code",
   "execution_count": 26,
   "metadata": {
    "collapsed": true
   },
   "outputs": [],
   "source": [
    "def clean_address(x):\n",
    "    c =x.split(', ')\n",
    "    cc = c[2].split(' ')[1]\n",
    "    return Series([c[1], cc], index=['city', 'zipcode'])\n",
    "\n",
    "address = temp['address'].map(clean_address)\n",
    "temp['city'] = address.map(lambda x: x['city'])\n",
    "temp['zipcode'] = address.map(lambda x: x['zipcode'])"
   ]
  },
  {
   "cell_type": "code",
   "execution_count": 27,
   "metadata": {},
   "outputs": [
    {
     "data": {
      "text/plain": [
       "7683      175 Compass Irvine Ca # 92618, Irvine, CA \n",
       "220662                    7038 Hilo Ave, Tahoma, CA \n",
       "221940               468-5 Lambert Ln, Standish, CA \n",
       "222051                  11555 Kyburz Dr, Kyburz, CA \n",
       "222722                 105 Hemlock St, Westwood, CA \n",
       "Name: address, dtype: object"
      ]
     },
     "execution_count": 27,
     "metadata": {},
     "output_type": "execute_result"
    }
   ],
   "source": [
    "temp.address[temp.zipcode == '']"
   ]
  },
  {
   "cell_type": "code",
   "execution_count": 28,
   "metadata": {
    "collapsed": true
   },
   "outputs": [
    {
     "name": "stderr",
     "output_type": "stream",
     "text": [
      "/Users/kaiyanpeng/Library/Python/2.7/lib/python/site-packages/ipykernel_launcher.py:7: SettingWithCopyWarning: \n",
      "A value is trying to be set on a copy of a slice from a DataFrame\n",
      "\n",
      "See the caveats in the documentation: http://pandas.pydata.org/pandas-docs/stable/indexing.html#indexing-view-versus-copy\n",
      "  import sys\n",
      "/Users/kaiyanpeng/Library/Python/2.7/lib/python/site-packages/ipykernel_launcher.py:8: SettingWithCopyWarning: \n",
      "A value is trying to be set on a copy of a slice from a DataFrame\n",
      "\n",
      "See the caveats in the documentation: http://pandas.pydata.org/pandas-docs/stable/indexing.html#indexing-view-versus-copy\n",
      "  \n",
      "/Users/kaiyanpeng/Library/Python/2.7/lib/python/site-packages/ipykernel_launcher.py:9: SettingWithCopyWarning: \n",
      "A value is trying to be set on a copy of a slice from a DataFrame\n",
      "\n",
      "See the caveats in the documentation: http://pandas.pydata.org/pandas-docs/stable/indexing.html#indexing-view-versus-copy\n",
      "  if __name__ == '__main__':\n",
      "/Users/kaiyanpeng/Library/Python/2.7/lib/python/site-packages/ipykernel_launcher.py:10: SettingWithCopyWarning: \n",
      "A value is trying to be set on a copy of a slice from a DataFrame\n",
      "\n",
      "See the caveats in the documentation: http://pandas.pydata.org/pandas-docs/stable/indexing.html#indexing-view-versus-copy\n",
      "  # Remove the CWD from sys.path while we load stuff.\n",
      "/Users/kaiyanpeng/Library/Python/2.7/lib/python/site-packages/ipykernel_launcher.py:11: SettingWithCopyWarning: \n",
      "A value is trying to be set on a copy of a slice from a DataFrame\n",
      "\n",
      "See the caveats in the documentation: http://pandas.pydata.org/pandas-docs/stable/indexing.html#indexing-view-versus-copy\n",
      "  # This is added back by InteractiveShellApp.init_path()\n"
     ]
    }
   ],
   "source": [
    "\"\"\"处理zipcode中的缺失值\n",
    "175 Compass Irvine Ca # 92618, Irvine, CA :92618\n",
    "'7038 Hilo Ave, Tahoma, CA ' 96142\n",
    "'468-5 Lambert Ln, Standish, CA ' 96128\n",
    "'11555 Kyburz Dr, Kyburz, CA ' 95720\n",
    "'105 Hemlock St, Westwood, CA ' 96137\"\"\"\n",
    "temp.zipcode[7683] = 92618\n",
    "temp.zipcode[220662] = 96142\n",
    "temp.zipcode[221940] = 96128\n",
    "temp.zipcode[222051] = 95720\n",
    "temp.zipcode[222722] = 96137"
   ]
  },
  {
   "cell_type": "code",
   "execution_count": 29,
   "metadata": {},
   "outputs": [],
   "source": [
    "temp.to_csv('1_all_1.csv')"
   ]
  },
  {
   "cell_type": "code",
   "execution_count": 18,
   "metadata": {},
   "outputs": [
    {
     "data": {
      "text/plain": [
       "(226729, 63)"
      ]
     },
     "execution_count": 18,
     "metadata": {},
     "output_type": "execute_result"
    }
   ],
   "source": [
    "temp.shape"
   ]
  },
  {
   "cell_type": "code",
   "execution_count": null,
   "metadata": {
    "collapsed": true
   },
   "outputs": [],
   "source": []
  }
 ],
 "metadata": {
  "kernelspec": {
   "display_name": "Python 2",
   "language": "python",
   "name": "python2"
  },
  "language_info": {
   "codemirror_mode": {
    "name": "ipython",
    "version": 2
   },
   "file_extension": ".py",
   "mimetype": "text/x-python",
   "name": "python",
   "nbconvert_exporter": "python",
   "pygments_lexer": "ipython2",
   "version": "2.7.10"
  }
 },
 "nbformat": 4,
 "nbformat_minor": 2
}
